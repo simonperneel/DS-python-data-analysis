{
 "cells": [
  {
   "cell_type": "markdown",
   "source": [
    "# Case: Criminal location tracking\n",
    "**Context**\n",
    "\n",
    "> *During several home searches by the Dutch police, phones were confiscated. After examining these phones, they were found to contain GPS information. It is believed that these two individuals met. Given the importance of the criminal investigation, can you find out the exact spot where these two individuals met?*\n",
    "\n",
    "The solutions is broken down into the following steps:\n",
    "1. Read in the location data\n",
    "2. Visualize the route of the two criminals on a map\n",
    "3. Get the exact times and coordinates when they met\n",
    "\n",
    "\n",
    "<br><details><summary>Hints</summary>\n",
    "\n",
    "- Sometimes one criminal is standing still for a while, when the other one is moving!\n",
    "- Animate the route of the criminals during the day, to see where they are at what time\n",
    "\n",
    "</div>\n",
    "\n",
    "\n",
    "<small> source: [https://www.crimediggers.nl/]() </small>\n"
   ],
   "metadata": {
    "collapsed": false
   }
  },
  {
   "cell_type": "code",
   "execution_count": null,
   "metadata": {
    "collapsed": true
   },
   "outputs": [],
   "source": [
    "# Import libraries\n",
    "import pandas as pd\n",
    "import numpy as np"
   ]
  },
  {
   "cell_type": "markdown",
   "source": [
    "## 1. Read in the location data\n",
    "- check which columns are in it, and the data types\n",
    "- convert the datetime column to datetime type\n",
    "- check if there are any missing values\n",
    "- order the data chronologically with `sort_values`"
   ],
   "metadata": {
    "collapsed": false
   }
  },
  {
   "cell_type": "code",
   "execution_count": null,
   "outputs": [],
   "source": [
    "# Read in the data in the /data/ folder\n",
    "gps1 = pd.read_csv('./data/GPS_1.csv', parse_dates=['datetime'])\n",
    "gps2 = pd.read_csv('./data/GPS_2.csv', parse_dates=['datetime'])\n",
    "\n",
    "# Check the columns and data types\n",
    "print(gps1.info())\n",
    "\n",
    "# Sort the data chronologically\n",
    "gps1 = gps1.sort_values(by='datetime')\n",
    "gps2 = gps2.sort_values(by='datetime')\n",
    "\n",
    "gps.head()"
   ],
   "metadata": {
    "collapsed": false
   }
  },
  {
   "cell_type": "markdown",
   "source": [
    "## 2. Visualize the route of the two criminals on a map\n",
    "For data visualisation, the `plotly.express` libary is a great choice. It is a high-level library that is widely used. You can find documentation [here](https://plotly.com/python/).\n",
    "\n",
    "\n",
    "<br><details><summary>Hint 1</summary>\n",
    "\n",
    "- use `px.scatter_mapbox()` to create a map\n",
    "- check the parameters of `px.scatter_mapbox()` function to customize your map\n",
    "</details> \n",
    "\n",
    "</div>\n",
    "\n",
    "<br><details><summary>Hint 2</summary>\n",
    "\n",
    "- You can animate the map by adding the parameter `animation_frame` to the `px.scatter_mapbox()` function\n",
    "\n",
    "</div>"
   ],
   "metadata": {
    "collapsed": false
   }
  },
  {
   "cell_type": "code",
   "execution_count": null,
   "outputs": [],
   "source": [
    "# Import libraries for visualisation\n",
    "import plotly.express as px\n",
    "import plotly.graph_objects as go"
   ],
   "metadata": {
    "collapsed": false
   }
  },
  {
   "cell_type": "markdown",
   "source": [
    "### Criminal 1"
   ],
   "metadata": {
    "collapsed": false
   }
  },
  {
   "cell_type": "code",
   "execution_count": null,
   "outputs": [],
   "source": [
    "# Make sure the data is sorted by time (if not already sorted)\n",
    "# Create an animated map using Plotly\n",
    "gps1['time'] = gps1['datetime'].dt.time\n",
    "gps2['time'] = gps2['datetime'].dt.time\n",
    "\n",
    "fig = px.scatter_mapbox(\n",
    "    gps1,\n",
    "    lat='latitude',\n",
    "    lon='longitude',\n",
    "    hover_name='time',\n",
    "    mapbox_style='carto-positron',\n",
    "    title='Route of criminal 1 in Amsterdam',\n",
    "    zoom=13\n",
    ")\n",
    "\n",
    "# Customize the appearance of the map if needed\n",
    "fig.update_layout(\n",
    "    height=600,\n",
    "    margin={'r': 0, 't': 40, 'l': 0, 'b': 0},\n",
    "    autosize=True,\n",
    ")\n",
    "\n",
    "fig.update_traces(marker_color='blue')\n",
    "\n",
    "fig.show()"
   ],
   "metadata": {
    "collapsed": false
   }
  },
  {
   "cell_type": "markdown",
   "source": [
    "### Criminal 2\n",
    "Copy your code from the previous cell and change the dataframe to `gps2` to plot the route of criminal 2."
   ],
   "metadata": {
    "collapsed": false
   }
  },
  {
   "cell_type": "code",
   "execution_count": null,
   "outputs": [],
   "source": [
    "fig = px.scatter_mapbox(\n",
    "    gps2,\n",
    "    lat='latitude',\n",
    "    lon='longitude',\n",
    "    hover_name='time',\n",
    "    mapbox_style='carto-positron',\n",
    "    title='Route of criminal 2 in Amsterdam',\n",
    "    zoom=13,)\n",
    "\n",
    "# Customize the appearance of the map if needed\n",
    "fig.update_layout(\n",
    "    height=600,\n",
    "    margin={'r': 0, 't': 40, 'l': 0, 'b': 0},\n",
    "    autosize=True,\n",
    ")\n",
    "\n",
    "# Change trace color\n",
    "fig.update_traces(marker_color='blue')\n",
    "fig.show()"
   ],
   "metadata": {
    "collapsed": false
   }
  },
  {
   "cell_type": "markdown",
   "source": [
    "### Plot route of both criminals on one map to see which places they have in common. \n",
    "\n",
    "<br><details><summary>Hint</summary>\n",
    "    - add a new column to each dataframe with the name of the criminal\n",
    "    - use `pd.concat()` to merge the two dataframes\n",
    "    - use `px.line_mapbox()` to create a map\n",
    "    \n",
    "</div>\n",
    "\n",
    "<br><details><summary>Hint</summary>\n",
    "    - use the `color` parameter to color the routes differently\n",
    "    \n",
    "</div>"
   ],
   "metadata": {
    "collapsed": false
   }
  },
  {
   "cell_type": "markdown",
   "source": [
    "You will see that the two criminals share common places. But when where they at the same place **at the same time?** You can manually check for each point, but that is not very efficient. In section 3, we will try to find the exact time and place where they met."
   ],
   "metadata": {
    "collapsed": false
   }
  },
  {
   "cell_type": "code",
   "execution_count": null,
   "outputs": [],
   "source": [
    "# Add a column with the name of the criminal\n",
    "gps1['suspect'] = '1'\n",
    "gps2['suspect'] = '2'\n",
    "\n",
    "# Take the two dataframes together in one dataframe\n",
    "gps = pd.concat([gps1, gps2], axis=0)\n",
    "gps = gps.sort_values(by='datetime')\n",
    "gps['time'] = gps['datetime'].dt.time\n",
    "\n",
    "# Visualize both routes on one map using the 'color' argument\n",
    "fig = px.line_mapbox(\n",
    "    gps,\n",
    "    lat='latitude',\n",
    "    lon='longitude',\n",
    "    mapbox_style='carto-positron',\n",
    "    hover_name='datetime',\n",
    "    title='Route of criminals in Amsterdam',\n",
    "    color='suspect',\n",
    "    zoom=13,\n",
    ")\n",
    "\n",
    "# change height\n",
    "fig.update_layout(\n",
    "    height=600, \n",
    "    margin={'r': 0, 't': 40, 'l': 0, 'b': 0},\n",
    ")\n"
   ],
   "metadata": {
    "collapsed": false
   }
  },
  {
   "cell_type": "markdown",
   "source": [
    "## 3. Get the exact time and coordinates when they met"
   ],
   "metadata": {
    "collapsed": false
   }
  },
  {
   "cell_type": "markdown",
   "source": [
    "We want to use the `merge_ordered` function of pandas to take the gps data together. It merges the two gps location data together on the datetime column. The fill_method parameter of the function ensures that the last known location of suspect 2 is put together with the location of suspect 1. \n"
   ],
   "metadata": {
    "collapsed": false
   }
  },
  {
   "cell_type": "code",
   "execution_count": null,
   "outputs": [],
   "source": [
    "# Calculate the distance between the two criminals for each point in time\n",
    "# To calculate the distance between two gps points, we can use the geodesic fuction of the geopy library\n",
    "from geopy.distance import geodesic\n",
    "\n",
    "# First merge_asof gps1 and gps2 on datetime\n",
    "gps1 = gps1.sort_values(by='datetime')\n",
    "gps2 = gps2.sort_values(by='datetime')\n",
    "\n",
    "gps_merged = pd.merge_ordered(gps1, gps2, on='datetime', fill_method='ffill', suffixes=['_suspect_1', '_suspect_2'])\n",
    "gps_merged[['longitude_suspect_1', 'latitude_suspect_1', 'longitude_suspect_2', 'latitude_suspect_2']] = gps_merged[['longitude_suspect_1', 'latitude_suspect_1', 'longitude_suspect_2', 'latitude_suspect_2']].fillna(0)\n",
    "\n",
    "# New column with the distance between the two criminals (in meters)\n",
    "gps_merged['distance'] = gps_merged.apply(lambda x: geodesic((x['latitude_suspect_1'], x['longitude_suspect_1']), (x['latitude_suspect_2'], x['longitude_suspect_2'])).meters, axis=1)"
   ],
   "metadata": {
    "collapsed": false
   }
  },
  {
   "cell_type": "markdown",
   "source": [
    "## 4. Solution\n",
    "At 16:15 and 16:30, Suspect 1 and Suspect 2 moved respectively in direction of Vondelpark. But while Suspect 1 passed directly through Vondelstraat, Suspect 2 preferred a longer way to go via Overtoom street (which is longer). Suspect 1 stopped at 16:50 at the spot in RED in the Figure waiting for Suspect 2. He probably turned off his phone then (hence the time gap in the data). Suspect 2 arrived at the same spot around 17:10. He moved immediately to home which reached he reached at 18:00."
   ],
   "metadata": {
    "collapsed": false
   }
  },
  {
   "cell_type": "code",
   "execution_count": null,
   "outputs": [],
   "source": [
    "# Get point in time when the two criminals were closest to each other\n",
    "meeting_point = gps_merged[gps_merged['distance'] == gps_merged['distance'].min()]\n",
    "\n",
    "print(f'The two criminals were closest to each other at {meeting_point[\"datetime\"].iloc[0].time()}. At that time, they were {round(meeting_point[\"distance\"].iloc[0], 2)} meters from each other.')"
   ],
   "metadata": {
    "collapsed": false
   }
  },
  {
   "cell_type": "code",
   "execution_count": null,
   "outputs": [],
   "source": [
    "# Plot the meeting point on a map\n",
    "fig = px.scatter_mapbox(\n",
    "    gps,\n",
    "    lat='latitude',\n",
    "    lon='longitude',\n",
    "    hover_name='time',\n",
    "    mapbox_style='carto-positron',\n",
    "    title='Meeting point',\n",
    "    zoom=17,\n",
    "    color='suspect',\n",
    "    center={'lat': 52.3605, 'lon': 4.8745},\n",
    "    height=800,\n",
    ")\n",
    "\n",
    "# Draw a circle around meeting point \n",
    "fig.add_trace(\n",
    "    go.Scattermapbox(\n",
    "        lat=meeting_point['latitude_suspect_1'],\n",
    "        lon=meeting_point['longitude_suspect_1'],\n",
    "        mode='markers',\n",
    "        marker=go.scattermapbox.Marker(\n",
    "            size=60,\n",
    "            color='orange',\n",
    "            opacity=0.4\n",
    "        ),\n",
    "        text=['Meeting point'],\n",
    "        hoverinfo='text'\n",
    "    )\n",
    ")\n",
    "\n",
    "fig.show()"
   ],
   "metadata": {
    "collapsed": false
   }
  },
  {
   "cell_type": "code",
   "execution_count": null,
   "outputs": [],
   "source": [],
   "metadata": {
    "collapsed": false
   }
  }
 ],
 "metadata": {
  "kernelspec": {
   "display_name": "Python 3",
   "language": "python",
   "name": "python3"
  },
  "language_info": {
   "codemirror_mode": {
    "name": "ipython",
    "version": 2
   },
   "file_extension": ".py",
   "mimetype": "text/x-python",
   "name": "python",
   "nbconvert_exporter": "python",
   "pygments_lexer": "ipython2",
   "version": "2.7.6"
  }
 },
 "nbformat": 4,
 "nbformat_minor": 0
}
