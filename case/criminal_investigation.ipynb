{
 "cells": [
  {
   "cell_type": "markdown",
   "metadata": {},
   "source": [
    "# Case: Criminal location tracking\n",
    "**Context**\n",
    "\n",
    "> *During several home searches by the Dutch police, phones were confiscated. After examining these phones, they were found to contain GPS information. It is believed that these two individuals met. Given the importance of the criminal investigation, can you find out the exact spot where these two individuals met?*\n",
    "\n",
    "The solutions is broken down into the following steps:\n",
    "1. Read in the location data\n",
    "2. Visualize the route of the two criminals on a map\n",
    "3. Get the exact times and coordinates when they met\n",
    "\n",
    "\n",
    "<br><details><summary>Hints</summary>\n",
    "\n",
    "- Sometimes one criminal is standing still for a while, when the other one is moving!\n",
    "- Animate the route of the criminals during the day, to see where they are at what time\n",
    "\n",
    "</div>\n",
    "\n",
    "\n",
    "<small> source: [https://www.crimediggers.nl/]() </small>\n"
   ]
  },
  {
   "cell_type": "code",
   "execution_count": 10,
   "metadata": {
    "ExecuteTime": {
     "end_time": "2023-08-08T09:08:12.340371Z",
     "start_time": "2023-08-08T09:08:11.224840Z"
    }
   },
   "outputs": [],
   "source": [
    "# Import libraries\n",
    "import pandas as pd\n",
    "import numpy as np"
   ]
  },
  {
   "cell_type": "markdown",
   "metadata": {},
   "source": [
    "## 1. Read in the location data\n",
    "- check which columns are in it, and the data types\n",
    "- convert the 'datetime' column to datetime type\n",
    "- check if there are any missing values\n",
    "- order the data chronologically with `sort_values`"
   ]
  },
  {
   "cell_type": "code",
   "execution_count": 20,
   "metadata": {
    "ExecuteTime": {
     "end_time": "2023-08-08T09:40:53.755390Z",
     "start_time": "2023-08-08T09:40:53.669448Z"
    }
   },
   "outputs": [
    {
     "ename": "TypeError",
     "evalue": "Only booleans, lists, and dictionaries are accepted for the 'parse_dates' parameter",
     "output_type": "error",
     "traceback": [
      "\u001B[0;31m---------------------------------------------------------------------------\u001B[0m",
      "\u001B[0;31mTypeError\u001B[0m                                 Traceback (most recent call last)",
      "Input \u001B[0;32mIn [20]\u001B[0m, in \u001B[0;36m<module>\u001B[0;34m\u001B[0m\n\u001B[1;32m      1\u001B[0m \u001B[38;5;66;03m# Read in the data in the /data/ folder\u001B[39;00m\n\u001B[0;32m----> 2\u001B[0m gps1 \u001B[38;5;241m=\u001B[39m \u001B[43mpd\u001B[49m\u001B[38;5;241;43m.\u001B[39;49m\u001B[43mread_csv\u001B[49m\u001B[43m(\u001B[49m\u001B[38;5;124;43m'\u001B[39;49m\u001B[38;5;124;43m./data/GPS_1.csv\u001B[39;49m\u001B[38;5;124;43m'\u001B[39;49m\u001B[43m,\u001B[49m\u001B[43m \u001B[49m\u001B[43mparse_dates\u001B[49m\u001B[38;5;241;43m=\u001B[39;49m\u001B[38;5;124;43m'\u001B[39;49m\u001B[38;5;124;43mdatetime\u001B[39;49m\u001B[38;5;124;43m'\u001B[39;49m\u001B[43m)\u001B[49m\n\u001B[1;32m      3\u001B[0m gps1\n",
      "File \u001B[0;32m/opt/homebrew/Caskroom/miniforge/base/envs/generalenv/lib/python3.10/site-packages/pandas/util/_decorators.py:311\u001B[0m, in \u001B[0;36mdeprecate_nonkeyword_arguments.<locals>.decorate.<locals>.wrapper\u001B[0;34m(*args, **kwargs)\u001B[0m\n\u001B[1;32m    305\u001B[0m \u001B[38;5;28;01mif\u001B[39;00m \u001B[38;5;28mlen\u001B[39m(args) \u001B[38;5;241m>\u001B[39m num_allow_args:\n\u001B[1;32m    306\u001B[0m     warnings\u001B[38;5;241m.\u001B[39mwarn(\n\u001B[1;32m    307\u001B[0m         msg\u001B[38;5;241m.\u001B[39mformat(arguments\u001B[38;5;241m=\u001B[39marguments),\n\u001B[1;32m    308\u001B[0m         \u001B[38;5;167;01mFutureWarning\u001B[39;00m,\n\u001B[1;32m    309\u001B[0m         stacklevel\u001B[38;5;241m=\u001B[39mstacklevel,\n\u001B[1;32m    310\u001B[0m     )\n\u001B[0;32m--> 311\u001B[0m \u001B[38;5;28;01mreturn\u001B[39;00m \u001B[43mfunc\u001B[49m\u001B[43m(\u001B[49m\u001B[38;5;241;43m*\u001B[39;49m\u001B[43margs\u001B[49m\u001B[43m,\u001B[49m\u001B[43m \u001B[49m\u001B[38;5;241;43m*\u001B[39;49m\u001B[38;5;241;43m*\u001B[39;49m\u001B[43mkwargs\u001B[49m\u001B[43m)\u001B[49m\n",
      "File \u001B[0;32m/opt/homebrew/Caskroom/miniforge/base/envs/generalenv/lib/python3.10/site-packages/pandas/io/parsers/readers.py:680\u001B[0m, in \u001B[0;36mread_csv\u001B[0;34m(filepath_or_buffer, sep, delimiter, header, names, index_col, usecols, squeeze, prefix, mangle_dupe_cols, dtype, engine, converters, true_values, false_values, skipinitialspace, skiprows, skipfooter, nrows, na_values, keep_default_na, na_filter, verbose, skip_blank_lines, parse_dates, infer_datetime_format, keep_date_col, date_parser, dayfirst, cache_dates, iterator, chunksize, compression, thousands, decimal, lineterminator, quotechar, quoting, doublequote, escapechar, comment, encoding, encoding_errors, dialect, error_bad_lines, warn_bad_lines, on_bad_lines, delim_whitespace, low_memory, memory_map, float_precision, storage_options)\u001B[0m\n\u001B[1;32m    665\u001B[0m kwds_defaults \u001B[38;5;241m=\u001B[39m _refine_defaults_read(\n\u001B[1;32m    666\u001B[0m     dialect,\n\u001B[1;32m    667\u001B[0m     delimiter,\n\u001B[0;32m   (...)\u001B[0m\n\u001B[1;32m    676\u001B[0m     defaults\u001B[38;5;241m=\u001B[39m{\u001B[38;5;124m\"\u001B[39m\u001B[38;5;124mdelimiter\u001B[39m\u001B[38;5;124m\"\u001B[39m: \u001B[38;5;124m\"\u001B[39m\u001B[38;5;124m,\u001B[39m\u001B[38;5;124m\"\u001B[39m},\n\u001B[1;32m    677\u001B[0m )\n\u001B[1;32m    678\u001B[0m kwds\u001B[38;5;241m.\u001B[39mupdate(kwds_defaults)\n\u001B[0;32m--> 680\u001B[0m \u001B[38;5;28;01mreturn\u001B[39;00m \u001B[43m_read\u001B[49m\u001B[43m(\u001B[49m\u001B[43mfilepath_or_buffer\u001B[49m\u001B[43m,\u001B[49m\u001B[43m \u001B[49m\u001B[43mkwds\u001B[49m\u001B[43m)\u001B[49m\n",
      "File \u001B[0;32m/opt/homebrew/Caskroom/miniforge/base/envs/generalenv/lib/python3.10/site-packages/pandas/io/parsers/readers.py:575\u001B[0m, in \u001B[0;36m_read\u001B[0;34m(filepath_or_buffer, kwds)\u001B[0m\n\u001B[1;32m    572\u001B[0m _validate_names(kwds\u001B[38;5;241m.\u001B[39mget(\u001B[38;5;124m\"\u001B[39m\u001B[38;5;124mnames\u001B[39m\u001B[38;5;124m\"\u001B[39m, \u001B[38;5;28;01mNone\u001B[39;00m))\n\u001B[1;32m    574\u001B[0m \u001B[38;5;66;03m# Create the parser.\u001B[39;00m\n\u001B[0;32m--> 575\u001B[0m parser \u001B[38;5;241m=\u001B[39m \u001B[43mTextFileReader\u001B[49m\u001B[43m(\u001B[49m\u001B[43mfilepath_or_buffer\u001B[49m\u001B[43m,\u001B[49m\u001B[43m \u001B[49m\u001B[38;5;241;43m*\u001B[39;49m\u001B[38;5;241;43m*\u001B[39;49m\u001B[43mkwds\u001B[49m\u001B[43m)\u001B[49m\n\u001B[1;32m    577\u001B[0m \u001B[38;5;28;01mif\u001B[39;00m chunksize \u001B[38;5;129;01mor\u001B[39;00m iterator:\n\u001B[1;32m    578\u001B[0m     \u001B[38;5;28;01mreturn\u001B[39;00m parser\n",
      "File \u001B[0;32m/opt/homebrew/Caskroom/miniforge/base/envs/generalenv/lib/python3.10/site-packages/pandas/io/parsers/readers.py:933\u001B[0m, in \u001B[0;36mTextFileReader.__init__\u001B[0;34m(self, f, engine, **kwds)\u001B[0m\n\u001B[1;32m    930\u001B[0m     \u001B[38;5;28mself\u001B[39m\u001B[38;5;241m.\u001B[39moptions[\u001B[38;5;124m\"\u001B[39m\u001B[38;5;124mhas_index_names\u001B[39m\u001B[38;5;124m\"\u001B[39m] \u001B[38;5;241m=\u001B[39m kwds[\u001B[38;5;124m\"\u001B[39m\u001B[38;5;124mhas_index_names\u001B[39m\u001B[38;5;124m\"\u001B[39m]\n\u001B[1;32m    932\u001B[0m \u001B[38;5;28mself\u001B[39m\u001B[38;5;241m.\u001B[39mhandles: IOHandles \u001B[38;5;241m|\u001B[39m \u001B[38;5;28;01mNone\u001B[39;00m \u001B[38;5;241m=\u001B[39m \u001B[38;5;28;01mNone\u001B[39;00m\n\u001B[0;32m--> 933\u001B[0m \u001B[38;5;28mself\u001B[39m\u001B[38;5;241m.\u001B[39m_engine \u001B[38;5;241m=\u001B[39m \u001B[38;5;28;43mself\u001B[39;49m\u001B[38;5;241;43m.\u001B[39;49m\u001B[43m_make_engine\u001B[49m\u001B[43m(\u001B[49m\u001B[43mf\u001B[49m\u001B[43m,\u001B[49m\u001B[43m \u001B[49m\u001B[38;5;28;43mself\u001B[39;49m\u001B[38;5;241;43m.\u001B[39;49m\u001B[43mengine\u001B[49m\u001B[43m)\u001B[49m\n",
      "File \u001B[0;32m/opt/homebrew/Caskroom/miniforge/base/envs/generalenv/lib/python3.10/site-packages/pandas/io/parsers/readers.py:1231\u001B[0m, in \u001B[0;36mTextFileReader._make_engine\u001B[0;34m(self, f, engine)\u001B[0m\n\u001B[1;32m   1228\u001B[0m     f \u001B[38;5;241m=\u001B[39m \u001B[38;5;28mself\u001B[39m\u001B[38;5;241m.\u001B[39mhandles\u001B[38;5;241m.\u001B[39mhandle\n\u001B[1;32m   1230\u001B[0m \u001B[38;5;28;01mtry\u001B[39;00m:\n\u001B[0;32m-> 1231\u001B[0m     \u001B[38;5;28;01mreturn\u001B[39;00m \u001B[43mmapping\u001B[49m\u001B[43m[\u001B[49m\u001B[43mengine\u001B[49m\u001B[43m]\u001B[49m\u001B[43m(\u001B[49m\u001B[43mf\u001B[49m\u001B[43m,\u001B[49m\u001B[43m \u001B[49m\u001B[38;5;241;43m*\u001B[39;49m\u001B[38;5;241;43m*\u001B[39;49m\u001B[38;5;28;43mself\u001B[39;49m\u001B[38;5;241;43m.\u001B[39;49m\u001B[43moptions\u001B[49m\u001B[43m)\u001B[49m\n\u001B[1;32m   1232\u001B[0m \u001B[38;5;28;01mexcept\u001B[39;00m \u001B[38;5;167;01mException\u001B[39;00m:\n\u001B[1;32m   1233\u001B[0m     \u001B[38;5;28;01mif\u001B[39;00m \u001B[38;5;28mself\u001B[39m\u001B[38;5;241m.\u001B[39mhandles \u001B[38;5;129;01mis\u001B[39;00m \u001B[38;5;129;01mnot\u001B[39;00m \u001B[38;5;28;01mNone\u001B[39;00m:\n",
      "File \u001B[0;32m/opt/homebrew/Caskroom/miniforge/base/envs/generalenv/lib/python3.10/site-packages/pandas/io/parsers/c_parser_wrapper.py:46\u001B[0m, in \u001B[0;36mCParserWrapper.__init__\u001B[0;34m(self, src, **kwds)\u001B[0m\n\u001B[1;32m     45\u001B[0m \u001B[38;5;28;01mdef\u001B[39;00m \u001B[38;5;21m__init__\u001B[39m(\u001B[38;5;28mself\u001B[39m, src: ReadCsvBuffer[\u001B[38;5;28mstr\u001B[39m], \u001B[38;5;241m*\u001B[39m\u001B[38;5;241m*\u001B[39mkwds):\n\u001B[0;32m---> 46\u001B[0m     \u001B[38;5;28;43msuper\u001B[39;49m\u001B[43m(\u001B[49m\u001B[43m)\u001B[49m\u001B[38;5;241;43m.\u001B[39;49m\u001B[38;5;21;43m__init__\u001B[39;49m\u001B[43m(\u001B[49m\u001B[43mkwds\u001B[49m\u001B[43m)\u001B[49m\n\u001B[1;32m     47\u001B[0m     \u001B[38;5;28mself\u001B[39m\u001B[38;5;241m.\u001B[39mkwds \u001B[38;5;241m=\u001B[39m kwds\n\u001B[1;32m     48\u001B[0m     kwds \u001B[38;5;241m=\u001B[39m kwds\u001B[38;5;241m.\u001B[39mcopy()\n",
      "File \u001B[0;32m/opt/homebrew/Caskroom/miniforge/base/envs/generalenv/lib/python3.10/site-packages/pandas/io/parsers/base_parser.py:94\u001B[0m, in \u001B[0;36mParserBase.__init__\u001B[0;34m(self, kwds)\u001B[0m\n\u001B[1;32m     91\u001B[0m \u001B[38;5;28mself\u001B[39m\u001B[38;5;241m.\u001B[39mindex_names: \u001B[38;5;28mlist\u001B[39m \u001B[38;5;241m|\u001B[39m \u001B[38;5;28;01mNone\u001B[39;00m \u001B[38;5;241m=\u001B[39m \u001B[38;5;28;01mNone\u001B[39;00m\n\u001B[1;32m     92\u001B[0m \u001B[38;5;28mself\u001B[39m\u001B[38;5;241m.\u001B[39mcol_names \u001B[38;5;241m=\u001B[39m \u001B[38;5;28;01mNone\u001B[39;00m\n\u001B[0;32m---> 94\u001B[0m \u001B[38;5;28mself\u001B[39m\u001B[38;5;241m.\u001B[39mparse_dates \u001B[38;5;241m=\u001B[39m \u001B[43m_validate_parse_dates_arg\u001B[49m\u001B[43m(\u001B[49m\u001B[43mkwds\u001B[49m\u001B[38;5;241;43m.\u001B[39;49m\u001B[43mpop\u001B[49m\u001B[43m(\u001B[49m\u001B[38;5;124;43m\"\u001B[39;49m\u001B[38;5;124;43mparse_dates\u001B[39;49m\u001B[38;5;124;43m\"\u001B[39;49m\u001B[43m,\u001B[49m\u001B[43m \u001B[49m\u001B[38;5;28;43;01mFalse\u001B[39;49;00m\u001B[43m)\u001B[49m\u001B[43m)\u001B[49m\n\u001B[1;32m     95\u001B[0m \u001B[38;5;28mself\u001B[39m\u001B[38;5;241m.\u001B[39m_parse_date_cols: Iterable \u001B[38;5;241m=\u001B[39m []\n\u001B[1;32m     96\u001B[0m \u001B[38;5;28mself\u001B[39m\u001B[38;5;241m.\u001B[39mdate_parser \u001B[38;5;241m=\u001B[39m kwds\u001B[38;5;241m.\u001B[39mpop(\u001B[38;5;124m\"\u001B[39m\u001B[38;5;124mdate_parser\u001B[39m\u001B[38;5;124m\"\u001B[39m, \u001B[38;5;28;01mNone\u001B[39;00m)\n",
      "File \u001B[0;32m/opt/homebrew/Caskroom/miniforge/base/envs/generalenv/lib/python3.10/site-packages/pandas/io/parsers/base_parser.py:1332\u001B[0m, in \u001B[0;36m_validate_parse_dates_arg\u001B[0;34m(parse_dates)\u001B[0m\n\u001B[1;32m   1330\u001B[0m \u001B[38;5;28;01mif\u001B[39;00m is_scalar(parse_dates):\n\u001B[1;32m   1331\u001B[0m     \u001B[38;5;28;01mif\u001B[39;00m \u001B[38;5;129;01mnot\u001B[39;00m lib\u001B[38;5;241m.\u001B[39mis_bool(parse_dates):\n\u001B[0;32m-> 1332\u001B[0m         \u001B[38;5;28;01mraise\u001B[39;00m \u001B[38;5;167;01mTypeError\u001B[39;00m(msg)\n\u001B[1;32m   1334\u001B[0m \u001B[38;5;28;01melif\u001B[39;00m \u001B[38;5;129;01mnot\u001B[39;00m \u001B[38;5;28misinstance\u001B[39m(parse_dates, (\u001B[38;5;28mlist\u001B[39m, \u001B[38;5;28mdict\u001B[39m)):\n\u001B[1;32m   1335\u001B[0m     \u001B[38;5;28;01mraise\u001B[39;00m \u001B[38;5;167;01mTypeError\u001B[39;00m(msg)\n",
      "\u001B[0;31mTypeError\u001B[0m: Only booleans, lists, and dictionaries are accepted for the 'parse_dates' parameter"
     ]
    }
   ],
   "source": [
    "# Read in the data in the /data/ folder\n",
    "#gps1 =\n",
    "#gps2 = \n",
    "\n",
    "# Check the columns and data types\n",
    "\n",
    "\n",
    "# Sort the data chronologically\n",
    "\n",
    "\n",
    "# Output some data\n",
    "#gps1.head()"
   ]
  },
  {
   "cell_type": "markdown",
   "metadata": {},
   "source": [
    "## 2. Visualize the route of the two criminals on a map\n",
    "For data visualisation, the `plotly.express` libary is a great choice. It is a high-level library that is widely used. You can find documentation [here](https://plotly.com/python/).\n",
    "\n",
    "\n",
    "<br><details><summary>Hint 1</summary>\n",
    "\n",
    "- use `px.scatter_mapbox()` to create a map\n",
    "- check the parameters of `px.scatter_mapbox()` function to customize your map\n",
    "</details> \n",
    "\n",
    "</div>\n",
    "\n",
    "<br><details><summary>Hint 2</summary>\n",
    "\n",
    "- You can animate the map by adding the parameter `animation_frame` to the `px.scatter_mapbox()` function\n",
    "\n",
    "</div>"
   ]
  },
  {
   "cell_type": "code",
   "execution_count": 3,
   "metadata": {
    "ExecuteTime": {
     "end_time": "2023-08-08T09:08:12.574600Z",
     "start_time": "2023-08-08T09:08:12.348365Z"
    }
   },
   "outputs": [],
   "source": [
    "# Import libraries for visualisation\n",
    "import plotly.express as px\n",
    "import plotly.graph_objects as go"
   ]
  },
  {
   "cell_type": "markdown",
   "metadata": {},
   "source": [
    "### Criminal 1\n",
    "Create a map of the route of criminal 1 in Amsterdam."
   ]
  },
  {
   "cell_type": "code",
   "execution_count": 4,
   "metadata": {
    "ExecuteTime": {
     "end_time": "2023-08-08T09:08:12.581875Z",
     "start_time": "2023-08-08T09:08:12.574911Z"
    }
   },
   "outputs": [],
   "source": [
    "# Add time column\n",
    "#gps1['time'] = gps1['datetime'].dt.time\n",
    "#gps2['time'] = gps2['datetime'].dt.time\n",
    "\n",
    "# Create an animated map using Plotly\n",
    "\n",
    "#fig = \n",
    "\n",
    "# Customize the appearance of the map if needed\n",
    "#fig.update_layout()\n",
    "\n",
    "#fig.show()"
   ]
  },
  {
   "cell_type": "markdown",
   "metadata": {},
   "source": [
    "### Criminal 2\n",
    "Copy your code from the previous cell and change the dataframe to `gps2` to plot the route of criminal 2."
   ]
  },
  {
   "cell_type": "code",
   "execution_count": 5,
   "metadata": {
    "ExecuteTime": {
     "end_time": "2023-08-08T09:08:12.582327Z",
     "start_time": "2023-08-08T09:08:12.577627Z"
    }
   },
   "outputs": [],
   "source": [
    "#fig \n",
    "\n",
    "# Customize the appearance of the map if needed\n",
    "\n",
    "# Change trace color\n",
    "\n",
    "#fig.show()"
   ]
  },
  {
   "cell_type": "markdown",
   "metadata": {},
   "source": [
    "### Plot route of both criminals on one map to see which places they have in common. \n",
    "\n",
    "<br><details><summary>Hint</summary>\n",
    "    - add a new column to each dataframe with the name of the criminal\n",
    "    - use `pd.concat()` to merge the two dataframes\n",
    "    - use `px.line_mapbox()` to create a map\n",
    "    \n",
    "</div>\n",
    "\n",
    "<br><details><summary>Hint</summary>\n",
    "    - use the `color` parameter to color the routes differently\n",
    "    \n",
    "</div>"
   ]
  },
  {
   "cell_type": "markdown",
   "metadata": {},
   "source": [
    "You will see that the two criminals share common places. But when where they at the same place **at the same time?** You can manually check for each point, but that is not very efficient. In section 3, we will try to find the exact time and place where they met."
   ]
  },
  {
   "cell_type": "code",
   "execution_count": 6,
   "metadata": {
    "ExecuteTime": {
     "end_time": "2023-08-08T09:08:12.583600Z",
     "start_time": "2023-08-08T09:08:12.581092Z"
    }
   },
   "outputs": [],
   "source": [
    "# Add a column with the name of the criminal\n",
    "\n",
    "# Take the two dataframes together in one dataframe\n",
    "\n",
    "# Sort values chronologically in time\n",
    "\n",
    "# Visualize both routes on one map using the 'color' argument\n",
    "#fig = px.line_mapbox()"
   ]
  },
  {
   "cell_type": "markdown",
   "metadata": {},
   "source": [
    "## 3. Get the exact time and coordinates when they met"
   ]
  },
  {
   "cell_type": "markdown",
   "metadata": {},
   "source": [
    "\n"
   ]
  },
  {
   "cell_type": "code",
   "execution_count": 17,
   "metadata": {
    "ExecuteTime": {
     "end_time": "2023-08-08T09:40:48.051300Z",
     "start_time": "2023-08-08T09:40:48.035768Z"
    }
   },
   "outputs": [],
   "source": [
    "# Calculate the distance between the two criminals for each point in time\n",
    "# To calculate the distance between two gps points, we can use the geodesic function of the geopy library\n",
    "from geopy.distance import geodesic\n",
    "\n",
    "# Sort gps1 and gps2 values chronologically in time\n",
    "\n",
    "# We want to use the `merge_ordered` function of pandas to take the gps data together of both suspects together. It merges the two gps location data together on the datetime column. The fill_method parameter of the function ensures that the last known location of suspect 2 is put together with the location of suspect 1. \n",
    "#gps_merged = pd.merge_ordered(gps1, gps2, on='datetime', fill_method='ffill', suffixes=['_suspect_1', '_suspect_2'])\n",
    "#gps_merged[['longitude_suspect_1', 'latitude_suspect_1', 'longitude_suspect_2', 'latitude_suspect_2']] = gps_merged[['longitude_suspect_1', 'latitude_suspect_1', 'longitude_suspect_2', 'latitude_suspect_2']].fillna(0)\n",
    "\n",
    "# Add a new column to the merged dataframe with the distance between the two criminals\n",
    "# Use the `geodesic` function of the geopy library for this: https://geopy.readthedocs.io/en/stable/#module-geopy.distance\n",
    "#gps_merged['distance'] = gps_merged.apply(lambda x: geodesic((x['latitude_suspect_1'], x['longitude_suspect_1']), (x['latitude_suspect_2'], x['longitude_suspect_2'])).meters, axis=1)"
   ]
  },
  {
   "cell_type": "code",
   "execution_count": 18,
   "metadata": {
    "ExecuteTime": {
     "end_time": "2023-08-08T09:40:49.473041Z",
     "start_time": "2023-08-08T09:40:49.468229Z"
    }
   },
   "outputs": [],
   "source": [
    "# Get point in time when the two criminals were closest to each other\n",
    "# meeting_point = gps_merged[gps_merged['distance'] == gps_merged['distance'].min()]\n"
   ]
  },
  {
   "cell_type": "code",
   "execution_count": 19,
   "metadata": {
    "ExecuteTime": {
     "end_time": "2023-08-08T09:40:49.966384Z",
     "start_time": "2023-08-08T09:40:49.959795Z"
    }
   },
   "outputs": [],
   "source": [
    "# Plot the meeting point on a map\n",
    "#fig = px.scatter_mapbox()"
   ]
  }
 ],
 "metadata": {
  "kernelspec": {
   "display_name": "Python 3 (ipykernel)",
   "language": "python",
   "name": "python3"
  },
  "language_info": {
   "codemirror_mode": {
    "name": "ipython",
    "version": 3
   },
   "file_extension": ".py",
   "mimetype": "text/x-python",
   "name": "python",
   "nbconvert_exporter": "python",
   "pygments_lexer": "ipython3",
   "version": "3.10.2"
  }
 },
 "nbformat": 4,
 "nbformat_minor": 1
}
