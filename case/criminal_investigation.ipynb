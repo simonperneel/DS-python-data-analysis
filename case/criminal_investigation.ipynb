{
 "cells": [
  {
   "cell_type": "markdown",
   "metadata": {},
   "source": [
    "# Case: Criminal location tracking\n",
    "**Context**\n",
    "> *During several home searches by the Dutch police, phones were confiscated. After examining these phones, they were found to contain GPS information. It is believed that these two individuals met. Given the importance of the criminal investigation, can you find out the exact spot where these two individuals met?*\n",
    "\n",
    "<img src=\"../img/banner_case.png\" width=600 display=block margin-left=auto, margin-right: auto>\n",
    "\n",
    "The solutions is broken down into the following steps:\n",
    "1. Read in the location data\n",
    "2. Visualize the route of the two criminals on a map\n",
    "3. Get the exact times and coordinates when/where they met\n",
    "\n",
    "\n",
    "<br><details><summary>Hints</summary>\n",
    "\n",
    "- Sometimes one criminal is standing still for a while, when the other one is moving!\n",
    "- Animate the route of the criminals during the day, to see where they are at what time\n",
    "\n",
    "</div>\n",
    "\n",
    "\n",
    "<small> source: [https://www.crimediggers.nl/]() </small>\n"
   ]
  },
  {
   "cell_type": "code",
   "execution_count": null,
   "metadata": {
    "tags": []
   },
   "outputs": [],
   "source": [
    "# Import libraries\n",
    "import pandas as pd\n",
    "import numpy as np"
   ]
  },
  {
   "cell_type": "markdown",
   "metadata": {},
   "source": [
    "## 1. Read in the location data\n",
    "- check which columns are in it, and the data types\n",
    "- convert the 'datetime' column to datetime type\n",
    "- check if there are any missing values\n",
    "- order the data chronologically with `sort_values`"
   ]
  },
  {
   "cell_type": "code",
   "execution_count": null,
   "metadata": {
    "tags": []
   },
   "outputs": [],
   "source": [
    "# Read in the data in the /data/ folder\n",
    "#gps1 =\n",
    "#gps2 = \n",
    "\n",
    "# Check the columns and data types\n",
    "\n",
    "\n",
    "# Check for missing values\n",
    "\n",
    "\n",
    "# Sort the data chronologically\n",
    "\n",
    "\n",
    "# Output the first 5 rows"
   ]
  },
  {
   "cell_type": "markdown",
   "metadata": {},
   "source": [
    "## 2. Visualize the route of the two criminals on a map\n",
    "For data visualisation, the `plotly.express` libary is a great choice. It is a high-level library that is widely used. You can find documentation [here](https://plotly.com/python/).\n",
    "\n",
    "\n",
    "<br><details><summary>Hint 1</summary>\n",
    "\n",
    "- use `px.scatter_mapbox()` to create a map\n",
    "- check the parameters of `px.scatter_mapbox()` function to customize your map\n",
    "</details> \n",
    "\n",
    "</div>\n",
    "\n",
    "<br><details><summary>Hint 2</summary>\n",
    "\n",
    "- You can animate the map by adding the parameter `animation_frame` to the `px.scatter_mapbox()` function\n",
    "\n",
    "</div>"
   ]
  },
  {
   "cell_type": "code",
   "execution_count": null,
   "metadata": {},
   "outputs": [],
   "source": [
    "# Import libraries for visualisation\n",
    "import plotly.express as px\n",
    "import plotly.graph_objects as go"
   ]
  },
  {
   "cell_type": "markdown",
   "metadata": {},
   "source": [
    "### Criminal 1\n",
    "Create a map of the route of criminal 1 in Amsterdam.\n",
    "\n",
    "<br><details><summary>Hint</summary>\n",
    "    - use `.dt.time` to get the extract only time from the datetime column"
   ]
  },
  {
   "cell_type": "code",
   "execution_count": null,
   "metadata": {},
   "outputs": [],
   "source": [
    "# Add time column\n",
    "#gps1['time'] = \n",
    "#gps2['time'] =\n",
    "\n",
    "# Create an animated map using Plotly\n",
    "\n",
    "#fig = \n",
    "\n",
    "# Customize the appearance of the map if needed\n",
    "#fig.update_layout()\n",
    "\n",
    "#fig.show()"
   ]
  },
  {
   "cell_type": "markdown",
   "metadata": {},
   "source": [
    "### Criminal 2\n",
    "Copy your code from the previous cell and change the dataframe to `gps2` to plot the route of criminal 2."
   ]
  },
  {
   "cell_type": "code",
   "execution_count": null,
   "metadata": {},
   "outputs": [],
   "source": [
    "#fig \n",
    "\n",
    "# Customize the appearance of the map if needed\n",
    "\n",
    "# Change trace color\n",
    "\n",
    "#fig.show()"
   ]
  },
  {
   "cell_type": "markdown",
   "metadata": {},
   "source": [
    "### Plot route of both criminals on one map to see which places they have in common. \n",
    "\n",
    "<br><details><summary>Hint</summary>\n",
    "    - add a new column to each dataframe with the name of the criminal\n",
    "    - use `pd.concat()` to merge the two dataframes\n",
    "    - use `px.line_mapbox()` to create a map\n",
    "    \n",
    "</div>\n",
    "\n",
    "<br><details><summary>Hint</summary>\n",
    "    - use the `color` parameter to color the routes differently\n",
    "    \n",
    "</div>"
   ]
  },
  {
   "cell_type": "markdown",
   "metadata": {},
   "source": [
    "You will see that the two criminals share common places. But when where they at the same place **at the same time?** You can manually check for each point, but that is not very efficient. In section 3, we will try to find the exact time and place where they met."
   ]
  },
  {
   "cell_type": "code",
   "execution_count": null,
   "metadata": {},
   "outputs": [],
   "source": [
    "# Add a column with the name of the criminal\n",
    "\n",
    "# Take the two dataframes together in one dataframe\n",
    "\n",
    "# Sort values chronologically in time\n",
    "\n",
    "# Visualize both routes on one map using the 'color' argument\n",
    "#fig = px.line_mapbox()"
   ]
  },
  {
   "cell_type": "markdown",
   "metadata": {},
   "source": [
    "## 3. Get the exact time and coordinates when they met\n",
    "<br><details><summary>Hint</summary>\n",
    "    - To calculate the distance between two gps points, we can use the `geodesic` function of the geopy library for this: https://geopy.readthedocs.io/en/stable/#geopy.distance.geodesic\n",
    "    - use the `merge_ordered` function of pandas to take the gps data together of both suspects together. It merges the two gps location data together on the datetime column. The fill_method parameter of the function ensures that the last known location of suspect 2 is put together with the location of suspect 1. \n",
    "</details>\n",
    "\n",
    "<br><details><summary>Hint 2</summary>\n",
    "    - use the `min()` function to get the point in time when the two criminals were closest to each other\n",
    "</details>"
   ]
  },
  {
   "cell_type": "markdown",
   "metadata": {},
   "source": [
    "\n"
   ]
  },
  {
   "cell_type": "code",
   "execution_count": null,
   "metadata": {},
   "outputs": [],
   "source": [
    "# Calculate the distance between the two criminals for each point in time\n",
    "from geopy.distance import geodesic\n",
    "\n",
    "# Sort gps1 and gps2 values chronologically in time\n",
    "\n",
    "# We want to use the `merge_ordered` function of pandas to take the gps data together of both suspects together. It merges the two gps location data together on the datetime column. The fill_method parameter of the function ensures that the last known location of suspect 2 is put together with the location of suspect 1. \n",
    "#gps_merged = pd.merge_ordered(gps1, gps2, on='datetime', fill_method='ffill', suffixes=['_suspect_1', '_suspect_2'])\n",
    "#gps_merged[['longitude_suspect_1', 'latitude_suspect_1', 'longitude_suspect_2', 'latitude_suspect_2']] = gps_merged[['longitude_suspect_1', 'latitude_suspect_1', 'longitude_suspect_2', 'latitude_suspect_2']].fillna(0)\n",
    "\n",
    "# Add a new column to the merged dataframe with the distance between the two criminals\n",
    "# Use the `geodesic` function of the geopy library for this: https://geopy.readthedocs.io/en/stable/#module-geopy.distance\n",
    "#gps_merged['distance'] = gps_merged.apply(lambda x: geodesic((x['latitude_suspect_1'], x['longitude_suspect_1']), (x['latitude_suspect_2'], x['longitude_suspect_2'])).meters, axis=1)"
   ]
  },
  {
   "cell_type": "code",
   "execution_count": null,
   "metadata": {},
   "outputs": [],
   "source": [
    "# Get point in time when the two criminals were closest to each other\n",
    "# meeting_point = gps_merged[gps_merged['distance'] == gps_merged['distance'].min()]\n"
   ]
  },
  {
   "cell_type": "code",
   "execution_count": null,
   "metadata": {},
   "outputs": [],
   "source": [
    "# Plot the meeting point on a map\n",
    "#fig = px.scatter_mapbox()"
   ]
  }
 ],
 "metadata": {
  "kernelspec": {
   "display_name": "Python 3 (ipykernel)",
   "language": "python",
   "name": "python3"
  },
  "language_info": {
   "codemirror_mode": {
    "name": "ipython",
    "version": 3
   },
   "file_extension": ".py",
   "mimetype": "text/x-python",
   "name": "python",
   "nbconvert_exporter": "python",
   "pygments_lexer": "ipython3",
   "version": "3.10.2"
  }
 },
 "nbformat": 4,
 "nbformat_minor": 4
}
