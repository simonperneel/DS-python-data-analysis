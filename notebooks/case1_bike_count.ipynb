{
 "cells": [
  {
   "cell_type": "markdown",
   "metadata": {},
   "source": [
    "<p><font size=\"6\"><b> CASE - Bike count data</b></font></p>\n",
    "\n",
    "Adapted version from:\n",
    "> *© 2021, Joris Van den Bossche and Stijn Van Hoey  (<mailto:jorisvandenbossche@gmail.com>, <mailto:stijnvanhoey@gmail.com>). Licensed under [CC BY 4.0 Creative Commons](http://creativecommons.org/licenses/by/4.0/)*\n",
    "\n",
    "---"
   ]
  },
  {
   "cell_type": "markdown",
   "metadata": {},
   "source": [
    "<img src=\"https://static.nieuwsblad.be/Assets/Images_Upload/2014/04/17/57b8f34e-5042-11e2-80ee-5d1d7b74455f_original.jpg.h380.jpg.568.jpg?maxheight=460&maxwidth=638&scale=both\">"
   ]
  },
  {
   "cell_type": "markdown",
   "metadata": {},
   "source": [
    "In this case study, we will make use of the openly available bike count data of the city of Ghent (Belgium). At the Coupure Links, next to the Faculty of Bioscience Engineering, a counter keeps track of the number of passing cyclists in both directions."
   ]
  },
  {
   "cell_type": "code",
   "execution_count": 17,
   "metadata": {},
   "outputs": [],
   "source": [
    "import pandas as pd\n",
    "import matplotlib.pyplot as plt\n",
    "plt.style.use('seaborn-whitegrid')"
   ]
  },
  {
   "cell_type": "markdown",
   "metadata": {},
   "source": [
    "# Reading and processing the data"
   ]
  },
  {
   "cell_type": "markdown",
   "metadata": {},
   "source": [
    "## Read csv data"
   ]
  },
  {
   "cell_type": "markdown",
   "metadata": {},
   "source": [
    "The data were previously available on the open data portal of the city, and we downloaded them in the `CSV` format, and provided the original file as `data/fietstellingencoupure.csv`.\n",
    "\n",
    "This dataset contains the historical data of the bike counters, and consists of the following columns:\n",
    "\n",
    "- The first column `datum` is the date, in `dd/mm/yy` format\n",
    "- The second column `tijd` is the time of the day, in `hh:mm` format\n",
    "- The third and fourth column `ri Centrum` and `ri Mariakerke` are the counts at that point in time (counts between this timestamp and the previous)"
   ]
  },
  {
   "cell_type": "markdown",
   "metadata": {},
   "source": [
    "<div class=\"alert alert-success\">\n",
    "\n",
    "**EXERCISE 1**\n",
    "\n",
    "- Read the csv file from the url into a DataFrame `df`, the delimiter of the data is `;`\n",
    "- Inspect the first and last 5 rows, and check the number of observations\n",
    "- Inspect the data types of the different columns\n",
    "\n",
    "<details><summary>Hints</summary>\n",
    "\n",
    "- With the cursor on a function, you can combine the SHIFT + TAB keystrokes to see the documentation of a function.\n",
    "- Both the `sep` and `delimiter` argument will work to define the delimiter.\n",
    "- Methods like `head`/`tail` have round brackets `()`, attributes like `dtypes` not.\n",
    "\n",
    "</details>\n",
    "\n",
    "</div>"
   ]
  },
  {
   "cell_type": "code",
   "execution_count": 44,
   "metadata": {
    "tags": [
     "nbtutor-solution"
    ]
   },
   "outputs": [],
   "source": [
    "# %load _solutions/case1_bike_count1.py\n",
    "df = pd.read_csv(\"data/fietstellingencoupure.csv\", sep=';')"
   ]
  },
  {
   "cell_type": "code",
   "execution_count": 25,
   "metadata": {
    "jupyter": {
     "outputs_hidden": false
    },
    "tags": [
     "nbtutor-solution"
    ]
   },
   "outputs": [
    {
     "data": {
      "text/html": [
       "<div>\n",
       "<style scoped>\n",
       "    .dataframe tbody tr th:only-of-type {\n",
       "        vertical-align: middle;\n",
       "    }\n",
       "\n",
       "    .dataframe tbody tr th {\n",
       "        vertical-align: top;\n",
       "    }\n",
       "\n",
       "    .dataframe thead th {\n",
       "        text-align: right;\n",
       "    }\n",
       "</style>\n",
       "<table border=\"1\" class=\"dataframe\">\n",
       "  <thead>\n",
       "    <tr style=\"text-align: right;\">\n",
       "      <th></th>\n",
       "      <th>datum</th>\n",
       "      <th>tijd</th>\n",
       "      <th>ri Centrum</th>\n",
       "      <th>ri Mariakerke</th>\n",
       "    </tr>\n",
       "  </thead>\n",
       "  <tbody>\n",
       "    <tr>\n",
       "      <th>0</th>\n",
       "      <td>14/07/2011</td>\n",
       "      <td>17:44</td>\n",
       "      <td>21</td>\n",
       "      <td>46</td>\n",
       "    </tr>\n",
       "    <tr>\n",
       "      <th>1</th>\n",
       "      <td>14/07/2011</td>\n",
       "      <td>17:59</td>\n",
       "      <td>17</td>\n",
       "      <td>60</td>\n",
       "    </tr>\n",
       "    <tr>\n",
       "      <th>2</th>\n",
       "      <td>14/07/2011</td>\n",
       "      <td>18:14</td>\n",
       "      <td>13</td>\n",
       "      <td>48</td>\n",
       "    </tr>\n",
       "    <tr>\n",
       "      <th>3</th>\n",
       "      <td>14/07/2011</td>\n",
       "      <td>18:29</td>\n",
       "      <td>22</td>\n",
       "      <td>48</td>\n",
       "    </tr>\n",
       "    <tr>\n",
       "      <th>4</th>\n",
       "      <td>14/07/2011</td>\n",
       "      <td>18:44</td>\n",
       "      <td>15</td>\n",
       "      <td>51</td>\n",
       "    </tr>\n",
       "  </tbody>\n",
       "</table>\n",
       "</div>"
      ],
      "text/plain": [
       "        datum   tijd  ri Centrum  ri Mariakerke\n",
       "0  14/07/2011  17:44          21             46\n",
       "1  14/07/2011  17:59          17             60\n",
       "2  14/07/2011  18:14          13             48\n",
       "3  14/07/2011  18:29          22             48\n",
       "4  14/07/2011  18:44          15             51"
      ]
     },
     "execution_count": 25,
     "metadata": {},
     "output_type": "execute_result"
    }
   ],
   "source": [
    "# %load _solutions/case1_bike_count2.py\n",
    "df.head()"
   ]
  },
  {
   "cell_type": "code",
   "execution_count": 26,
   "metadata": {
    "jupyter": {
     "outputs_hidden": false
    },
    "tags": [
     "nbtutor-solution"
    ]
   },
   "outputs": [
    {
     "data": {
      "text/html": [
       "<div>\n",
       "<style scoped>\n",
       "    .dataframe tbody tr th:only-of-type {\n",
       "        vertical-align: middle;\n",
       "    }\n",
       "\n",
       "    .dataframe tbody tr th {\n",
       "        vertical-align: top;\n",
       "    }\n",
       "\n",
       "    .dataframe thead th {\n",
       "        text-align: right;\n",
       "    }\n",
       "</style>\n",
       "<table border=\"1\" class=\"dataframe\">\n",
       "  <thead>\n",
       "    <tr style=\"text-align: right;\">\n",
       "      <th></th>\n",
       "      <th>datum</th>\n",
       "      <th>tijd</th>\n",
       "      <th>ri Centrum</th>\n",
       "      <th>ri Mariakerke</th>\n",
       "    </tr>\n",
       "  </thead>\n",
       "  <tbody>\n",
       "    <tr>\n",
       "      <th>191442</th>\n",
       "      <td>18/01/2017</td>\n",
       "      <td>22:54</td>\n",
       "      <td>16</td>\n",
       "      <td>32</td>\n",
       "    </tr>\n",
       "    <tr>\n",
       "      <th>191443</th>\n",
       "      <td>18/01/2017</td>\n",
       "      <td>23:09</td>\n",
       "      <td>8</td>\n",
       "      <td>22</td>\n",
       "    </tr>\n",
       "    <tr>\n",
       "      <th>191444</th>\n",
       "      <td>18/01/2017</td>\n",
       "      <td>23:24</td>\n",
       "      <td>10</td>\n",
       "      <td>29</td>\n",
       "    </tr>\n",
       "    <tr>\n",
       "      <th>191445</th>\n",
       "      <td>18/01/2017</td>\n",
       "      <td>23:39</td>\n",
       "      <td>11</td>\n",
       "      <td>31</td>\n",
       "    </tr>\n",
       "    <tr>\n",
       "      <th>191446</th>\n",
       "      <td>18/01/2017</td>\n",
       "      <td>23:54</td>\n",
       "      <td>12</td>\n",
       "      <td>19</td>\n",
       "    </tr>\n",
       "  </tbody>\n",
       "</table>\n",
       "</div>"
      ],
      "text/plain": [
       "             datum   tijd  ri Centrum  ri Mariakerke\n",
       "191442  18/01/2017  22:54          16             32\n",
       "191443  18/01/2017  23:09           8             22\n",
       "191444  18/01/2017  23:24          10             29\n",
       "191445  18/01/2017  23:39          11             31\n",
       "191446  18/01/2017  23:54          12             19"
      ]
     },
     "execution_count": 26,
     "metadata": {},
     "output_type": "execute_result"
    }
   ],
   "source": [
    "# %load _solutions/case1_bike_count3.py\n",
    "df.tail()"
   ]
  },
  {
   "cell_type": "code",
   "execution_count": 27,
   "metadata": {
    "jupyter": {
     "outputs_hidden": false
    },
    "tags": [
     "nbtutor-solution"
    ]
   },
   "outputs": [
    {
     "data": {
      "text/plain": [
       "191447"
      ]
     },
     "execution_count": 27,
     "metadata": {},
     "output_type": "execute_result"
    }
   ],
   "source": [
    "# %load _solutions/case1_bike_count4.py\n",
    "len(df)"
   ]
  },
  {
   "cell_type": "code",
   "execution_count": 28,
   "metadata": {
    "jupyter": {
     "outputs_hidden": false
    },
    "tags": [
     "nbtutor-solution"
    ]
   },
   "outputs": [
    {
     "data": {
      "text/plain": [
       "datum            object\n",
       "tijd             object\n",
       "ri Centrum        int64\n",
       "ri Mariakerke     int64\n",
       "dtype: object"
      ]
     },
     "execution_count": 28,
     "metadata": {},
     "output_type": "execute_result"
    }
   ],
   "source": [
    "# %load _solutions/case1_bike_count5.py\n",
    "df.dtypes"
   ]
  },
  {
   "cell_type": "markdown",
   "metadata": {},
   "source": [
    "## Data processing"
   ]
  },
  {
   "cell_type": "markdown",
   "metadata": {},
   "source": [
    "As explained above, the first and second column (respectively `datum` and `tijd`) indicate the date and hour of the day. To obtain a time series, we have to combine those two columns into one series of actual timestamp values."
   ]
  },
  {
   "cell_type": "markdown",
   "metadata": {},
   "source": [
    "<div class=\"alert alert-success\">\n",
    "\n",
    "**EXERCISE 2**\n",
    "\n",
    "Pre-process the data:\n",
    "\n",
    "* Combine the 'datum' and 'tijd' columns into one Pandas Series of string datetime values, call this new variable `combined`.\n",
    "* Parse the string datetime values to `datetime` objects.\n",
    "* Set the resulting `datetime` column as the index of the `df` DataFrame.\n",
    "* Remove the original 'datum' and 'tijd' columns using the `drop` method, and call the new dataframe `df2`.\n",
    "* Rename the columns in the DataFrame 'ri Centrum', 'ri Mariakerke' to resp. 'direction_centre', 'direction_mariakerke' using the `rename` method.\n",
    "\n",
    "<details><summary>Hints</summary>\n",
    "\n",
    "- Concatenating strings can be done with the addition operation `+`.\n",
    "- When converting strings to a `datetime` with `pd.to_datetime`, specifying the format will make the conversion a lot faster.\n",
    "- `drop` can remove both rows and columns using the names of the index or column name. Make sure to define `columns=` argument to remove columns.\n",
    "- `rename` can be used for both rows/columns. It needs a dictionary with the current names as keys and the new names as values.\n",
    "\n",
    "</details>"
   ]
  },
  {
   "cell_type": "code",
   "execution_count": 50,
   "metadata": {},
   "outputs": [
    {
     "data": {
      "text/html": [
       "<div>\n",
       "<style scoped>\n",
       "    .dataframe tbody tr th:only-of-type {\n",
       "        vertical-align: middle;\n",
       "    }\n",
       "\n",
       "    .dataframe tbody tr th {\n",
       "        vertical-align: top;\n",
       "    }\n",
       "\n",
       "    .dataframe thead th {\n",
       "        text-align: right;\n",
       "    }\n",
       "</style>\n",
       "<table border=\"1\" class=\"dataframe\">\n",
       "  <thead>\n",
       "    <tr style=\"text-align: right;\">\n",
       "      <th></th>\n",
       "      <th>direction_centre</th>\n",
       "      <th>direction_mariakerke</th>\n",
       "      <th>combined</th>\n",
       "    </tr>\n",
       "    <tr>\n",
       "      <th>combined</th>\n",
       "      <th></th>\n",
       "      <th></th>\n",
       "      <th></th>\n",
       "    </tr>\n",
       "  </thead>\n",
       "  <tbody>\n",
       "    <tr>\n",
       "      <th>2011-07-14 17:44:00</th>\n",
       "      <td>21</td>\n",
       "      <td>46</td>\n",
       "      <td>2011-07-14 17:44:00</td>\n",
       "    </tr>\n",
       "    <tr>\n",
       "      <th>2011-07-14 17:59:00</th>\n",
       "      <td>17</td>\n",
       "      <td>60</td>\n",
       "      <td>2011-07-14 17:59:00</td>\n",
       "    </tr>\n",
       "    <tr>\n",
       "      <th>2011-07-14 18:14:00</th>\n",
       "      <td>13</td>\n",
       "      <td>48</td>\n",
       "      <td>2011-07-14 18:14:00</td>\n",
       "    </tr>\n",
       "    <tr>\n",
       "      <th>2011-07-14 18:29:00</th>\n",
       "      <td>22</td>\n",
       "      <td>48</td>\n",
       "      <td>2011-07-14 18:29:00</td>\n",
       "    </tr>\n",
       "    <tr>\n",
       "      <th>2011-07-14 18:44:00</th>\n",
       "      <td>15</td>\n",
       "      <td>51</td>\n",
       "      <td>2011-07-14 18:44:00</td>\n",
       "    </tr>\n",
       "    <tr>\n",
       "      <th>...</th>\n",
       "      <td>...</td>\n",
       "      <td>...</td>\n",
       "      <td>...</td>\n",
       "    </tr>\n",
       "    <tr>\n",
       "      <th>2017-01-18 22:54:00</th>\n",
       "      <td>16</td>\n",
       "      <td>32</td>\n",
       "      <td>2017-01-18 22:54:00</td>\n",
       "    </tr>\n",
       "    <tr>\n",
       "      <th>2017-01-18 23:09:00</th>\n",
       "      <td>8</td>\n",
       "      <td>22</td>\n",
       "      <td>2017-01-18 23:09:00</td>\n",
       "    </tr>\n",
       "    <tr>\n",
       "      <th>2017-01-18 23:24:00</th>\n",
       "      <td>10</td>\n",
       "      <td>29</td>\n",
       "      <td>2017-01-18 23:24:00</td>\n",
       "    </tr>\n",
       "    <tr>\n",
       "      <th>2017-01-18 23:39:00</th>\n",
       "      <td>11</td>\n",
       "      <td>31</td>\n",
       "      <td>2017-01-18 23:39:00</td>\n",
       "    </tr>\n",
       "    <tr>\n",
       "      <th>2017-01-18 23:54:00</th>\n",
       "      <td>12</td>\n",
       "      <td>19</td>\n",
       "      <td>2017-01-18 23:54:00</td>\n",
       "    </tr>\n",
       "  </tbody>\n",
       "</table>\n",
       "<p>191447 rows × 3 columns</p>\n",
       "</div>"
      ],
      "text/plain": [
       "                     direction_centre  direction_mariakerke  \\\n",
       "combined                                                      \n",
       "2011-07-14 17:44:00                21                    46   \n",
       "2011-07-14 17:59:00                17                    60   \n",
       "2011-07-14 18:14:00                13                    48   \n",
       "2011-07-14 18:29:00                22                    48   \n",
       "2011-07-14 18:44:00                15                    51   \n",
       "...                               ...                   ...   \n",
       "2017-01-18 22:54:00                16                    32   \n",
       "2017-01-18 23:09:00                 8                    22   \n",
       "2017-01-18 23:24:00                10                    29   \n",
       "2017-01-18 23:39:00                11                    31   \n",
       "2017-01-18 23:54:00                12                    19   \n",
       "\n",
       "                               combined  \n",
       "combined                                 \n",
       "2011-07-14 17:44:00 2011-07-14 17:44:00  \n",
       "2011-07-14 17:59:00 2011-07-14 17:59:00  \n",
       "2011-07-14 18:14:00 2011-07-14 18:14:00  \n",
       "2011-07-14 18:29:00 2011-07-14 18:29:00  \n",
       "2011-07-14 18:44:00 2011-07-14 18:44:00  \n",
       "...                                 ...  \n",
       "2017-01-18 22:54:00 2017-01-18 22:54:00  \n",
       "2017-01-18 23:09:00 2017-01-18 23:09:00  \n",
       "2017-01-18 23:24:00 2017-01-18 23:24:00  \n",
       "2017-01-18 23:39:00 2017-01-18 23:39:00  \n",
       "2017-01-18 23:54:00 2017-01-18 23:54:00  \n",
       "\n",
       "[191447 rows x 3 columns]"
      ]
     },
     "execution_count": 50,
     "metadata": {},
     "output_type": "execute_result"
    }
   ],
   "source": [
    "df['combined'] = pd.to_datetime(df.datum + ' ' + df.tijd)\n",
    "df2 = df.set_index(df.combined).drop(['datum', 'tijd'], axis=1)\n",
    "df2 = df2.rename(columns={'ri Centrum': 'direction_centre', 'ri Mariakerke': 'direction_mariakerke'})\n",
    "df2"
   ]
  },
  {
   "cell_type": "code",
   "execution_count": null,
   "metadata": {
    "jupyter": {
     "outputs_hidden": false
    },
    "tags": [
     "nbtutor-solution"
    ]
   },
   "outputs": [],
   "source": [
    "# %load _solutions/case1_bike_count6.py\n",
    "combined = df['datum'] + ' ' + df['tijd']\n",
    "combined.head()"
   ]
  },
  {
   "cell_type": "code",
   "execution_count": null,
   "metadata": {
    "tags": [
     "nbtutor-solution"
    ]
   },
   "outputs": [],
   "source": [
    "# %load _solutions/case1_bike_count7.py\n",
    "df.index = pd.to_datetime(combined, format=\"%d/%m/%Y %H:%M\")"
   ]
  },
  {
   "cell_type": "code",
   "execution_count": null,
   "metadata": {
    "tags": [
     "nbtutor-solution"
    ]
   },
   "outputs": [],
   "source": [
    "# %load _solutions/case1_bike_count8.py\n",
    "df2 = df.drop(columns=['datum', 'tijd'])"
   ]
  },
  {
   "cell_type": "code",
   "execution_count": null,
   "metadata": {
    "tags": [
     "nbtutor-solution"
    ]
   },
   "outputs": [],
   "source": [
    "# %load _solutions/case1_bike_count9.py\n",
    "df2 = df2.rename(columns={'ri Centrum': 'direction_centre',\n",
    "                          'ri Mariakerke':'direction_mariakerke'})"
   ]
  },
  {
   "cell_type": "code",
   "execution_count": 54,
   "metadata": {
    "jupyter": {
     "outputs_hidden": false
    }
   },
   "outputs": [
    {
     "data": {
      "text/html": [
       "<div>\n",
       "<style scoped>\n",
       "    .dataframe tbody tr th:only-of-type {\n",
       "        vertical-align: middle;\n",
       "    }\n",
       "\n",
       "    .dataframe tbody tr th {\n",
       "        vertical-align: top;\n",
       "    }\n",
       "\n",
       "    .dataframe thead th {\n",
       "        text-align: right;\n",
       "    }\n",
       "</style>\n",
       "<table border=\"1\" class=\"dataframe\">\n",
       "  <thead>\n",
       "    <tr style=\"text-align: right;\">\n",
       "      <th></th>\n",
       "      <th>direction_centre</th>\n",
       "      <th>direction_mariakerke</th>\n",
       "      <th>combined</th>\n",
       "    </tr>\n",
       "    <tr>\n",
       "      <th>combined</th>\n",
       "      <th></th>\n",
       "      <th></th>\n",
       "      <th></th>\n",
       "    </tr>\n",
       "  </thead>\n",
       "  <tbody>\n",
       "    <tr>\n",
       "      <th>2011-07-14 17:44:00</th>\n",
       "      <td>21</td>\n",
       "      <td>46</td>\n",
       "      <td>2011-07-14 17:44:00</td>\n",
       "    </tr>\n",
       "    <tr>\n",
       "      <th>2011-07-14 17:59:00</th>\n",
       "      <td>17</td>\n",
       "      <td>60</td>\n",
       "      <td>2011-07-14 17:59:00</td>\n",
       "    </tr>\n",
       "    <tr>\n",
       "      <th>2011-07-14 18:14:00</th>\n",
       "      <td>13</td>\n",
       "      <td>48</td>\n",
       "      <td>2011-07-14 18:14:00</td>\n",
       "    </tr>\n",
       "    <tr>\n",
       "      <th>2011-07-14 18:29:00</th>\n",
       "      <td>22</td>\n",
       "      <td>48</td>\n",
       "      <td>2011-07-14 18:29:00</td>\n",
       "    </tr>\n",
       "    <tr>\n",
       "      <th>2011-07-14 18:44:00</th>\n",
       "      <td>15</td>\n",
       "      <td>51</td>\n",
       "      <td>2011-07-14 18:44:00</td>\n",
       "    </tr>\n",
       "  </tbody>\n",
       "</table>\n",
       "</div>"
      ],
      "text/plain": [
       "                     direction_centre  direction_mariakerke  \\\n",
       "combined                                                      \n",
       "2011-07-14 17:44:00                21                    46   \n",
       "2011-07-14 17:59:00                17                    60   \n",
       "2011-07-14 18:14:00                13                    48   \n",
       "2011-07-14 18:29:00                22                    48   \n",
       "2011-07-14 18:44:00                15                    51   \n",
       "\n",
       "                               combined  \n",
       "combined                                 \n",
       "2011-07-14 17:44:00 2011-07-14 17:44:00  \n",
       "2011-07-14 17:59:00 2011-07-14 17:59:00  \n",
       "2011-07-14 18:14:00 2011-07-14 18:14:00  \n",
       "2011-07-14 18:29:00 2011-07-14 18:29:00  \n",
       "2011-07-14 18:44:00 2011-07-14 18:44:00  "
      ]
     },
     "execution_count": 54,
     "metadata": {},
     "output_type": "execute_result"
    }
   ],
   "source": [
    "df2.head()"
   ]
  },
  {
   "cell_type": "markdown",
   "metadata": {},
   "source": [
    "Having the data available with an interpreted `datetime`, provides us the possibility of having time aware plotting:"
   ]
  },
  {
   "cell_type": "code",
   "execution_count": 55,
   "metadata": {
    "jupyter": {
     "outputs_hidden": false
    }
   },
   "outputs": [
    {
     "data": {
      "text/plain": [
       "<AxesSubplot:>"
      ]
     },
     "execution_count": 55,
     "metadata": {},
     "output_type": "execute_result"
    },
    {
     "data": {
      "image/png": "[encoded data removed]",
      "text/plain": [
       "<Figure size 720x432 with 1 Axes>"
      ]
     },
     "metadata": {},
     "output_type": "display_data"
    }
   ],
   "source": [
    "fig, ax = plt.subplots(figsize=(10, 6))\n",
    "df.plot(colormap='coolwarm', ax=ax)"
   ]
  },
  {
   "cell_type": "markdown",
   "metadata": {},
   "source": [
    "<div class=\"alert alert-warning\">\n",
    "\n",
    " <b>Remark</b>: Interpretation of the dates with and without predefined date format.\n",
    "\n",
    "</div>"
   ]
  },
  {
   "cell_type": "markdown",
   "metadata": {},
   "source": [
    "When we just want to interpret the dates, without specifying how the dates are formatted, Pandas makes an attempt as good as possible:"
   ]
  },
  {
   "cell_type": "code",
   "execution_count": null,
   "metadata": {},
   "outputs": [],
   "source": [
    "combined = df['datum'] + ' ' + df['tijd']"
   ]
  },
  {
   "cell_type": "code",
   "execution_count": null,
   "metadata": {
    "jupyter": {
     "outputs_hidden": false
    }
   },
   "outputs": [],
   "source": [
    "%timeit -n 1 -r 1 pd.to_datetime(combined, dayfirst=True)"
   ]
  },
  {
   "cell_type": "markdown",
   "metadata": {},
   "source": [
    "However, when we already know the format of the dates (and if this is consistent throughout the full dataset), we can use this information to interpret the dates:"
   ]
  },
  {
   "cell_type": "code",
   "execution_count": null,
   "metadata": {
    "jupyter": {
     "outputs_hidden": false
    }
   },
   "outputs": [],
   "source": [
    "%timeit pd.to_datetime(combined, format=\"%d/%m/%Y %H:%M\")"
   ]
  },
  {
   "cell_type": "markdown",
   "metadata": {},
   "source": [
    "<div class=\"alert alert-info\">\n",
    "\n",
    " <b>Remember</b>: Whenever possible, specify the date format to interpret the dates to `datetime` values!\n",
    "\n",
    "</div>"
   ]
  },
  {
   "cell_type": "markdown",
   "metadata": {},
   "source": [
    "### Write the dataset cleaning as a function\n",
    "\n",
    "In order to make it easier to reuse the code for the pre-processing we have implemented, let's convert the code to a Python function:"
   ]
  },
  {
   "cell_type": "markdown",
   "metadata": {},
   "source": [
    "<div class=\"alert alert-success\">\n",
    "\n",
    "**EXERCISE 3**\n",
    "\n",
    "Write a function `process_bike_count_data(df)` that performs the processing steps as done above for an input Pandas DataFrame and returns the updated DataFrame.\n",
    "\n",
    "<details><summary>Hints</summary>\n",
    "\n",
    "- Want to know more about proper documenting your Python functions? Check out the official guide of [numpydoc](https://numpydoc.readthedocs.io/en/latest/format.html). The `Parameters` and `Returns` sections should always be explained.\n",
    "\n",
    "</details>"
   ]
  },
  {
   "cell_type": "code",
   "execution_count": 60,
   "metadata": {
    "tags": [
     "nbtutor-solution"
    ]
   },
   "outputs": [],
   "source": [
    "# %load _solutions/case1_bike_count10.py\n",
    "def process_bike_count_data(df):\n",
    "    \"\"\"Process the provided dataframe: parse datetimes and rename columns.\n",
    "\n",
    "    Parameters\n",
    "    ----------\n",
    "    df : pandas.DataFrame\n",
    "        DataFrame as read from the raw `fietstellingen`,\n",
    "        containing the `datum`, `tijd`, `ri Centrum`\n",
    "        and `ri Mariakerke` columns.\n",
    "\n",
    "    Returns\n",
    "    -------\n",
    "    df2 : pandas.DataFrame\n",
    "        DataFrame with the datetime info as index and the\n",
    "        `direction_centre` and `direction_mariakerke` columns\n",
    "        with the counts.\n",
    "    \"\"\"\n",
    "    df.index = pd.to_datetime(df['datum'] + ' ' + df['tijd'],\n",
    "                              format=\"%d/%m/%Y %H:%M\")\n",
    "    df2 = df.drop(columns=['datum', 'tijd'])\n",
    "    df2 = df2.rename(columns={'ri Centrum': 'direction_centre',\n",
    "                              'ri Mariakerke':'direction_mariakerke'})\n",
    "    return df2"
   ]
  },
  {
   "cell_type": "code",
   "execution_count": 61,
   "metadata": {
    "jupyter": {
     "outputs_hidden": false
    }
   },
   "outputs": [
    {
     "data": {
      "text/html": [
       "<div>\n",
       "<style scoped>\n",
       "    .dataframe tbody tr th:only-of-type {\n",
       "        vertical-align: middle;\n",
       "    }\n",
       "\n",
       "    .dataframe tbody tr th {\n",
       "        vertical-align: top;\n",
       "    }\n",
       "\n",
       "    .dataframe thead th {\n",
       "        text-align: right;\n",
       "    }\n",
       "</style>\n",
       "<table border=\"1\" class=\"dataframe\">\n",
       "  <thead>\n",
       "    <tr style=\"text-align: right;\">\n",
       "      <th></th>\n",
       "      <th>direction_centre</th>\n",
       "      <th>direction_mariakerke</th>\n",
       "    </tr>\n",
       "  </thead>\n",
       "  <tbody>\n",
       "    <tr>\n",
       "      <th>2011-07-14 17:44:00</th>\n",
       "      <td>21</td>\n",
       "      <td>46</td>\n",
       "    </tr>\n",
       "    <tr>\n",
       "      <th>2011-07-14 17:59:00</th>\n",
       "      <td>17</td>\n",
       "      <td>60</td>\n",
       "    </tr>\n",
       "    <tr>\n",
       "      <th>2011-07-14 18:14:00</th>\n",
       "      <td>13</td>\n",
       "      <td>48</td>\n",
       "    </tr>\n",
       "    <tr>\n",
       "      <th>2011-07-14 18:29:00</th>\n",
       "      <td>22</td>\n",
       "      <td>48</td>\n",
       "    </tr>\n",
       "    <tr>\n",
       "      <th>2011-07-14 18:44:00</th>\n",
       "      <td>15</td>\n",
       "      <td>51</td>\n",
       "    </tr>\n",
       "  </tbody>\n",
       "</table>\n",
       "</div>"
      ],
      "text/plain": [
       "                     direction_centre  direction_mariakerke\n",
       "2011-07-14 17:44:00                21                    46\n",
       "2011-07-14 17:59:00                17                    60\n",
       "2011-07-14 18:14:00                13                    48\n",
       "2011-07-14 18:29:00                22                    48\n",
       "2011-07-14 18:44:00                15                    51"
      ]
     },
     "execution_count": 61,
     "metadata": {},
     "output_type": "execute_result"
    }
   ],
   "source": [
    "df_raw = pd.read_csv(\"data/fietstellingencoupure.csv\", sep=';')\n",
    "df_preprocessed = process_bike_count_data(df_raw)\n",
    "df_preprocessed.head()"
   ]
  },
  {
   "cell_type": "markdown",
   "metadata": {},
   "source": [
    "### Store our collected dataset as an interim data product"
   ]
  },
  {
   "cell_type": "markdown",
   "metadata": {},
   "source": [
    "As we finished our data-collection step, we want to save this result as an interim data output of our small investigation. As such, we do not have to re-download all the files each time something went wrong, but can restart from our interim step."
   ]
  },
  {
   "cell_type": "code",
   "execution_count": 62,
   "metadata": {},
   "outputs": [],
   "source": [
    "df_preprocessed.to_csv(\"bike_count_interim.csv\")"
   ]
  },
  {
   "cell_type": "markdown",
   "metadata": {},
   "source": [
    "## Data exploration and analysis"
   ]
  },
  {
   "cell_type": "markdown",
   "metadata": {},
   "source": [
    "We now have a cleaned-up dataset of the bike counts at Coupure Links in Ghent (Belgium). Next, we want to get an impression of the characteristics and properties of the data"
   ]
  },
  {
   "cell_type": "markdown",
   "metadata": {},
   "source": [
    "### Load the interim data"
   ]
  },
  {
   "cell_type": "markdown",
   "metadata": {},
   "source": [
    "Reading the file in from the interim file (when you want to rerun the whole analysis on the updated online data, you would comment out this cell...)"
   ]
  },
  {
   "cell_type": "code",
   "execution_count": 63,
   "metadata": {},
   "outputs": [],
   "source": [
    "df = pd.read_csv(\"bike_count_interim.csv\", index_col=0, parse_dates=True)"
   ]
  },
  {
   "cell_type": "markdown",
   "metadata": {},
   "source": [
    "### Count interval verification"
   ]
  },
  {
   "cell_type": "markdown",
   "metadata": {},
   "source": [
    "The number of bikers are counted for intervals of approximately 15 minutes. But let's check if this is indeed the case. Calculate the difference between each of the consecutive values of the index. We can use the `Series.diff()` method:"
   ]
  },
  {
   "cell_type": "code",
   "execution_count": 64,
   "metadata": {
    "jupyter": {
     "outputs_hidden": false
    }
   },
   "outputs": [
    {
     "data": {
      "text/plain": [
       "2011-07-14 17:44:00               NaT\n",
       "2011-07-14 17:59:00   0 days 00:15:00\n",
       "2011-07-14 18:14:00   0 days 00:15:00\n",
       "2011-07-14 18:29:00   0 days 00:15:00\n",
       "2011-07-14 18:44:00   0 days 00:15:00\n",
       "                            ...      \n",
       "2017-01-18 22:54:00   0 days 00:15:00\n",
       "2017-01-18 23:09:00   0 days 00:15:00\n",
       "2017-01-18 23:24:00   0 days 00:15:00\n",
       "2017-01-18 23:39:00   0 days 00:15:00\n",
       "2017-01-18 23:54:00   0 days 00:15:00\n",
       "Length: 191447, dtype: timedelta64[ns]"
      ]
     },
     "execution_count": 64,
     "metadata": {},
     "output_type": "execute_result"
    }
   ],
   "source": [
    "df.index.to_series().diff()"
   ]
  },
  {
   "cell_type": "markdown",
   "metadata": {},
   "source": [
    "The count of the possible intervals is of interest:"
   ]
  },
  {
   "cell_type": "code",
   "execution_count": 65,
   "metadata": {
    "jupyter": {
     "outputs_hidden": false
    }
   },
   "outputs": [
    {
     "data": {
      "text/plain": [
       "0 days 00:15:00      191356\n",
       "0 days 00:16:00           9\n",
       "0 days 00:09:00           6\n",
       "0 days 00:13:00           6\n",
       "-1 days +23:15:00         6\n",
       "0 days 00:04:00           5\n",
       "0 days 01:15:00           5\n",
       "0 days 00:06:00           4\n",
       "0 days 00:00:00           4\n",
       "0 days 00:03:00           4\n",
       "0 days 00:11:00           4\n",
       "0 days 00:12:00           4\n",
       "0 days 00:02:00           4\n",
       "0 days 00:08:00           4\n",
       "0 days 00:38:00           3\n",
       "0 days 00:10:00           3\n",
       "0 days 00:01:00           3\n",
       "0 days 00:37:00           3\n",
       "0 days 00:05:00           2\n",
       "0 days 00:14:00           2\n",
       "0 days 01:24:00           1\n",
       "0 days 06:49:00           1\n",
       "20 days 21:29:00          1\n",
       "0 days 00:30:00           1\n",
       "0 days 00:20:00           1\n",
       "0 days 00:26:00           1\n",
       "0 days 00:07:00           1\n",
       "0 days 01:11:00           1\n",
       "0 days 00:29:00           1\n",
       "dtype: int64"
      ]
     },
     "execution_count": 65,
     "metadata": {},
     "output_type": "execute_result"
    }
   ],
   "source": [
    "df.index.to_series().diff().value_counts()"
   ]
  },
  {
   "cell_type": "markdown",
   "metadata": {},
   "source": [
    "There are a few records that are not exactly 15min. But given it are only a few ones, we will ignore this for the current case study and just keep them for this explorative study.\n",
    "\n",
    "Bonus question: do you know where the values of `-1 days +23:15:01` and `01:15:00` are coming from?"
   ]
  },
  {
   "cell_type": "code",
   "execution_count": 66,
   "metadata": {
    "jupyter": {
     "outputs_hidden": false
    }
   },
   "outputs": [
    {
     "data": {
      "text/html": [
       "<div>\n",
       "<style scoped>\n",
       "    .dataframe tbody tr th:only-of-type {\n",
       "        vertical-align: middle;\n",
       "    }\n",
       "\n",
       "    .dataframe tbody tr th {\n",
       "        vertical-align: top;\n",
       "    }\n",
       "\n",
       "    .dataframe thead th {\n",
       "        text-align: right;\n",
       "    }\n",
       "</style>\n",
       "<table border=\"1\" class=\"dataframe\">\n",
       "  <thead>\n",
       "    <tr style=\"text-align: right;\">\n",
       "      <th></th>\n",
       "      <th>direction_centre</th>\n",
       "      <th>direction_mariakerke</th>\n",
       "    </tr>\n",
       "  </thead>\n",
       "  <tbody>\n",
       "    <tr>\n",
       "      <th>count</th>\n",
       "      <td>191447.000000</td>\n",
       "      <td>191447.000000</td>\n",
       "    </tr>\n",
       "    <tr>\n",
       "      <th>mean</th>\n",
       "      <td>25.545237</td>\n",
       "      <td>25.338585</td>\n",
       "    </tr>\n",
       "    <tr>\n",
       "      <th>std</th>\n",
       "      <td>31.625619</td>\n",
       "      <td>26.903810</td>\n",
       "    </tr>\n",
       "    <tr>\n",
       "      <th>min</th>\n",
       "      <td>0.000000</td>\n",
       "      <td>0.000000</td>\n",
       "    </tr>\n",
       "    <tr>\n",
       "      <th>25%</th>\n",
       "      <td>5.000000</td>\n",
       "      <td>7.000000</td>\n",
       "    </tr>\n",
       "    <tr>\n",
       "      <th>50%</th>\n",
       "      <td>17.000000</td>\n",
       "      <td>17.000000</td>\n",
       "    </tr>\n",
       "    <tr>\n",
       "      <th>75%</th>\n",
       "      <td>34.000000</td>\n",
       "      <td>34.000000</td>\n",
       "    </tr>\n",
       "    <tr>\n",
       "      <th>max</th>\n",
       "      <td>361.000000</td>\n",
       "      <td>299.000000</td>\n",
       "    </tr>\n",
       "  </tbody>\n",
       "</table>\n",
       "</div>"
      ],
      "text/plain": [
       "       direction_centre  direction_mariakerke\n",
       "count     191447.000000         191447.000000\n",
       "mean          25.545237             25.338585\n",
       "std           31.625619             26.903810\n",
       "min            0.000000              0.000000\n",
       "25%            5.000000              7.000000\n",
       "50%           17.000000             17.000000\n",
       "75%           34.000000             34.000000\n",
       "max          361.000000            299.000000"
      ]
     },
     "execution_count": 66,
     "metadata": {},
     "output_type": "execute_result"
    }
   ],
   "source": [
    "df.describe()"
   ]
  },
  {
   "cell_type": "markdown",
   "metadata": {},
   "source": [
    "### Quiet periods"
   ]
  },
  {
   "cell_type": "markdown",
   "metadata": {},
   "source": [
    "<div class=\"alert alert-success\">\n",
    "\n",
    "**EXERCISE 4**\n",
    "\n",
    "Create a new Pandas Series `df_both` which contains the sum of the counts of both directions.\n",
    "\n",
    "<details><summary>Hints</summary>\n",
    "\n",
    "- Check the purpose of the `axis` argument of the `sum` method.\n",
    "\n",
    "</details>"
   ]
  },
  {
   "cell_type": "code",
   "execution_count": 133,
   "metadata": {},
   "outputs": [
    {
     "data": {
      "text/html": [
       "<div>\n",
       "<style scoped>\n",
       "    .dataframe tbody tr th:only-of-type {\n",
       "        vertical-align: middle;\n",
       "    }\n",
       "\n",
       "    .dataframe tbody tr th {\n",
       "        vertical-align: top;\n",
       "    }\n",
       "\n",
       "    .dataframe thead th {\n",
       "        text-align: right;\n",
       "    }\n",
       "</style>\n",
       "<table border=\"1\" class=\"dataframe\">\n",
       "  <thead>\n",
       "    <tr style=\"text-align: right;\">\n",
       "      <th></th>\n",
       "      <th>direction_mariakerke</th>\n",
       "      <th>direction_centre</th>\n",
       "    </tr>\n",
       "  </thead>\n",
       "  <tbody>\n",
       "    <tr>\n",
       "      <th>2022-01-01 00:00:00</th>\n",
       "      <td>0</td>\n",
       "      <td>0</td>\n",
       "    </tr>\n",
       "    <tr>\n",
       "      <th>2022-01-01 00:05:00</th>\n",
       "      <td>1</td>\n",
       "      <td>1</td>\n",
       "    </tr>\n",
       "    <tr>\n",
       "      <th>2022-01-01 00:10:00</th>\n",
       "      <td>0</td>\n",
       "      <td>1</td>\n",
       "    </tr>\n",
       "    <tr>\n",
       "      <th>2022-01-01 00:15:00</th>\n",
       "      <td>0</td>\n",
       "      <td>0</td>\n",
       "    </tr>\n",
       "    <tr>\n",
       "      <th>2022-01-01 00:20:00</th>\n",
       "      <td>0</td>\n",
       "      <td>2</td>\n",
       "    </tr>\n",
       "    <tr>\n",
       "      <th>...</th>\n",
       "      <td>...</td>\n",
       "      <td>...</td>\n",
       "    </tr>\n",
       "    <tr>\n",
       "      <th>2022-05-31 23:35:00</th>\n",
       "      <td>4</td>\n",
       "      <td>6</td>\n",
       "    </tr>\n",
       "    <tr>\n",
       "      <th>2022-05-31 23:40:00</th>\n",
       "      <td>1</td>\n",
       "      <td>4</td>\n",
       "    </tr>\n",
       "    <tr>\n",
       "      <th>2022-05-31 23:45:00</th>\n",
       "      <td>1</td>\n",
       "      <td>8</td>\n",
       "    </tr>\n",
       "    <tr>\n",
       "      <th>2022-05-31 23:50:00</th>\n",
       "      <td>2</td>\n",
       "      <td>7</td>\n",
       "    </tr>\n",
       "    <tr>\n",
       "      <th>2022-05-31 23:55:00</th>\n",
       "      <td>3</td>\n",
       "      <td>3</td>\n",
       "    </tr>\n",
       "  </tbody>\n",
       "</table>\n",
       "<p>43488 rows × 2 columns</p>\n",
       "</div>"
      ],
      "text/plain": [
       "                     direction_mariakerke  direction_centre\n",
       "2022-01-01 00:00:00                     0                 0\n",
       "2022-01-01 00:05:00                     1                 1\n",
       "2022-01-01 00:10:00                     0                 1\n",
       "2022-01-01 00:15:00                     0                 0\n",
       "2022-01-01 00:20:00                     0                 2\n",
       "...                                   ...               ...\n",
       "2022-05-31 23:35:00                     4                 6\n",
       "2022-05-31 23:40:00                     1                 4\n",
       "2022-05-31 23:45:00                     1                 8\n",
       "2022-05-31 23:50:00                     2                 7\n",
       "2022-05-31 23:55:00                     3                 3\n",
       "\n",
       "[43488 rows x 2 columns]"
      ]
     },
     "execution_count": 133,
     "metadata": {},
     "output_type": "execute_result"
    }
   ],
   "source": [
    "df = pd.read_csv('data/fietstelpaal-coupure-links-2022-gent.csv', sep=';', index_col=0, )\n",
    "df.index = pd.to_datetime(df.index)\n",
    "df"
   ]
  },
  {
   "cell_type": "code",
   "execution_count": 134,
   "metadata": {},
   "outputs": [
    {
     "data": {
      "text/plain": [
       "2022-01-01 00:00:00     0\n",
       "2022-01-01 00:05:00     2\n",
       "2022-01-01 00:10:00     1\n",
       "2022-01-01 00:15:00     0\n",
       "2022-01-01 00:20:00     2\n",
       "                       ..\n",
       "2022-05-31 23:35:00    10\n",
       "2022-05-31 23:40:00     5\n",
       "2022-05-31 23:45:00     9\n",
       "2022-05-31 23:50:00     9\n",
       "2022-05-31 23:55:00     6\n",
       "Length: 43488, dtype: int64"
      ]
     },
     "execution_count": 134,
     "metadata": {},
     "output_type": "execute_result"
    }
   ],
   "source": [
    "df_both = df.direction_centre + df.direction_mariakerke\n",
    "df_both\n"
   ]
  },
  {
   "cell_type": "code",
   "execution_count": 135,
   "metadata": {
    "jupyter": {
     "outputs_hidden": false
    },
    "tags": [
     "nbtutor-solution"
    ]
   },
   "outputs": [
    {
     "data": {
      "text/plain": [
       "2022-01-01 00:00:00     0\n",
       "2022-01-01 00:05:00     2\n",
       "2022-01-01 00:10:00     1\n",
       "2022-01-01 00:15:00     0\n",
       "2022-01-01 00:20:00     2\n",
       "                       ..\n",
       "2022-05-31 23:35:00    10\n",
       "2022-05-31 23:40:00     5\n",
       "2022-05-31 23:45:00     9\n",
       "2022-05-31 23:50:00     9\n",
       "2022-05-31 23:55:00     6\n",
       "Length: 43488, dtype: int64"
      ]
     },
     "execution_count": 135,
     "metadata": {},
     "output_type": "execute_result"
    }
   ],
   "source": [
    "# %load _solutions/case1_bike_count11.py\n",
    "df_both = df.sum(axis=1)\n",
    "df_both"
   ]
  },
  {
   "cell_type": "markdown",
   "metadata": {},
   "source": [
    "<div class=\"alert alert-success\">\n",
    "\n",
    "**EXERCISE 5**\n",
    "\n",
    "Using the `df_both` from the previous exercise, create a new Series `df_quiet` which contains only those intervals for which less than 5 cyclists passed in both directions combined\n",
    "\n",
    "<details><summary>Hints</summary>\n",
    "\n",
    "- Use the `[]` to select data. You can use conditions (so-called _boolean indexing_) returning True/False inside the brackets.\n",
    "\n",
    "</details>"
   ]
  },
  {
   "cell_type": "code",
   "execution_count": 136,
   "metadata": {},
   "outputs": [
    {
     "data": {
      "text/plain": [
       "2022-01-01 00:00:00    0\n",
       "2022-01-01 00:05:00    2\n",
       "2022-01-01 00:10:00    1\n",
       "2022-01-01 00:15:00    0\n",
       "2022-01-01 00:20:00    2\n",
       "dtype: int64"
      ]
     },
     "execution_count": 136,
     "metadata": {},
     "output_type": "execute_result"
    }
   ],
   "source": [
    "df_quiet = df_both.loc[df_both < 5]\n",
    "df_quiet.head()"
   ]
  },
  {
   "cell_type": "code",
   "execution_count": 137,
   "metadata": {
    "tags": [
     "nbtutor-solution"
    ]
   },
   "outputs": [],
   "source": [
    "# %load _solutions/case1_bike_count12.py\n",
    "df_quiet = df_both[df_both < 5]"
   ]
  },
  {
   "cell_type": "markdown",
   "metadata": {},
   "source": [
    "<div class=\"alert alert-success\">\n",
    "\n",
    "**EXERCISE 6**\n",
    "\n",
    "Using the original data `df`, select only the intervals for which less than 3 cyclists passed in one or the other direction. Hence, less than 3 cyclists towards the center or less than 3 cyclists towards Mariakerke.\n",
    "\n",
    "<details><summary>Hints</summary>\n",
    "\n",
    "- To combine conditions use the `|` (or) or the `&` (and) operators.\n",
    "- Make sure to use `()` around each individual condition.\n",
    "\n",
    "</details>"
   ]
  },
  {
   "cell_type": "code",
   "execution_count": 138,
   "metadata": {},
   "outputs": [
    {
     "data": {
      "text/html": [
       "<div>\n",
       "<style scoped>\n",
       "    .dataframe tbody tr th:only-of-type {\n",
       "        vertical-align: middle;\n",
       "    }\n",
       "\n",
       "    .dataframe tbody tr th {\n",
       "        vertical-align: top;\n",
       "    }\n",
       "\n",
       "    .dataframe thead th {\n",
       "        text-align: right;\n",
       "    }\n",
       "</style>\n",
       "<table border=\"1\" class=\"dataframe\">\n",
       "  <thead>\n",
       "    <tr style=\"text-align: right;\">\n",
       "      <th></th>\n",
       "      <th>direction_mariakerke</th>\n",
       "      <th>direction_centre</th>\n",
       "    </tr>\n",
       "  </thead>\n",
       "  <tbody>\n",
       "    <tr>\n",
       "      <th>2022-01-01 00:00:00</th>\n",
       "      <td>0</td>\n",
       "      <td>0</td>\n",
       "    </tr>\n",
       "    <tr>\n",
       "      <th>2022-01-01 00:05:00</th>\n",
       "      <td>1</td>\n",
       "      <td>1</td>\n",
       "    </tr>\n",
       "    <tr>\n",
       "      <th>2022-01-01 00:10:00</th>\n",
       "      <td>0</td>\n",
       "      <td>1</td>\n",
       "    </tr>\n",
       "    <tr>\n",
       "      <th>2022-01-01 00:15:00</th>\n",
       "      <td>0</td>\n",
       "      <td>0</td>\n",
       "    </tr>\n",
       "    <tr>\n",
       "      <th>2022-01-01 00:20:00</th>\n",
       "      <td>0</td>\n",
       "      <td>2</td>\n",
       "    </tr>\n",
       "    <tr>\n",
       "      <th>...</th>\n",
       "      <td>...</td>\n",
       "      <td>...</td>\n",
       "    </tr>\n",
       "    <tr>\n",
       "      <th>2022-05-31 23:25:00</th>\n",
       "      <td>7</td>\n",
       "      <td>2</td>\n",
       "    </tr>\n",
       "    <tr>\n",
       "      <th>2022-05-31 23:30:00</th>\n",
       "      <td>2</td>\n",
       "      <td>9</td>\n",
       "    </tr>\n",
       "    <tr>\n",
       "      <th>2022-05-31 23:40:00</th>\n",
       "      <td>1</td>\n",
       "      <td>4</td>\n",
       "    </tr>\n",
       "    <tr>\n",
       "      <th>2022-05-31 23:45:00</th>\n",
       "      <td>1</td>\n",
       "      <td>8</td>\n",
       "    </tr>\n",
       "    <tr>\n",
       "      <th>2022-05-31 23:50:00</th>\n",
       "      <td>2</td>\n",
       "      <td>7</td>\n",
       "    </tr>\n",
       "  </tbody>\n",
       "</table>\n",
       "<p>13961 rows × 2 columns</p>\n",
       "</div>"
      ],
      "text/plain": [
       "                     direction_mariakerke  direction_centre\n",
       "2022-01-01 00:00:00                     0                 0\n",
       "2022-01-01 00:05:00                     1                 1\n",
       "2022-01-01 00:10:00                     0                 1\n",
       "2022-01-01 00:15:00                     0                 0\n",
       "2022-01-01 00:20:00                     0                 2\n",
       "...                                   ...               ...\n",
       "2022-05-31 23:25:00                     7                 2\n",
       "2022-05-31 23:30:00                     2                 9\n",
       "2022-05-31 23:40:00                     1                 4\n",
       "2022-05-31 23:45:00                     1                 8\n",
       "2022-05-31 23:50:00                     2                 7\n",
       "\n",
       "[13961 rows x 2 columns]"
      ]
     },
     "execution_count": 138,
     "metadata": {},
     "output_type": "execute_result"
    }
   ],
   "source": [
    "df.loc[(df.direction_centre < 3) | (df.direction_mariakerke < 3)]"
   ]
  },
  {
   "cell_type": "code",
   "execution_count": 139,
   "metadata": {
    "jupyter": {
     "outputs_hidden": false
    },
    "tags": [
     "nbtutor-solution"
    ]
   },
   "outputs": [
    {
     "data": {
      "text/html": [
       "<div>\n",
       "<style scoped>\n",
       "    .dataframe tbody tr th:only-of-type {\n",
       "        vertical-align: middle;\n",
       "    }\n",
       "\n",
       "    .dataframe tbody tr th {\n",
       "        vertical-align: top;\n",
       "    }\n",
       "\n",
       "    .dataframe thead th {\n",
       "        text-align: right;\n",
       "    }\n",
       "</style>\n",
       "<table border=\"1\" class=\"dataframe\">\n",
       "  <thead>\n",
       "    <tr style=\"text-align: right;\">\n",
       "      <th></th>\n",
       "      <th>direction_mariakerke</th>\n",
       "      <th>direction_centre</th>\n",
       "    </tr>\n",
       "  </thead>\n",
       "  <tbody>\n",
       "    <tr>\n",
       "      <th>2022-01-01 00:00:00</th>\n",
       "      <td>0</td>\n",
       "      <td>0</td>\n",
       "    </tr>\n",
       "    <tr>\n",
       "      <th>2022-01-01 00:05:00</th>\n",
       "      <td>1</td>\n",
       "      <td>1</td>\n",
       "    </tr>\n",
       "    <tr>\n",
       "      <th>2022-01-01 00:10:00</th>\n",
       "      <td>0</td>\n",
       "      <td>1</td>\n",
       "    </tr>\n",
       "    <tr>\n",
       "      <th>2022-01-01 00:15:00</th>\n",
       "      <td>0</td>\n",
       "      <td>0</td>\n",
       "    </tr>\n",
       "    <tr>\n",
       "      <th>2022-01-01 00:20:00</th>\n",
       "      <td>0</td>\n",
       "      <td>2</td>\n",
       "    </tr>\n",
       "    <tr>\n",
       "      <th>...</th>\n",
       "      <td>...</td>\n",
       "      <td>...</td>\n",
       "    </tr>\n",
       "    <tr>\n",
       "      <th>2022-05-31 23:25:00</th>\n",
       "      <td>7</td>\n",
       "      <td>2</td>\n",
       "    </tr>\n",
       "    <tr>\n",
       "      <th>2022-05-31 23:30:00</th>\n",
       "      <td>2</td>\n",
       "      <td>9</td>\n",
       "    </tr>\n",
       "    <tr>\n",
       "      <th>2022-05-31 23:40:00</th>\n",
       "      <td>1</td>\n",
       "      <td>4</td>\n",
       "    </tr>\n",
       "    <tr>\n",
       "      <th>2022-05-31 23:45:00</th>\n",
       "      <td>1</td>\n",
       "      <td>8</td>\n",
       "    </tr>\n",
       "    <tr>\n",
       "      <th>2022-05-31 23:50:00</th>\n",
       "      <td>2</td>\n",
       "      <td>7</td>\n",
       "    </tr>\n",
       "  </tbody>\n",
       "</table>\n",
       "<p>13961 rows × 2 columns</p>\n",
       "</div>"
      ],
      "text/plain": [
       "                     direction_mariakerke  direction_centre\n",
       "2022-01-01 00:00:00                     0                 0\n",
       "2022-01-01 00:05:00                     1                 1\n",
       "2022-01-01 00:10:00                     0                 1\n",
       "2022-01-01 00:15:00                     0                 0\n",
       "2022-01-01 00:20:00                     0                 2\n",
       "...                                   ...               ...\n",
       "2022-05-31 23:25:00                     7                 2\n",
       "2022-05-31 23:30:00                     2                 9\n",
       "2022-05-31 23:40:00                     1                 4\n",
       "2022-05-31 23:45:00                     1                 8\n",
       "2022-05-31 23:50:00                     2                 7\n",
       "\n",
       "[13961 rows x 2 columns]"
      ]
     },
     "execution_count": 139,
     "metadata": {},
     "output_type": "execute_result"
    }
   ],
   "source": [
    "# %load _solutions/case1_bike_count13.py\n",
    "df[(df['direction_centre'] < 3) | (df['direction_mariakerke'] < 3)]"
   ]
  },
  {
   "cell_type": "markdown",
   "metadata": {},
   "source": [
    "### Count statistics"
   ]
  },
  {
   "cell_type": "markdown",
   "metadata": {},
   "source": [
    "<div class=\"alert alert-success\">\n",
    "\n",
    "**EXERCISE 7**\n",
    "\n",
    "What is the average number of bikers passing every 15 min in each direction?\n",
    "\n",
    "<details><summary>Hints</summary>\n",
    "\n",
    "- As the time series is already 15min level, this is just the same as taking the mean.\n",
    "\n",
    "</details>"
   ]
  },
  {
   "cell_type": "code",
   "execution_count": 140,
   "metadata": {},
   "outputs": [
    {
     "data": {
      "text/plain": [
       "direction_mariakerke    11.884474\n",
       "direction_centre        11.777364\n",
       "dtype: float64"
      ]
     },
     "execution_count": 140,
     "metadata": {},
     "output_type": "execute_result"
    }
   ],
   "source": [
    "df.mean()"
   ]
  },
  {
   "cell_type": "code",
   "execution_count": 141,
   "metadata": {
    "jupyter": {
     "outputs_hidden": false
    },
    "tags": [
     "nbtutor-solution"
    ]
   },
   "outputs": [
    {
     "data": {
      "text/plain": [
       "direction_mariakerke    11.884474\n",
       "direction_centre        11.777364\n",
       "dtype: float64"
      ]
     },
     "execution_count": 141,
     "metadata": {},
     "output_type": "execute_result"
    }
   ],
   "source": [
    "# %load _solutions/case1_bike_count14.py\n",
    "df.mean()"
   ]
  },
  {
   "cell_type": "markdown",
   "metadata": {},
   "source": [
    "<div class=\"alert alert-success\">\n",
    "\n",
    "**EXERCISE 8**\n",
    "\n",
    "What is the average number of bikers passing each hour?\n",
    "\n",
    "<details><summary>Hints</summary>\n",
    "\n",
    "- Use `resample` to first calculate the number of bikers passing each hour.\n",
    "- `resample` requires an aggregation function that defines how to combine the values within each group (in this case all values within each hour).\n",
    "\n",
    "</details>"
   ]
  },
  {
   "cell_type": "code",
   "execution_count": 143,
   "metadata": {},
   "outputs": [
    {
     "data": {
      "text/plain": [
       "direction_mariakerke    35.653422\n",
       "direction_centre        35.332092\n",
       "dtype: float64"
      ]
     },
     "execution_count": 143,
     "metadata": {},
     "output_type": "execute_result"
    }
   ],
   "source": [
    "df.resample('15min').sum().mean()"
   ]
  },
  {
   "cell_type": "code",
   "execution_count": 144,
   "metadata": {
    "jupyter": {
     "outputs_hidden": false
    },
    "tags": [
     "nbtutor-solution"
    ]
   },
   "outputs": [
    {
     "data": {
      "text/plain": [
       "direction_mariakerke    142.613687\n",
       "direction_centre        141.328366\n",
       "dtype: float64"
      ]
     },
     "execution_count": 144,
     "metadata": {},
     "output_type": "execute_result"
    }
   ],
   "source": [
    "# %load _solutions/case1_bike_count15.py\n",
    "df.resample('H').sum().mean()"
   ]
  },
  {
   "cell_type": "markdown",
   "metadata": {},
   "source": [
    "<div class=\"alert alert-success\">\n",
    "\n",
    "**EXERCISE 9**\n",
    "\n",
    "What are the 10 highest peak values observed during any of the intervals for the direction towards the center of Ghent?\n",
    "\n",
    "<details><summary>Hints</summary>\n",
    "\n",
    "- Pandas provides the `nsmallest` and  `nlargest` methods to derive N smallest/largest values of a column.\n",
    "\n",
    "</details>"
   ]
  },
  {
   "cell_type": "code",
   "execution_count": 146,
   "metadata": {},
   "outputs": [
    {
     "data": {
      "text/html": [
       "<div>\n",
       "<style scoped>\n",
       "    .dataframe tbody tr th:only-of-type {\n",
       "        vertical-align: middle;\n",
       "    }\n",
       "\n",
       "    .dataframe tbody tr th {\n",
       "        vertical-align: top;\n",
       "    }\n",
       "\n",
       "    .dataframe thead th {\n",
       "        text-align: right;\n",
       "    }\n",
       "</style>\n",
       "<table border=\"1\" class=\"dataframe\">\n",
       "  <thead>\n",
       "    <tr style=\"text-align: right;\">\n",
       "      <th></th>\n",
       "      <th>direction_mariakerke</th>\n",
       "      <th>direction_centre</th>\n",
       "    </tr>\n",
       "  </thead>\n",
       "  <tbody>\n",
       "    <tr>\n",
       "      <th>2022-05-10 17:00:00</th>\n",
       "      <td>479</td>\n",
       "      <td>784</td>\n",
       "    </tr>\n",
       "    <tr>\n",
       "      <th>2022-05-17 17:00:00</th>\n",
       "      <td>448</td>\n",
       "      <td>784</td>\n",
       "    </tr>\n",
       "    <tr>\n",
       "      <th>2022-04-19 17:00:00</th>\n",
       "      <td>428</td>\n",
       "      <td>768</td>\n",
       "    </tr>\n",
       "    <tr>\n",
       "      <th>2022-05-03 17:00:00</th>\n",
       "      <td>461</td>\n",
       "      <td>735</td>\n",
       "    </tr>\n",
       "    <tr>\n",
       "      <th>2022-05-05 17:00:00</th>\n",
       "      <td>424</td>\n",
       "      <td>709</td>\n",
       "    </tr>\n",
       "    <tr>\n",
       "      <th>2022-04-21 17:00:00</th>\n",
       "      <td>460</td>\n",
       "      <td>708</td>\n",
       "    </tr>\n",
       "    <tr>\n",
       "      <th>2022-03-22 17:00:00</th>\n",
       "      <td>487</td>\n",
       "      <td>703</td>\n",
       "    </tr>\n",
       "    <tr>\n",
       "      <th>2022-05-17 16:00:00</th>\n",
       "      <td>359</td>\n",
       "      <td>703</td>\n",
       "    </tr>\n",
       "    <tr>\n",
       "      <th>2022-04-26 17:00:00</th>\n",
       "      <td>406</td>\n",
       "      <td>700</td>\n",
       "    </tr>\n",
       "    <tr>\n",
       "      <th>2022-04-28 17:00:00</th>\n",
       "      <td>429</td>\n",
       "      <td>694</td>\n",
       "    </tr>\n",
       "  </tbody>\n",
       "</table>\n",
       "</div>"
      ],
      "text/plain": [
       "                     direction_mariakerke  direction_centre\n",
       "2022-05-10 17:00:00                   479               784\n",
       "2022-05-17 17:00:00                   448               784\n",
       "2022-04-19 17:00:00                   428               768\n",
       "2022-05-03 17:00:00                   461               735\n",
       "2022-05-05 17:00:00                   424               709\n",
       "2022-04-21 17:00:00                   460               708\n",
       "2022-03-22 17:00:00                   487               703\n",
       "2022-05-17 16:00:00                   359               703\n",
       "2022-04-26 17:00:00                   406               700\n",
       "2022-04-28 17:00:00                   429               694"
      ]
     },
     "execution_count": 146,
     "metadata": {},
     "output_type": "execute_result"
    }
   ],
   "source": [
    "df.resample('H').sum().nlargest(10, columns=['direction_centre'])"
   ]
  },
  {
   "cell_type": "code",
   "execution_count": 147,
   "metadata": {
    "jupyter": {
     "outputs_hidden": false
    },
    "tags": [
     "nbtutor-solution"
    ]
   },
   "outputs": [
    {
     "data": {
      "text/plain": [
       "2022-05-10 17:15:00    110\n",
       "2022-04-28 15:45:00     93\n",
       "2022-04-20 12:15:00     92\n",
       "2022-05-31 17:10:00     88\n",
       "2022-03-08 15:45:00     87\n",
       "2022-05-17 17:20:00     87\n",
       "2022-05-18 12:10:00     86\n",
       "2022-04-27 12:15:00     85\n",
       "2022-05-03 15:45:00     85\n",
       "2022-05-12 16:35:00     85\n",
       "Name: direction_centre, dtype: int64"
      ]
     },
     "execution_count": 147,
     "metadata": {},
     "output_type": "execute_result"
    }
   ],
   "source": [
    "# %load _solutions/case1_bike_count16.py\n",
    "df['direction_centre'].nlargest(10)\n",
    "# alternative:\n",
    "# df['direction_centre'].sort_values(ascending=False).head(10)"
   ]
  },
  {
   "cell_type": "markdown",
   "metadata": {},
   "source": [
    "<div class=\"alert alert-success\">\n",
    "\n",
    "**EXERCISE 10**\n",
    "\n",
    "What is the maximum number of cyclist that passed on a single day calculated on both directions combined?\n",
    "\n",
    "<details><summary>Hints</summary>\n",
    "\n",
    "- Combine both directions by taking the sum.\n",
    "- Next, `resample` to daily values\n",
    "- Get the maximum value or ask for the n largest to see the dates as well.\n",
    "\n",
    "</details>"
   ]
  },
  {
   "cell_type": "code",
   "execution_count": 152,
   "metadata": {},
   "outputs": [
    {
     "data": {
      "text/plain": [
       "2022-04-21    11823\n",
       "2022-05-10    11691\n",
       "2022-05-03    11558\n",
       "2022-05-17    11553\n",
       "2022-04-28    11539\n",
       "2022-05-04    11537\n",
       "2022-03-24    11521\n",
       "2022-04-20    11506\n",
       "2022-05-12    11407\n",
       "2022-05-11    11321\n",
       "dtype: int64"
      ]
     },
     "execution_count": 152,
     "metadata": {},
     "output_type": "execute_result"
    }
   ],
   "source": [
    "df_both = df.sum(axis=1)\n",
    "df_daily = df_both.resample('D').sum()\n",
    "df_daily.nlargest(10)"
   ]
  },
  {
   "cell_type": "code",
   "execution_count": null,
   "metadata": {
    "tags": [
     "nbtutor-solution"
    ]
   },
   "outputs": [],
   "source": [
    "# %load _solutions/case1_bike_count17.py\n",
    "df_both = df.sum(axis=1)"
   ]
  },
  {
   "cell_type": "code",
   "execution_count": null,
   "metadata": {
    "tags": [
     "nbtutor-solution"
    ]
   },
   "outputs": [],
   "source": [
    "# %load _solutions/case1_bike_count18.py\n",
    "df_daily = df_both.resample('D').sum()"
   ]
  },
  {
   "cell_type": "code",
   "execution_count": null,
   "metadata": {
    "jupyter": {
     "outputs_hidden": false
    },
    "tags": [
     "nbtutor-solution"
    ]
   },
   "outputs": [],
   "source": [
    "# %load _solutions/case1_bike_count19.py\n",
    "df_daily.max()"
   ]
  },
  {
   "cell_type": "code",
   "execution_count": null,
   "metadata": {
    "tags": [
     "nbtutor-solution"
    ]
   },
   "outputs": [],
   "source": [
    "# %load _solutions/case1_bike_count20.py\n",
    "df_daily.nlargest(10)"
   ]
  },
  {
   "cell_type": "markdown",
   "metadata": {},
   "source": [
    "The high number of bikers passing on 2013-06-05 was not by coincidence: http://www.nieuwsblad.be/cnt/dmf20130605_022 ;-)"
   ]
  },
  {
   "cell_type": "markdown",
   "metadata": {},
   "source": [
    "### Trends as function of time"
   ]
  },
  {
   "cell_type": "markdown",
   "metadata": {},
   "source": [
    "<div class=\"alert alert-success\">\n",
    "\n",
    "**EXERCISE 11**\n",
    "\n",
    "How does the long-term trend look like? Calculate monthly sums and plot the result.\n",
    "\n",
    "<details><summary>Hints</summary>\n",
    "\n",
    "- The symbol for monthly resampling is `M`.\n",
    "- Use the `plot` method of Pandas, which will generate a line plot of each numeric column by default.\n",
    "\n",
    "</details>"
   ]
  },
  {
   "cell_type": "code",
   "execution_count": null,
   "metadata": {
    "jupyter": {
     "outputs_hidden": false
    },
    "tags": [
     "nbtutor-solution"
    ]
   },
   "outputs": [],
   "source": [
    "# %load _solutions/case1_bike_count21.py"
   ]
  },
  {
   "cell_type": "markdown",
   "metadata": {},
   "source": [
    "<div class=\"alert alert-success\">\n",
    "\n",
    "**EXERCISE 12**\n",
    "\n",
    "Let's have a look at some short term patterns. For the data of the first 3 weeks of January 2014, calculate the hourly counts and visualize them.\n",
    "\n",
    "<details><summary>Hints</summary>\n",
    "\n",
    "- Slicing is done using `[]`, you can use string representation of dates to select from a `datetime` index: e.g. `'2010-01-01':'2020-12-31'`\n",
    "\n",
    "</details>"
   ]
  },
  {
   "cell_type": "code",
   "execution_count": null,
   "metadata": {
    "tags": [
     "nbtutor-solution"
    ]
   },
   "outputs": [],
   "source": [
    "# %load _solutions/case1_bike_count22.py"
   ]
  },
  {
   "cell_type": "code",
   "execution_count": null,
   "metadata": {
    "jupyter": {
     "outputs_hidden": false
    },
    "tags": [
     "nbtutor-solution"
    ]
   },
   "outputs": [],
   "source": [
    "# %load _solutions/case1_bike_count23.py"
   ]
  },
  {
   "cell_type": "code",
   "execution_count": null,
   "metadata": {
    "jupyter": {
     "outputs_hidden": false
    },
    "tags": [
     "nbtutor-solution"
    ]
   },
   "outputs": [],
   "source": [
    "# %load _solutions/case1_bike_count24.py"
   ]
  },
  {
   "cell_type": "markdown",
   "metadata": {},
   "source": [
    "**New Year's Eve 2013-2014**"
   ]
  },
  {
   "cell_type": "markdown",
   "metadata": {},
   "source": [
    "<div class=\"alert alert-success\">\n",
    "\n",
    "**EXERCISE 13**\n",
    "\n",
    "- Select a subset of the dataset from 2013-12-31 12:00:00 until 2014-01-01 12:00:00 and assign the result to a new variable `newyear`\n",
    "- Plot the selected data `newyear`.\n",
    "- Use a `rolling` function with a window of 10 values (check documentation of the function) to smooth the data of this period and make a plot of the smoothed version.\n",
    "\n",
    "<details><summary>Hints</summary>\n",
    "\n",
    "- Just like `resample`, `rolling` requires an aggregate statistic (e.g. mean, median,...) to combine the values within the window.\n",
    "\n",
    "</details>"
   ]
  },
  {
   "cell_type": "code",
   "execution_count": null,
   "metadata": {
    "tags": [
     "nbtutor-solution"
    ]
   },
   "outputs": [],
   "source": [
    "# %load _solutions/case1_bike_count25.py"
   ]
  },
  {
   "cell_type": "code",
   "execution_count": null,
   "metadata": {
    "jupyter": {
     "outputs_hidden": false
    },
    "tags": [
     "nbtutor-solution"
    ]
   },
   "outputs": [],
   "source": [
    "# %load _solutions/case1_bike_count26.py"
   ]
  },
  {
   "cell_type": "code",
   "execution_count": null,
   "metadata": {
    "jupyter": {
     "outputs_hidden": false
    },
    "tags": [
     "nbtutor-solution"
    ]
   },
   "outputs": [],
   "source": [
    "# %load _solutions/case1_bike_count27.py"
   ]
  },
  {
   "cell_type": "markdown",
   "metadata": {},
   "source": [
    "A more advanced usage of Matplotlib to create a combined plot:"
   ]
  },
  {
   "cell_type": "code",
   "execution_count": null,
   "metadata": {
    "jupyter": {
     "outputs_hidden": false
    },
    "tags": [
     "nbtutor-solution"
    ]
   },
   "outputs": [],
   "source": [
    "# %load _solutions/case1_bike_count28.py"
   ]
  },
  {
   "cell_type": "markdown",
   "metadata": {},
   "source": [
    "---\n",
    "\n",
    "## The power of `groupby`...\n",
    "\n",
    "Looking at the data in the above exercises, there seems to be clearly a:\n",
    "\n",
    "- daily pattern\n",
    "- weekly pattern\n",
    "- yearly pattern\n",
    "\n",
    "Such patterns can easily be calculated and visualized in pandas using the `DatetimeIndex` attributes `dayofweek` combined with `groupby` functionality. Below a taste of the possibilities, and we will learn about this in the proceeding notebooks:"
   ]
  },
  {
   "cell_type": "markdown",
   "metadata": {},
   "source": [
    "**Weekly pattern**:"
   ]
  },
  {
   "cell_type": "code",
   "execution_count": null,
   "metadata": {},
   "outputs": [],
   "source": [
    "df_daily = df.resample('D').sum()"
   ]
  },
  {
   "cell_type": "code",
   "execution_count": null,
   "metadata": {
    "jupyter": {
     "outputs_hidden": false
    }
   },
   "outputs": [],
   "source": [
    "df_daily.groupby(df_daily.index.dayofweek).mean().plot(kind='bar')"
   ]
  },
  {
   "cell_type": "markdown",
   "metadata": {},
   "source": [
    "**Daily pattern:**"
   ]
  },
  {
   "cell_type": "code",
   "execution_count": null,
   "metadata": {},
   "outputs": [],
   "source": [
    "df_hourly = df.resample('H').sum()"
   ]
  },
  {
   "cell_type": "code",
   "execution_count": null,
   "metadata": {
    "jupyter": {
     "outputs_hidden": false
    }
   },
   "outputs": [],
   "source": [
    "df_hourly.groupby(df_hourly.index.hour).mean().plot()"
   ]
  },
  {
   "cell_type": "markdown",
   "metadata": {},
   "source": [
    "So the daily pattern is clearly different for both directions. In the morning more people go north, in the evening more people go south. The morning peak is also more condensed."
   ]
  },
  {
   "cell_type": "markdown",
   "metadata": {},
   "source": [
    "**Monthly pattern**"
   ]
  },
  {
   "cell_type": "code",
   "execution_count": null,
   "metadata": {},
   "outputs": [],
   "source": [
    "df_monthly = df.resample('M').sum()"
   ]
  },
  {
   "cell_type": "code",
   "execution_count": null,
   "metadata": {},
   "outputs": [],
   "source": [
    "from calendar import month_abbr"
   ]
  },
  {
   "cell_type": "code",
   "execution_count": null,
   "metadata": {
    "jupyter": {
     "outputs_hidden": false
    }
   },
   "outputs": [],
   "source": [
    "ax = df_monthly.groupby(df_monthly.index.month).mean().plot()\n",
    "ax.set_ylim(0)\n",
    "xlabels = ax.set_xticklabels(list(month_abbr)[0::2]) #too lazy to write the month values yourself..."
   ]
  },
  {
   "cell_type": "markdown",
   "metadata": {},
   "source": [
    "## Acknowledgements\n",
    "Thanks to the [city of Ghent](https://data.stad.gent/) for opening their data\n"
   ]
  }
 ],
 "metadata": {
  "celltoolbar": "Nbtutor - export exercises",
  "jupytext": {
   "formats": "ipynb,md:myst"
  },
  "kernelspec": {
   "display_name": "Python 3 (ipykernel)",
   "language": "python",
   "name": "python3"
  },
  "language_info": {
   "codemirror_mode": {
    "name": "ipython",
    "version": 3
   },
   "file_extension": ".py",
   "mimetype": "text/x-python",
   "name": "python",
   "nbconvert_exporter": "python",
   "pygments_lexer": "ipython3",
   "version": "3.9.12"
  },
  "nav_menu": {},
  "toc": {
   "navigate_menu": true,
   "number_sections": false,
   "sideBar": true,
   "threshold": 6,
   "toc_cell": false,
   "toc_section_display": "block",
   "toc_window_display": true
  },
  "widgets": {
   "application/vnd.jupyter.widget-state+json": {
    "state": {},
    "version_major": 2,
    "version_minor": 0
   }
  }
 },
 "nbformat": 4,
 "nbformat_minor": 4
}
