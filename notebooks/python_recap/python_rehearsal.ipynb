{
 "cells": [
  {
   "cell_type": "markdown",
   "metadata": {},
   "source": [
    "<p><font size=\"6\"><b> Python rehearsal</b></font></p>\n",
    "\n",
    "> *DS Data manipulation, analysis and visualization in Python*  \n",
    "> *May/June, 2021*\n",
    ">\n",
    "> *© 2021, Joris Van den Bossche and Stijn Van Hoey  (<mailto:jorisvandenbossche@gmail.com>, <mailto:stijnvanhoey@gmail.com>). Licensed under [CC BY 4.0 Creative Commons](http://creativecommons.org/licenses/by/4.0/)*\n",
    "\n",
    "---"
   ]
  },
  {
   "cell_type": "markdown",
   "metadata": {},
   "source": [
    "## I measure air pressure"
   ]
  },
  {
   "cell_type": "code",
   "execution_count": 1,
   "metadata": {
    "ExecuteTime": {
     "end_time": "2023-07-30T18:43:17.916474Z",
     "start_time": "2023-07-30T18:43:17.913231Z"
    }
   },
   "outputs": [],
   "source": [
    "pressure_hPa = 1010 # hPa"
   ]
  },
  {
   "cell_type": "markdown",
   "metadata": {},
   "source": [
    "<div class=\"alert alert-info\">\n",
    "    <b>REMEMBER</b>: Use meaningful variable names\n",
    "</div>"
   ]
  },
  {
   "cell_type": "markdown",
   "metadata": {},
   "source": [
    "I'm measuring at sea level, what would be the air pressure of this measured value on other altitudes?"
   ]
  },
  {
   "cell_type": "markdown",
   "metadata": {},
   "source": [
    "## I'm curious what the equivalent pressure would be on other alitudes..."
   ]
  },
  {
   "cell_type": "markdown",
   "metadata": {},
   "source": [
    "The **barometric formula**, sometimes called the exponential atmosphere or isothermal atmosphere, is a formula used to model how the **pressure** (or density) of the air **changes with altitude**. The pressure drops approximately by 11.3 Pa per meter in first 1000 meters above sea level.\n",
    "\n",
    "$$P=P_0 \\cdot \\exp \\left[\\frac{-g \\cdot M \\cdot h}{R \\cdot T}\\right]$$\n",
    "\n",
    "see https://www.math24.net/barometric-formula/ or https://en.wikipedia.org/wiki/Atmospheric_pressure"
   ]
  },
  {
   "cell_type": "markdown",
   "metadata": {},
   "source": [
    "where:\n",
    "* $T$ = standard temperature, 288.15 (K)\n",
    "* $R$ = universal gas constant, 8.3144598, (J/mol/K)\n",
    "* $g$ = gravitational acceleration, 9.81 (m/s$^2$)\n",
    "* $M$ = molar mass of Earth's air, 0.02896 (kg/mol)\n",
    "\n",
    "and:\n",
    "* $P_0$ = sea level pressure (hPa)\n",
    "* $h$ = height above sea level (m)"
   ]
  },
  {
   "cell_type": "markdown",
   "metadata": {},
   "source": [
    "Let's implement this..."
   ]
  },
  {
   "cell_type": "markdown",
   "metadata": {},
   "source": [
    "To calculate the formula, I need the exponential operator. Pure Python provide a number of mathematical functions, e.g. https://docs.python.org/3.7/library/math.html#math.exp within the `math` library"
   ]
  },
  {
   "cell_type": "code",
   "execution_count": 2,
   "metadata": {
    "ExecuteTime": {
     "end_time": "2023-07-30T18:43:22.492430Z",
     "start_time": "2023-07-30T18:43:22.486935Z"
    }
   },
   "outputs": [],
   "source": [
    "import math"
   ]
  },
  {
   "cell_type": "code",
   "execution_count": 3,
   "metadata": {
    "ExecuteTime": {
     "end_time": "2023-07-30T18:43:22.910815Z",
     "start_time": "2023-07-30T18:43:22.904981Z"
    }
   },
   "outputs": [],
   "source": [
    "# ...modules and libraries..."
   ]
  },
  {
   "cell_type": "markdown",
   "metadata": {},
   "source": [
    "<div class=\"alert alert-danger\">\n",
    "    <b>DON'T</b>: <code>from os import *</code>. Just don't!\n",
    "</div>"
   ]
  },
  {
   "cell_type": "code",
   "execution_count": 4,
   "metadata": {
    "ExecuteTime": {
     "end_time": "2023-07-30T18:43:23.610800Z",
     "start_time": "2023-07-30T18:43:23.605852Z"
    }
   },
   "outputs": [],
   "source": [
    "standard_temperature = 288.15\n",
    "gas_constant = 8.31446\n",
    "gravit_acc = 9.81\n",
    "molar_mass_earth = 0.02896"
   ]
  },
  {
   "cell_type": "markdown",
   "metadata": {},
   "source": [
    "<div class=\"alert alert-success\">\n",
    "    <b>EXERCISE</b>: \n",
    "        <ul>\n",
    "          <li>Calculate the equivalent air pressure at the altitude of 2500 m above sea level for our measured value of <code>pressure_hPa</code> (1010 hPa)</li>\n",
    "    </ul> \n",
    "</div>"
   ]
  },
  {
   "cell_type": "code",
   "execution_count": 5,
   "metadata": {
    "clear_cell": true,
    "ExecuteTime": {
     "end_time": "2023-07-30T18:43:24.588922Z",
     "start_time": "2023-07-30T18:43:24.585371Z"
    }
   },
   "outputs": [
    {
     "data": {
      "text/plain": "750.885560345225"
     },
     "execution_count": 5,
     "metadata": {},
     "output_type": "execute_result"
    }
   ],
   "source": [
    "height = 2500\n",
    "pressure_hPa * math.exp(-gravit_acc * molar_mass_earth* height/(gas_constant*standard_temperature))"
   ]
  },
  {
   "cell_type": "code",
   "execution_count": 6,
   "metadata": {
    "ExecuteTime": {
     "end_time": "2023-07-30T18:43:25.217991Z",
     "start_time": "2023-07-30T18:43:25.212381Z"
    }
   },
   "outputs": [],
   "source": [
    "# ...function/definition for barometric_formula... "
   ]
  },
  {
   "cell_type": "code",
   "execution_count": 7,
   "metadata": {
    "clear_cell": true,
    "ExecuteTime": {
     "end_time": "2023-07-30T18:43:25.566649Z",
     "start_time": "2023-07-30T18:43:25.561841Z"
    }
   },
   "outputs": [],
   "source": [
    "def barometric_formula(pressure_sea_level, height=2500):\n",
    "    \"\"\"Apply barometric formula\n",
    "    \n",
    "    Apply the barometric formula to calculate the air pressure on a given height\n",
    "    \n",
    "    Parameters\n",
    "    ----------\n",
    "    pressure_sea_level : float\n",
    "        pressure, measured as sea level\n",
    "    height : float\n",
    "        height above sea level (m)\n",
    "    \n",
    "    Notes\n",
    "    ------\n",
    "    see https://www.math24.net/barometric-formula/ or \n",
    "    https://en.wikipedia.org/wiki/Atmospheric_pressure\n",
    "    \"\"\"\n",
    "    standard_temperature = 288.15\n",
    "    gas_constant = 8.3144598\n",
    "    gravit_acc = 9.81\n",
    "    molar_mass_earth = 0.02896\n",
    "    \n",
    "    pressure_altitude = pressure_sea_level * math.exp(-gravit_acc * molar_mass_earth* height/(gas_constant*standard_temperature))\n",
    "    return pressure_altitude"
   ]
  },
  {
   "cell_type": "code",
   "execution_count": 8,
   "metadata": {
    "ExecuteTime": {
     "end_time": "2023-07-30T18:43:25.705124Z",
     "start_time": "2023-07-30T18:43:25.698811Z"
    }
   },
   "outputs": [
    {
     "data": {
      "text/plain": "796.752205935891"
     },
     "execution_count": 8,
     "metadata": {},
     "output_type": "execute_result"
    }
   ],
   "source": [
    "barometric_formula(pressure_hPa, 2000)"
   ]
  },
  {
   "cell_type": "code",
   "execution_count": 9,
   "metadata": {
    "ExecuteTime": {
     "end_time": "2023-07-30T18:43:26.172978Z",
     "start_time": "2023-07-30T18:43:26.168036Z"
    }
   },
   "outputs": [
    {
     "data": {
      "text/plain": "750.8855549906549"
     },
     "execution_count": 9,
     "metadata": {},
     "output_type": "execute_result"
    }
   ],
   "source": [
    "barometric_formula(pressure_hPa)"
   ]
  },
  {
   "cell_type": "code",
   "execution_count": 10,
   "metadata": {
    "ExecuteTime": {
     "end_time": "2023-07-30T18:43:26.751603Z",
     "start_time": "2023-07-30T18:43:26.746091Z"
    }
   },
   "outputs": [],
   "source": [
    "# ...formula not valid above 11000m... \n",
    "# barometric_formula(pressure_hPa, 12000)"
   ]
  },
  {
   "cell_type": "code",
   "execution_count": 15,
   "metadata": {
    "clear_cell": true,
    "ExecuteTime": {
     "end_time": "2023-07-30T18:46:02.493283Z",
     "start_time": "2023-07-30T18:46:02.487189Z"
    }
   },
   "outputs": [],
   "source": [
    "def barometric_formula(pressure_sea_level, height=2500):\n",
    "    \"\"\"Apply barometric formula\n",
    "    \n",
    "    Apply the barometric formula to calculate the air pressure on a given height\n",
    "    \n",
    "    Parameters\n",
    "    ----------\n",
    "    pressure_sea_level : float\n",
    "        pressure, measured as sea level\n",
    "    height : float\n",
    "        height above sea level (m)\n",
    "    \n",
    "    Notes\n",
    "    ------\n",
    "    see https://www.math24.net/barometric-formula/ or \n",
    "    https://en.wikipedia.org/wiki/Atmospheric_pressure\n",
    "    \"\"\"\n",
    "    if height > 11000:\n",
    "        raise Exception(\"Barometric formula only valid for heights lower than 11000m above sea level\")\n",
    "    \n",
    "    standard_temperature = 288.15\n",
    "    gas_constant = 8.3144598\n",
    "    gravit_acc = 9.81\n",
    "    molar_mass_earth = 0.02896\n",
    "    \n",
    "    pressure_altitude = pressure_sea_level * math.exp(-gravit_acc * molar_mass_earth* height/(gas_constant*standard_temperature))\n",
    "    return pressure_altitude"
   ]
  },
  {
   "cell_type": "code",
   "execution_count": 16,
   "metadata": {
    "ExecuteTime": {
     "end_time": "2023-07-30T18:46:03.083104Z",
     "start_time": "2023-07-30T18:46:03.070749Z"
    }
   },
   "outputs": [],
   "source": [
    "# ...combining logical statements... "
   ]
  },
  {
   "cell_type": "code",
   "execution_count": 17,
   "metadata": {
    "ExecuteTime": {
     "end_time": "2023-07-30T18:46:03.423695Z",
     "start_time": "2023-07-30T18:46:03.417266Z"
    }
   },
   "outputs": [
    {
     "data": {
      "text/plain": "True"
     },
     "execution_count": 17,
     "metadata": {},
     "output_type": "execute_result"
    }
   ],
   "source": [
    "height > 11000 or pressure_hPa < 9000"
   ]
  },
  {
   "cell_type": "code",
   "execution_count": 18,
   "metadata": {
    "ExecuteTime": {
     "end_time": "2023-07-30T18:46:03.743762Z",
     "start_time": "2023-07-30T18:46:03.732308Z"
    }
   },
   "outputs": [],
   "source": [
    "# ...load function from file..."
   ]
  },
  {
   "cell_type": "markdown",
   "metadata": {},
   "source": [
    "Instead of having the functions in a notebook, importing the function from a file can be done as importing a function from an installed package. Save the function `barometric_formula` in a file called `barometric_formula.py` and add the required import statement `import math` on top of the file. Next, run the following cell:"
   ]
  },
  {
   "cell_type": "code",
   "execution_count": 19,
   "metadata": {
    "clear_cell": false,
    "ExecuteTime": {
     "end_time": "2023-07-30T18:46:06.239684Z",
     "start_time": "2023-07-30T18:46:06.015247Z"
    }
   },
   "outputs": [
    {
     "ename": "ModuleNotFoundError",
     "evalue": "No module named 'barometric_formula'",
     "output_type": "error",
     "traceback": [
      "\u001B[0;31m---------------------------------------------------------------------------\u001B[0m",
      "\u001B[0;31mModuleNotFoundError\u001B[0m                       Traceback (most recent call last)",
      "Input \u001B[0;32mIn [19]\u001B[0m, in \u001B[0;36m<module>\u001B[0;34m\u001B[0m\n\u001B[0;32m----> 1\u001B[0m \u001B[38;5;28;01mfrom\u001B[39;00m \u001B[38;5;21;01mbarometric_formula\u001B[39;00m \u001B[38;5;28;01mimport\u001B[39;00m barometric_formula\n",
      "\u001B[0;31mModuleNotFoundError\u001B[0m: No module named 'barometric_formula'"
     ]
    }
   ],
   "source": [
    "from barometric_formula import barometric_formula"
   ]
  },
  {
   "cell_type": "markdown",
   "metadata": {},
   "source": [
    "<div class=\"alert alert-info\">\n",
    "    <b>REMEMBER</b>: \n",
    "     <ul>\n",
    "      <li>Write functions to prevent copy-pasting of code and maximize reuse</li>\n",
    "      <li>Add documentation to functions for your future self</li>\n",
    "      <li>Named arguments provide default values</li>\n",
    "      <li>Import functions from a file just as other modules</li>\n",
    "    </ul> \n",
    "    \n",
    "</div>"
   ]
  },
  {
   "cell_type": "markdown",
   "metadata": {},
   "source": [
    "## I measure air pressure multiple times"
   ]
  },
  {
   "cell_type": "markdown",
   "metadata": {},
   "source": [
    "We can store these in a Python [list](https://docs.python.org/3/tutorial/introduction.html#lists):"
   ]
  },
  {
   "cell_type": "code",
   "execution_count": 20,
   "metadata": {
    "ExecuteTime": {
     "end_time": "2023-07-30T18:46:27.706339Z",
     "start_time": "2023-07-30T18:46:27.699320Z"
    }
   },
   "outputs": [],
   "source": [
    "pressures_hPa = [1013, 1003, 1010, 1020, 1032, 993, 989, 1018, 889, 1001]"
   ]
  },
  {
   "cell_type": "code",
   "execution_count": 21,
   "metadata": {
    "ExecuteTime": {
     "end_time": "2023-07-30T18:46:29.071602Z",
     "start_time": "2023-07-30T18:46:29.061595Z"
    }
   },
   "outputs": [],
   "source": [
    "# ...check methods of lists... append vs insert"
   ]
  },
  {
   "cell_type": "markdown",
   "metadata": {},
   "source": [
    "<div class=\"alert alert-warning\">\n",
    "    <b>Notice</b>: \n",
    "        <ul>\n",
    "          <li>A list is a general container, so can exist of mixed data types as well.</li>\n",
    "    </ul> \n",
    "</div>"
   ]
  },
  {
   "cell_type": "code",
   "execution_count": 23,
   "metadata": {
    "ExecuteTime": {
     "end_time": "2023-07-30T18:46:38.395780Z",
     "start_time": "2023-07-30T18:46:38.389960Z"
    }
   },
   "outputs": [],
   "source": [
    "# ...list is a container..."
   ]
  },
  {
   "cell_type": "markdown",
   "metadata": {},
   "source": [
    "### I want to apply my function to each of these measurements"
   ]
  },
  {
   "cell_type": "markdown",
   "metadata": {},
   "source": [
    "I want to calculate the barometric formula **for** each of these measured values."
   ]
  },
  {
   "cell_type": "code",
   "execution_count": 24,
   "metadata": {
    "ExecuteTime": {
     "end_time": "2023-07-30T18:46:49.309353Z",
     "start_time": "2023-07-30T18:46:49.303790Z"
    }
   },
   "outputs": [],
   "source": [
    "# ...for loop... dummy example"
   ]
  },
  {
   "cell_type": "markdown",
   "metadata": {},
   "source": [
    "<div class=\"alert alert-success\">\n",
    "    <b>EXERCISE</b>: \n",
    "        <ul>\n",
    "          <li>Write a <code>for</code> loop that prints the adjusted value for altitude 3000m for each of the pressures in <code>pressures_hPa</code> </li>\n",
    "    </ul> \n",
    "</div>"
   ]
  },
  {
   "cell_type": "code",
   "execution_count": 25,
   "metadata": {
    "clear_cell": true,
    "ExecuteTime": {
     "end_time": "2023-07-30T18:46:50.821312Z",
     "start_time": "2023-07-30T18:46:50.816362Z"
    }
   },
   "outputs": [
    {
     "name": "stdout",
     "output_type": "stream",
     "text": [
      "709.761268850131\n",
      "702.7547410233775\n",
      "707.659310502105\n",
      "714.6658383288585\n",
      "723.0736717209627\n",
      "695.748213196624\n",
      "692.9456020659226\n",
      "713.2645327635078\n",
      "622.8803237983875\n",
      "701.3534354580269\n"
     ]
    }
   ],
   "source": [
    "for pressure in pressures_hPa:\n",
    "    print(barometric_formula(pressure, 3000))"
   ]
  },
  {
   "cell_type": "code",
   "execution_count": 26,
   "metadata": {
    "ExecuteTime": {
     "end_time": "2023-07-30T18:46:53.202953Z",
     "start_time": "2023-07-30T18:46:53.188345Z"
    }
   },
   "outputs": [],
   "source": [
    "# ...list comprehensions..."
   ]
  },
  {
   "cell_type": "markdown",
   "metadata": {},
   "source": [
    "<div class=\"alert alert-success\">\n",
    "    <b>EXERCISE</b>: \n",
    "        <ul>\n",
    "          <li>Write a <code>for</code> loop as a list comprehension to calculate the adjusted value for altitude 3000m for each of the pressures in <code>pressures_hPa</code> and store these values in a new variable <code>pressures_hPa_adjusted</code></li>\n",
    "    </ul> \n",
    "</div>"
   ]
  },
  {
   "cell_type": "code",
   "execution_count": 27,
   "metadata": {
    "clear_cell": true,
    "ExecuteTime": {
     "end_time": "2023-07-30T18:47:00.147673Z",
     "start_time": "2023-07-30T18:47:00.143853Z"
    }
   },
   "outputs": [
    {
     "data": {
      "text/plain": "[709.761268850131,\n 702.7547410233775,\n 707.659310502105,\n 714.6658383288585,\n 723.0736717209627,\n 695.748213196624,\n 692.9456020659226,\n 713.2645327635078,\n 622.8803237983875,\n 701.3534354580269]"
     },
     "execution_count": 27,
     "metadata": {},
     "output_type": "execute_result"
    }
   ],
   "source": [
    "pressures_hPa_adjusted = [barometric_formula(pressure, 3000) for pressure in pressures_hPa]\n",
    "pressures_hPa_adjusted"
   ]
  },
  {
   "cell_type": "markdown",
   "metadata": {},
   "source": [
    "### The power of numpy"
   ]
  },
  {
   "cell_type": "code",
   "execution_count": 29,
   "metadata": {
    "ExecuteTime": {
     "end_time": "2023-07-30T18:47:17.482372Z",
     "start_time": "2023-07-30T18:47:17.478273Z"
    }
   },
   "outputs": [],
   "source": [
    "import numpy as np"
   ]
  },
  {
   "cell_type": "code",
   "execution_count": 30,
   "metadata": {
    "ExecuteTime": {
     "end_time": "2023-07-30T18:47:18.919266Z",
     "start_time": "2023-07-30T18:47:18.913537Z"
    }
   },
   "outputs": [],
   "source": [
    "pressures_hPa = [1013, 1003, 1010, 1020, 1032, 993, 989, 1018, 889, 1001]"
   ]
  },
  {
   "cell_type": "code",
   "execution_count": 31,
   "metadata": {
    "ExecuteTime": {
     "end_time": "2023-07-30T18:47:20.148230Z",
     "start_time": "2023-07-30T18:47:20.144794Z"
    }
   },
   "outputs": [],
   "source": [
    "np_pressures_hPa = np.array([1013, 1003, 1010, 1020, 1032, 993, 989, 1018, 889, 1001])"
   ]
  },
  {
   "cell_type": "code",
   "execution_count": 32,
   "metadata": {
    "ExecuteTime": {
     "end_time": "2023-07-30T18:47:21.811842Z",
     "start_time": "2023-07-30T18:47:21.801085Z"
    }
   },
   "outputs": [],
   "source": [
    "# ...slicing/subselecting is similar..."
   ]
  },
  {
   "cell_type": "code",
   "execution_count": 33,
   "metadata": {
    "ExecuteTime": {
     "end_time": "2023-07-30T18:47:24.848794Z",
     "start_time": "2023-07-30T18:47:24.840137Z"
    }
   },
   "outputs": [
    {
     "name": "stdout",
     "output_type": "stream",
     "text": [
      "1013 1013\n"
     ]
    }
   ],
   "source": [
    "print(np_pressures_hPa[0], pressures_hPa[0])"
   ]
  },
  {
   "cell_type": "markdown",
   "metadata": {},
   "source": [
    "<div class=\"alert alert-info\">\n",
    "    <b>REMEMBER</b>: \n",
    "    <ul>\n",
    "        <li> <code>[]</code> for accessing elements\n",
    "        <li> <code>[start:end:step]</code>\n",
    "    </ul>\n",
    "</div>"
   ]
  },
  {
   "cell_type": "code",
   "execution_count": 34,
   "metadata": {
    "ExecuteTime": {
     "end_time": "2023-07-30T18:47:40.008832Z",
     "start_time": "2023-07-30T18:47:40.000133Z"
    }
   },
   "outputs": [],
   "source": [
    "# ...original function using numpy array instead of list... do both"
   ]
  },
  {
   "cell_type": "code",
   "execution_count": 35,
   "metadata": {
    "clear_cell": true,
    "ExecuteTime": {
     "end_time": "2023-07-30T18:47:47.819026Z",
     "start_time": "2023-07-30T18:47:47.811074Z"
    }
   },
   "outputs": [
    {
     "data": {
      "text/plain": "array([753.11591349, 745.681403  , 750.88556035, 758.32007084,\n       767.24148344, 738.2468925 , 735.2730883 , 756.83316874,\n       660.92798331, 744.1945009 ])"
     },
     "execution_count": 35,
     "metadata": {},
     "output_type": "execute_result"
    }
   ],
   "source": [
    "np_pressures_hPa * math.exp(-gravit_acc * molar_mass_earth* height/(gas_constant*standard_temperature))"
   ]
  },
  {
   "cell_type": "markdown",
   "metadata": {},
   "source": [
    "<div class=\"alert alert-info\">\n",
    "    <b>REMEMBER</b>: The operations do work on all elements of the array at the same time, you don't need a <strike>`for` loop<strike>\n",
    "</div>"
   ]
  },
  {
   "cell_type": "markdown",
   "metadata": {},
   "source": [
    "It is also a matter of **calculation speed**:"
   ]
  },
  {
   "cell_type": "code",
   "execution_count": 36,
   "metadata": {
    "ExecuteTime": {
     "end_time": "2023-07-30T18:47:58.363009Z",
     "start_time": "2023-07-30T18:47:58.356579Z"
    }
   },
   "outputs": [],
   "source": [
    "lots_of_pressures = np.random.uniform(990, 1040, 1000)"
   ]
  },
  {
   "cell_type": "code",
   "execution_count": 37,
   "metadata": {
    "ExecuteTime": {
     "end_time": "2023-07-30T18:48:01.717060Z",
     "start_time": "2023-07-30T18:47:59.798630Z"
    }
   },
   "outputs": [
    {
     "name": "stdout",
     "output_type": "stream",
     "text": [
      "240 µs ± 41.8 µs per loop (mean ± std. dev. of 7 runs, 1,000 loops each)\n"
     ]
    }
   ],
   "source": [
    "%timeit [barometric_formula(pressure, 3000) for pressure in list(lots_of_pressures)]"
   ]
  },
  {
   "cell_type": "code",
   "execution_count": 38,
   "metadata": {
    "ExecuteTime": {
     "end_time": "2023-07-30T18:48:13.804139Z",
     "start_time": "2023-07-30T18:48:04.009081Z"
    }
   },
   "outputs": [
    {
     "name": "stdout",
     "output_type": "stream",
     "text": [
      "1.21 µs ± 17.3 ns per loop (mean ± std. dev. of 7 runs, 1,000,000 loops each)\n"
     ]
    }
   ],
   "source": [
    "%timeit lots_of_pressures * np.exp(-gravit_acc * molar_mass_earth* height/(gas_constant*standard_temperature))"
   ]
  },
  {
   "cell_type": "markdown",
   "metadata": {},
   "source": [
    "<div class=\"alert alert-info\">\n",
    "    <b>REMEMBER</b>: for calculations, numpy outperforms python\n",
    "</div>"
   ]
  },
  {
   "cell_type": "markdown",
   "metadata": {},
   "source": [
    "### Boolean indexing and filtering (!)"
   ]
  },
  {
   "cell_type": "code",
   "execution_count": 39,
   "metadata": {
    "ExecuteTime": {
     "end_time": "2023-07-30T18:48:35.872001Z",
     "start_time": "2023-07-30T18:48:35.858832Z"
    }
   },
   "outputs": [
    {
     "data": {
      "text/plain": "array([1013, 1003, 1010, 1020, 1032,  993,  989, 1018,  889, 1001])"
     },
     "execution_count": 39,
     "metadata": {},
     "output_type": "execute_result"
    }
   ],
   "source": [
    "np_pressures_hPa"
   ]
  },
  {
   "cell_type": "code",
   "execution_count": 40,
   "metadata": {
    "ExecuteTime": {
     "end_time": "2023-07-30T18:48:36.602493Z",
     "start_time": "2023-07-30T18:48:36.594094Z"
    }
   },
   "outputs": [
    {
     "data": {
      "text/plain": "array([ True,  True,  True,  True,  True, False, False,  True, False,\n        True])"
     },
     "execution_count": 40,
     "metadata": {},
     "output_type": "execute_result"
    }
   ],
   "source": [
    "np_pressures_hPa > 1000"
   ]
  },
  {
   "cell_type": "markdown",
   "metadata": {},
   "source": [
    "You can use this as a filter to select elements of an array:"
   ]
  },
  {
   "cell_type": "code",
   "execution_count": 41,
   "metadata": {
    "ExecuteTime": {
     "end_time": "2023-07-30T18:48:38.353815Z",
     "start_time": "2023-07-30T18:48:38.348383Z"
    }
   },
   "outputs": [
    {
     "data": {
      "text/plain": "array([1013, 1003, 1010, 1020, 1032, 1018, 1001])"
     },
     "execution_count": 41,
     "metadata": {},
     "output_type": "execute_result"
    }
   ],
   "source": [
    "boolean_mask = np_pressures_hPa > 1000\n",
    "np_pressures_hPa[boolean_mask]"
   ]
  },
  {
   "cell_type": "markdown",
   "metadata": {},
   "source": [
    "or, also to change the values in the array corresponding to these conditions:"
   ]
  },
  {
   "cell_type": "code",
   "execution_count": 42,
   "metadata": {
    "ExecuteTime": {
     "end_time": "2023-07-30T18:48:40.736759Z",
     "start_time": "2023-07-30T18:48:40.732671Z"
    }
   },
   "outputs": [
    {
     "data": {
      "text/plain": "array([1013, 1003, 1010, 1020, 1032,  993,  989, 1018,  900, 1001])"
     },
     "execution_count": 42,
     "metadata": {},
     "output_type": "execute_result"
    }
   ],
   "source": [
    "boolean_mask = np_pressures_hPa < 900\n",
    "np_pressures_hPa[boolean_mask] = 900\n",
    "np_pressures_hPa"
   ]
  },
  {
   "cell_type": "markdown",
   "metadata": {},
   "source": [
    "**Intermezzo:** Exercises boolean indexing:"
   ]
  },
  {
   "cell_type": "code",
   "execution_count": 43,
   "metadata": {
    "ExecuteTime": {
     "end_time": "2023-07-30T18:48:42.107389Z",
     "start_time": "2023-07-30T18:48:42.101705Z"
    }
   },
   "outputs": [
    {
     "data": {
      "text/plain": "array([ 6, 11,  9,  6,  2,  5, 18,  2, 18,  8, 15,  0, 13,  6, 17])"
     },
     "execution_count": 43,
     "metadata": {},
     "output_type": "execute_result"
    }
   ],
   "source": [
    "AR = np.random.randint(0, 20, 15)\n",
    "AR"
   ]
  },
  {
   "cell_type": "markdown",
   "metadata": {},
   "source": [
    "<div class=\"alert alert-success\">\n",
    "    <b>EXERCISE</b>: Count the number of values in AR that are larger than 10 \n",
    "    \n",
    "_Tip:_ You can count with True = 1 and False = 0 and take the sum of these values\n",
    "</div>"
   ]
  },
  {
   "cell_type": "code",
   "execution_count": 44,
   "metadata": {
    "clear_cell": true,
    "ExecuteTime": {
     "end_time": "2023-07-30T18:48:44.166357Z",
     "start_time": "2023-07-30T18:48:44.160990Z"
    }
   },
   "outputs": [
    {
     "data": {
      "text/plain": "6"
     },
     "execution_count": 44,
     "metadata": {},
     "output_type": "execute_result"
    }
   ],
   "source": [
    "sum(AR > 10)"
   ]
  },
  {
   "cell_type": "markdown",
   "metadata": {},
   "source": [
    "<div class=\"alert alert-success\">\n",
    "    <b>EXERCISE</b>: Change all even numbers of `AR` into zero-values.\n",
    "</div>"
   ]
  },
  {
   "cell_type": "code",
   "execution_count": 45,
   "metadata": {
    "clear_cell": true,
    "ExecuteTime": {
     "end_time": "2023-07-30T18:48:48.572116Z",
     "start_time": "2023-07-30T18:48:48.569871Z"
    }
   },
   "outputs": [
    {
     "data": {
      "text/plain": "array([ 0, 11,  9,  0,  0,  5,  0,  0,  0,  0, 15,  0, 13,  0, 17])"
     },
     "execution_count": 45,
     "metadata": {},
     "output_type": "execute_result"
    }
   ],
   "source": [
    "AR[AR%2 == 0] = 0\n",
    "AR"
   ]
  },
  {
   "cell_type": "markdown",
   "metadata": {},
   "source": [
    "<div class=\"alert alert-success\">\n",
    "    <b>EXERCISE</b>: Change all even positions of matrix AR into the value 30\n",
    "</div>"
   ]
  },
  {
   "cell_type": "code",
   "execution_count": 46,
   "metadata": {
    "clear_cell": true,
    "ExecuteTime": {
     "end_time": "2023-07-30T18:48:50.420349Z",
     "start_time": "2023-07-30T18:48:50.414568Z"
    }
   },
   "outputs": [
    {
     "data": {
      "text/plain": "array([ 0, 30,  9, 30,  0, 30,  0, 30,  0, 30, 15, 30, 13, 30, 17])"
     },
     "execution_count": 46,
     "metadata": {},
     "output_type": "execute_result"
    }
   ],
   "source": [
    "AR[1::2] = 30\n",
    "AR"
   ]
  },
  {
   "cell_type": "markdown",
   "metadata": {},
   "source": [
    "<div class=\"alert alert-success\">\n",
    "    <b>EXERCISE</b>: Select all values above the 75th percentile of the following array AR2 ad take the square root of these values\n",
    "    \n",
    "_Tip_: numpy provides a function `percentile` to calculate a given percentile\n",
    "</div>"
   ]
  },
  {
   "cell_type": "code",
   "execution_count": 47,
   "metadata": {
    "clear_cell": false,
    "ExecuteTime": {
     "end_time": "2023-07-30T18:48:51.252288Z",
     "start_time": "2023-07-30T18:48:51.249694Z"
    }
   },
   "outputs": [
    {
     "data": {
      "text/plain": "array([0.56354465, 0.90609244, 0.97432193, 0.50588242, 0.26526763,\n       0.0217226 , 0.62290326, 0.84309044, 0.1673356 , 0.3640135 ])"
     },
     "execution_count": 47,
     "metadata": {},
     "output_type": "execute_result"
    }
   ],
   "source": [
    "AR2 = np.random.random(10)\n",
    "AR2"
   ]
  },
  {
   "cell_type": "code",
   "execution_count": 48,
   "metadata": {
    "clear_cell": true,
    "ExecuteTime": {
     "end_time": "2023-07-30T18:48:51.664627Z",
     "start_time": "2023-07-30T18:48:51.651624Z"
    }
   },
   "outputs": [
    {
     "data": {
      "text/plain": "array([0.95188888, 0.98707747, 0.91819957])"
     },
     "execution_count": 48,
     "metadata": {},
     "output_type": "execute_result"
    }
   ],
   "source": [
    "np.sqrt(AR2[AR2 > np.percentile(AR2, 75)])"
   ]
  },
  {
   "cell_type": "markdown",
   "metadata": {},
   "source": [
    "<div class=\"alert alert-success\">\n",
    "    <b>EXERCISE</b>: Convert all values -99 of the array AR3 into Nan-values \n",
    "\n",
    "_Tip_: that Nan values can be provided in float arrays as `np.nan` and that numpy provides a specialized function to compare float values, i.e. `np.isclose()`\n",
    "</div>"
   ]
  },
  {
   "cell_type": "code",
   "execution_count": 49,
   "metadata": {
    "ExecuteTime": {
     "end_time": "2023-07-30T18:48:52.551341Z",
     "start_time": "2023-07-30T18:48:52.546123Z"
    }
   },
   "outputs": [],
   "source": [
    "AR3 = np.array([-99., 2., 3., 6., 8, -99., 7., 5., 6., -99.])"
   ]
  },
  {
   "cell_type": "code",
   "execution_count": 50,
   "metadata": {
    "clear_cell": true,
    "ExecuteTime": {
     "end_time": "2023-07-30T18:48:52.924316Z",
     "start_time": "2023-07-30T18:48:52.918733Z"
    }
   },
   "outputs": [
    {
     "data": {
      "text/plain": "array([nan,  2.,  3.,  6.,  8., nan,  7.,  5.,  6., nan])"
     },
     "execution_count": 50,
     "metadata": {},
     "output_type": "execute_result"
    }
   ],
   "source": [
    "AR3[np.isclose(AR3, -99)] = np.nan\n",
    "AR3"
   ]
  },
  {
   "cell_type": "markdown",
   "metadata": {},
   "source": [
    "## I also have measurement locations"
   ]
  },
  {
   "cell_type": "code",
   "execution_count": 51,
   "metadata": {
    "ExecuteTime": {
     "end_time": "2023-07-30T18:48:54.540135Z",
     "start_time": "2023-07-30T18:48:54.533418Z"
    }
   },
   "outputs": [],
   "source": [
    "location = 'Ghent - Sterre'"
   ]
  },
  {
   "cell_type": "code",
   "execution_count": 52,
   "metadata": {
    "ExecuteTime": {
     "end_time": "2023-07-30T18:48:57.083903Z",
     "start_time": "2023-07-30T18:48:57.071708Z"
    }
   },
   "outputs": [],
   "source": [
    "# ...check methods of strings... split, upper,..."
   ]
  },
  {
   "cell_type": "code",
   "execution_count": 52,
   "metadata": {
    "ExecuteTime": {
     "end_time": "2023-07-30T18:48:57.465994Z",
     "start_time": "2023-07-30T18:48:57.460729Z"
    }
   },
   "outputs": [],
   "source": []
  },
  {
   "cell_type": "code",
   "execution_count": 53,
   "metadata": {
    "ExecuteTime": {
     "end_time": "2023-07-30T18:48:57.802258Z",
     "start_time": "2023-07-30T18:48:57.796696Z"
    }
   },
   "outputs": [],
   "source": [
    "locations = ['Ghent - Sterre', 'Ghent - Coupure', 'Ghent - Blandijn', \n",
    "             'Ghent - Korenlei', 'Ghent - Kouter', 'Ghent - Coupure',\n",
    "             'Antwerp - Groenplaats', 'Brussels- Grand place', \n",
    "             'Antwerp - Justitipaleis', 'Brussels - Tour & taxis']"
   ]
  },
  {
   "cell_type": "markdown",
   "metadata": {},
   "source": [
    "<div class=\"alert alert alert-success\">\n",
    "    <b>EXERCISE</b>: Use a list comprehension to convert all locations to lower case.\n",
    "    \n",
    "_Tip:_ check the available methods of lists by writing: `location.` + TAB button\n",
    "</div>"
   ]
  },
  {
   "cell_type": "code",
   "execution_count": 54,
   "metadata": {
    "clear_cell": true,
    "ExecuteTime": {
     "end_time": "2023-07-30T18:48:59.364096Z",
     "start_time": "2023-07-30T18:48:59.358901Z"
    }
   },
   "outputs": [
    {
     "data": {
      "text/plain": "['ghent - sterre',\n 'ghent - coupure',\n 'ghent - blandijn',\n 'ghent - korenlei',\n 'ghent - kouter',\n 'ghent - coupure',\n 'antwerp - groenplaats',\n 'brussels- grand place',\n 'antwerp - justitipaleis',\n 'brussels - tour & taxis']"
     },
     "execution_count": 54,
     "metadata": {},
     "output_type": "execute_result"
    }
   ],
   "source": [
    "[location.lower() for location in locations]"
   ]
  },
  {
   "cell_type": "markdown",
   "metadata": {},
   "source": [
    "## I also measure temperature"
   ]
  },
  {
   "cell_type": "code",
   "execution_count": 55,
   "metadata": {
    "ExecuteTime": {
     "end_time": "2023-07-30T18:49:00.083562Z",
     "start_time": "2023-07-30T18:49:00.080239Z"
    }
   },
   "outputs": [],
   "source": [
    "pressures_hPa = [1013, 1003, 1010, 1020, 1032, 993, 989, 1018, 889, 1001]\n",
    "temperature_degree = [23, 20, 17, 8, 12, 5, 16, 22, -2, 16]\n",
    "locations = ['Ghent - Sterre', 'Ghent - Coupure', 'Ghent - Blandijn', \n",
    "             'Ghent - Korenlei', 'Ghent - Kouter', 'Ghent - Coupure',\n",
    "             'Antwerp - Groenplaats', 'Brussels- Grand place', \n",
    "             'Antwerp - Justitipaleis', 'Brussels - Tour & taxis']"
   ]
  },
  {
   "cell_type": "markdown",
   "metadata": {},
   "source": [
    "Python [dictionaries](https://docs.python.org/3/tutorial/datastructures.html#dictionaries) are a convenient way to store multiple types of data together, to not have too much different variables:"
   ]
  },
  {
   "cell_type": "code",
   "execution_count": 56,
   "metadata": {
    "ExecuteTime": {
     "end_time": "2023-07-30T18:49:00.772416Z",
     "start_time": "2023-07-30T18:49:00.767074Z"
    }
   },
   "outputs": [],
   "source": [
    "measurement = {}\n",
    "measurement['pressure_hPa'] = 1010\n",
    "measurement['temperature'] = 23"
   ]
  },
  {
   "cell_type": "code",
   "execution_count": 57,
   "metadata": {
    "ExecuteTime": {
     "end_time": "2023-07-30T18:49:00.980141Z",
     "start_time": "2023-07-30T18:49:00.974640Z"
    }
   },
   "outputs": [
    {
     "data": {
      "text/plain": "{'pressure_hPa': 1010, 'temperature': 23}"
     },
     "execution_count": 57,
     "metadata": {},
     "output_type": "execute_result"
    }
   ],
   "source": [
    "measurement"
   ]
  },
  {
   "cell_type": "code",
   "execution_count": 58,
   "metadata": {
    "ExecuteTime": {
     "end_time": "2023-07-30T18:49:01.133460Z",
     "start_time": "2023-07-30T18:49:01.127863Z"
    }
   },
   "outputs": [],
   "source": [
    "# ...select on name, iterate over keys or items..."
   ]
  },
  {
   "cell_type": "code",
   "execution_count": 58,
   "metadata": {
    "ExecuteTime": {
     "end_time": "2023-07-30T18:49:01.281336Z",
     "start_time": "2023-07-30T18:49:01.275518Z"
    }
   },
   "outputs": [],
   "source": []
  },
  {
   "cell_type": "code",
   "execution_count": 59,
   "metadata": {
    "ExecuteTime": {
     "end_time": "2023-07-30T18:49:01.444695Z",
     "start_time": "2023-07-30T18:49:01.438654Z"
    }
   },
   "outputs": [],
   "source": [
    "measurements = {'pressure_hPa': pressures_hPa,\n",
    "                'temperature_degree': temperature_degree,\n",
    "                'location': locations}"
   ]
  },
  {
   "cell_type": "code",
   "execution_count": 60,
   "metadata": {
    "ExecuteTime": {
     "end_time": "2023-07-30T18:49:01.601579Z",
     "start_time": "2023-07-30T18:49:01.596119Z"
    }
   },
   "outputs": [
    {
     "data": {
      "text/plain": "{'pressure_hPa': [1013, 1003, 1010, 1020, 1032, 993, 989, 1018, 889, 1001],\n 'temperature_degree': [23, 20, 17, 8, 12, 5, 16, 22, -2, 16],\n 'location': ['Ghent - Sterre',\n  'Ghent - Coupure',\n  'Ghent - Blandijn',\n  'Ghent - Korenlei',\n  'Ghent - Kouter',\n  'Ghent - Coupure',\n  'Antwerp - Groenplaats',\n  'Brussels- Grand place',\n  'Antwerp - Justitipaleis',\n  'Brussels - Tour & taxis']}"
     },
     "execution_count": 60,
     "metadata": {},
     "output_type": "execute_result"
    }
   ],
   "source": [
    "measurements"
   ]
  },
  {
   "cell_type": "markdown",
   "metadata": {},
   "source": [
    "__But__: I want to apply my barometric function to measurements taken in Ghent when the temperature was below 10 degrees..."
   ]
  },
  {
   "cell_type": "code",
   "execution_count": 61,
   "metadata": {
    "ExecuteTime": {
     "end_time": "2023-07-30T18:49:01.939382Z",
     "start_time": "2023-07-30T18:49:01.935943Z"
    }
   },
   "outputs": [
    {
     "name": "stdout",
     "output_type": "stream",
     "text": [
      "714.6658383288585\n",
      "695.748213196624\n"
     ]
    }
   ],
   "source": [
    "for idx, pressure in enumerate(measurements['pressure_hPa']):\n",
    "    if measurements['location'][idx].startswith(\"Ghent\") and \\\n",
    "        measurements['temperature_degree'][idx]< 10:\n",
    "        print(barometric_formula(pressure, 3000))\n",
    "        "
   ]
  },
  {
   "cell_type": "markdown",
   "metadata": {},
   "source": [
    "## when a table would be more appropriate... Pandas!"
   ]
  },
  {
   "cell_type": "code",
   "execution_count": 62,
   "metadata": {
    "ExecuteTime": {
     "end_time": "2023-07-30T18:49:02.659411Z",
     "start_time": "2023-07-30T18:49:02.654490Z"
    }
   },
   "outputs": [],
   "source": [
    "import pandas as pd"
   ]
  },
  {
   "cell_type": "code",
   "execution_count": 63,
   "metadata": {
    "ExecuteTime": {
     "end_time": "2023-07-30T18:49:03.039877Z",
     "start_time": "2023-07-30T18:49:03.034862Z"
    }
   },
   "outputs": [
    {
     "data": {
      "text/plain": "   pressure_hPa  temperature_degree                 location\n0          1013                  23           Ghent - Sterre\n1          1003                  20          Ghent - Coupure\n2          1010                  17         Ghent - Blandijn\n3          1020                   8         Ghent - Korenlei\n4          1032                  12           Ghent - Kouter\n5           993                   5          Ghent - Coupure\n6           989                  16    Antwerp - Groenplaats\n7          1018                  22    Brussels- Grand place\n8           889                  -2  Antwerp - Justitipaleis\n9          1001                  16  Brussels - Tour & taxis",
      "text/html": "<div>\n<style scoped>\n    .dataframe tbody tr th:only-of-type {\n        vertical-align: middle;\n    }\n\n    .dataframe tbody tr th {\n        vertical-align: top;\n    }\n\n    .dataframe thead th {\n        text-align: right;\n    }\n</style>\n<table border=\"1\" class=\"dataframe\">\n  <thead>\n    <tr style=\"text-align: right;\">\n      <th></th>\n      <th>pressure_hPa</th>\n      <th>temperature_degree</th>\n      <th>location</th>\n    </tr>\n  </thead>\n  <tbody>\n    <tr>\n      <th>0</th>\n      <td>1013</td>\n      <td>23</td>\n      <td>Ghent - Sterre</td>\n    </tr>\n    <tr>\n      <th>1</th>\n      <td>1003</td>\n      <td>20</td>\n      <td>Ghent - Coupure</td>\n    </tr>\n    <tr>\n      <th>2</th>\n      <td>1010</td>\n      <td>17</td>\n      <td>Ghent - Blandijn</td>\n    </tr>\n    <tr>\n      <th>3</th>\n      <td>1020</td>\n      <td>8</td>\n      <td>Ghent - Korenlei</td>\n    </tr>\n    <tr>\n      <th>4</th>\n      <td>1032</td>\n      <td>12</td>\n      <td>Ghent - Kouter</td>\n    </tr>\n    <tr>\n      <th>5</th>\n      <td>993</td>\n      <td>5</td>\n      <td>Ghent - Coupure</td>\n    </tr>\n    <tr>\n      <th>6</th>\n      <td>989</td>\n      <td>16</td>\n      <td>Antwerp - Groenplaats</td>\n    </tr>\n    <tr>\n      <th>7</th>\n      <td>1018</td>\n      <td>22</td>\n      <td>Brussels- Grand place</td>\n    </tr>\n    <tr>\n      <th>8</th>\n      <td>889</td>\n      <td>-2</td>\n      <td>Antwerp - Justitipaleis</td>\n    </tr>\n    <tr>\n      <th>9</th>\n      <td>1001</td>\n      <td>16</td>\n      <td>Brussels - Tour &amp; taxis</td>\n    </tr>\n  </tbody>\n</table>\n</div>"
     },
     "execution_count": 63,
     "metadata": {},
     "output_type": "execute_result"
    }
   ],
   "source": [
    "measurements = pd.DataFrame(measurements)\n",
    "measurements"
   ]
  },
  {
   "cell_type": "code",
   "execution_count": 64,
   "metadata": {
    "ExecuteTime": {
     "end_time": "2023-07-30T18:49:03.574802Z",
     "start_time": "2023-07-30T18:49:03.568940Z"
    }
   },
   "outputs": [
    {
     "data": {
      "text/plain": "3    714.665838\n5    695.748213\nName: pressure_hPa, dtype: float64"
     },
     "execution_count": 64,
     "metadata": {},
     "output_type": "execute_result"
    }
   ],
   "source": [
    "barometric_formula(measurements[(measurements[\"location\"].str.contains(\"Ghent\")) & \n",
    "                  (measurements[\"temperature_degree\"] < 10)][\"pressure_hPa\"], 3000)"
   ]
  },
  {
   "cell_type": "markdown",
   "metadata": {},
   "source": [
    "<div class=\"alert alert-info\">\n",
    "    <b>REMEMBER</b>: We can combine the speed of numpy with the convenience of dictionaries and much more!\n",
    "</div>\n"
   ]
  },
  {
   "cell_type": "code",
   "execution_count": 64,
   "outputs": [],
   "source": [],
   "metadata": {
    "collapsed": false,
    "ExecuteTime": {
     "end_time": "2023-07-30T18:49:04.554020Z",
     "start_time": "2023-07-30T18:49:04.490896Z"
    }
   }
  },
  {
   "cell_type": "code",
   "execution_count": 64,
   "outputs": [],
   "source": [],
   "metadata": {
    "collapsed": false,
    "ExecuteTime": {
     "end_time": "2023-07-30T18:49:05.039638Z",
     "start_time": "2023-07-30T18:49:05.026408Z"
    }
   }
  },
  {
   "cell_type": "code",
   "execution_count": null,
   "outputs": [],
   "source": [],
   "metadata": {
    "collapsed": false
   }
  }
 ],
 "metadata": {
  "celltoolbar": "Nbtutor - export exercises",
  "kernelspec": {
   "display_name": "Python 3",
   "language": "python",
   "name": "python3"
  },
  "language_info": {
   "codemirror_mode": {
    "name": "ipython",
    "version": 3
   },
   "file_extension": ".py",
   "mimetype": "text/x-python",
   "name": "python",
   "nbconvert_exporter": "python",
   "pygments_lexer": "ipython3",
   "version": "3.8.10"
  }
 },
 "nbformat": 4,
 "nbformat_minor": 4
}
