{
 "cells": [
  {
   "cell_type": "markdown",
   "id": "be5c9d31",
   "metadata": {},
   "source": [
    "<p><font size=\"6\"><b>Pandas: Combining datasets Part I - concat</b></font></p>\n",
    "\n",
    "Adapted version from:\n",
    "> *© 2021, Joris Van den Bossche and Stijn Van Hoey  (<mailto:jorisvandenbossche@gmail.com>, <mailto:stijnvanhoey@gmail.com>). Licensed under [CC BY 4.0 Creative Commons](http://creativecommons.org/licenses/by/4.0/)*\n",
    "\n",
    "---"
   ]
  },
  {
   "cell_type": "code",
   "execution_count": 2,
   "id": "ce9bb2f2",
   "metadata": {
    "ExecuteTime": {
     "end_time": "2023-08-01T14:55:47.910571Z",
     "start_time": "2023-08-01T14:55:47.166076Z"
    }
   },
   "outputs": [],
   "source": [
    "import pandas as pd"
   ]
  },
  {
   "cell_type": "markdown",
   "id": "561ce43c",
   "metadata": {},
   "source": [
    "Combining data is essential functionality in a data analysis workflow. \n",
    "\n",
    "Data is distributed in multiple files, different information needs to be merged, new data is calculated, .. and needs to be added together. Pandas provides various facilities for easily combining together Series and DataFrame objects"
   ]
  },
  {
   "cell_type": "code",
   "execution_count": 3,
   "id": "11476551",
   "metadata": {
    "ExecuteTime": {
     "end_time": "2023-08-01T14:55:47.937840Z",
     "start_time": "2023-08-01T14:55:47.179576Z"
    }
   },
   "outputs": [
    {
     "data": {
      "text/plain": "          country  population    area    capital\n0         Belgium        11.3   30510   Brussels\n1          France        64.3  671308      Paris\n2         Germany        81.3  357050     Berlin\n3     Netherlands        16.9   41526  Amsterdam\n4  United Kingdom        64.9  244820     London",
      "text/html": "<div>\n<style scoped>\n    .dataframe tbody tr th:only-of-type {\n        vertical-align: middle;\n    }\n\n    .dataframe tbody tr th {\n        vertical-align: top;\n    }\n\n    .dataframe thead th {\n        text-align: right;\n    }\n</style>\n<table border=\"1\" class=\"dataframe\">\n  <thead>\n    <tr style=\"text-align: right;\">\n      <th></th>\n      <th>country</th>\n      <th>population</th>\n      <th>area</th>\n      <th>capital</th>\n    </tr>\n  </thead>\n  <tbody>\n    <tr>\n      <th>0</th>\n      <td>Belgium</td>\n      <td>11.3</td>\n      <td>30510</td>\n      <td>Brussels</td>\n    </tr>\n    <tr>\n      <th>1</th>\n      <td>France</td>\n      <td>64.3</td>\n      <td>671308</td>\n      <td>Paris</td>\n    </tr>\n    <tr>\n      <th>2</th>\n      <td>Germany</td>\n      <td>81.3</td>\n      <td>357050</td>\n      <td>Berlin</td>\n    </tr>\n    <tr>\n      <th>3</th>\n      <td>Netherlands</td>\n      <td>16.9</td>\n      <td>41526</td>\n      <td>Amsterdam</td>\n    </tr>\n    <tr>\n      <th>4</th>\n      <td>United Kingdom</td>\n      <td>64.9</td>\n      <td>244820</td>\n      <td>London</td>\n    </tr>\n  </tbody>\n</table>\n</div>"
     },
     "execution_count": 3,
     "metadata": {},
     "output_type": "execute_result"
    }
   ],
   "source": [
    "# redefining the example objects\n",
    "\n",
    "# series\n",
    "population = pd.Series({'Germany': 81.3, 'Belgium': 11.3, 'France': 64.3, \n",
    "                        'United Kingdom': 64.9, 'Netherlands': 16.9})\n",
    "\n",
    "# dataframe\n",
    "data = {'country': ['Belgium', 'France', 'Germany', 'Netherlands', 'United Kingdom'],\n",
    "        'population': [11.3, 64.3, 81.3, 16.9, 64.9],\n",
    "        'area': [30510, 671308, 357050, 41526, 244820],\n",
    "        'capital': ['Brussels', 'Paris', 'Berlin', 'Amsterdam', 'London']}\n",
    "countries = pd.DataFrame(data)\n",
    "countries"
   ]
  },
  {
   "cell_type": "markdown",
   "id": "b858e88f",
   "metadata": {},
   "source": [
    "# Adding columns"
   ]
  },
  {
   "cell_type": "markdown",
   "id": "e2b1c6b7",
   "metadata": {},
   "source": [
    "As we already have seen before, adding a single column is very easy:"
   ]
  },
  {
   "cell_type": "code",
   "execution_count": 4,
   "id": "485a2fb6",
   "metadata": {
    "ExecuteTime": {
     "end_time": "2023-08-01T14:55:47.998463Z",
     "start_time": "2023-08-01T14:55:47.227881Z"
    }
   },
   "outputs": [],
   "source": [
    "pop_density = countries['population']*1e6 / countries['area']"
   ]
  },
  {
   "cell_type": "code",
   "execution_count": 5,
   "id": "45edcb7a",
   "metadata": {
    "ExecuteTime": {
     "end_time": "2023-08-01T14:55:47.998959Z",
     "start_time": "2023-08-01T14:55:47.231477Z"
    }
   },
   "outputs": [
    {
     "data": {
      "text/plain": "0    370.370370\n1     95.783158\n2    227.699202\n3    406.973944\n4    265.092721\ndtype: float64"
     },
     "execution_count": 5,
     "metadata": {},
     "output_type": "execute_result"
    }
   ],
   "source": [
    "pop_density"
   ]
  },
  {
   "cell_type": "code",
   "execution_count": 6,
   "id": "2c5f2873",
   "metadata": {
    "ExecuteTime": {
     "end_time": "2023-08-01T14:55:47.999081Z",
     "start_time": "2023-08-01T14:55:47.235Z"
    }
   },
   "outputs": [],
   "source": [
    "countries['pop_density'] = pop_density"
   ]
  },
  {
   "cell_type": "code",
   "execution_count": 7,
   "id": "f50f3d14",
   "metadata": {
    "ExecuteTime": {
     "end_time": "2023-08-01T14:55:47.999570Z",
     "start_time": "2023-08-01T14:55:47.239961Z"
    }
   },
   "outputs": [
    {
     "data": {
      "text/plain": "          country  population    area    capital  pop_density\n0         Belgium        11.3   30510   Brussels   370.370370\n1          France        64.3  671308      Paris    95.783158\n2         Germany        81.3  357050     Berlin   227.699202\n3     Netherlands        16.9   41526  Amsterdam   406.973944\n4  United Kingdom        64.9  244820     London   265.092721",
      "text/html": "<div>\n<style scoped>\n    .dataframe tbody tr th:only-of-type {\n        vertical-align: middle;\n    }\n\n    .dataframe tbody tr th {\n        vertical-align: top;\n    }\n\n    .dataframe thead th {\n        text-align: right;\n    }\n</style>\n<table border=\"1\" class=\"dataframe\">\n  <thead>\n    <tr style=\"text-align: right;\">\n      <th></th>\n      <th>country</th>\n      <th>population</th>\n      <th>area</th>\n      <th>capital</th>\n      <th>pop_density</th>\n    </tr>\n  </thead>\n  <tbody>\n    <tr>\n      <th>0</th>\n      <td>Belgium</td>\n      <td>11.3</td>\n      <td>30510</td>\n      <td>Brussels</td>\n      <td>370.370370</td>\n    </tr>\n    <tr>\n      <th>1</th>\n      <td>France</td>\n      <td>64.3</td>\n      <td>671308</td>\n      <td>Paris</td>\n      <td>95.783158</td>\n    </tr>\n    <tr>\n      <th>2</th>\n      <td>Germany</td>\n      <td>81.3</td>\n      <td>357050</td>\n      <td>Berlin</td>\n      <td>227.699202</td>\n    </tr>\n    <tr>\n      <th>3</th>\n      <td>Netherlands</td>\n      <td>16.9</td>\n      <td>41526</td>\n      <td>Amsterdam</td>\n      <td>406.973944</td>\n    </tr>\n    <tr>\n      <th>4</th>\n      <td>United Kingdom</td>\n      <td>64.9</td>\n      <td>244820</td>\n      <td>London</td>\n      <td>265.092721</td>\n    </tr>\n  </tbody>\n</table>\n</div>"
     },
     "execution_count": 7,
     "metadata": {},
     "output_type": "execute_result"
    }
   ],
   "source": [
    "countries"
   ]
  },
  {
   "cell_type": "markdown",
   "id": "1c398f5e",
   "metadata": {},
   "source": [
    "Adding multiple columns at once is also possible. For example, the following method gives us a DataFrame of two columns:"
   ]
  },
  {
   "cell_type": "code",
   "execution_count": 8,
   "id": "10d44b2a",
   "metadata": {
    "ExecuteTime": {
     "end_time": "2023-08-01T14:55:48.026292Z",
     "start_time": "2023-08-01T14:55:47.252609Z"
    }
   },
   "outputs": [
    {
     "data": {
      "text/plain": "             0        1\n0      Belgium     None\n1       France     None\n2      Germany     None\n3  Netherlands     None\n4       United  Kingdom",
      "text/html": "<div>\n<style scoped>\n    .dataframe tbody tr th:only-of-type {\n        vertical-align: middle;\n    }\n\n    .dataframe tbody tr th {\n        vertical-align: top;\n    }\n\n    .dataframe thead th {\n        text-align: right;\n    }\n</style>\n<table border=\"1\" class=\"dataframe\">\n  <thead>\n    <tr style=\"text-align: right;\">\n      <th></th>\n      <th>0</th>\n      <th>1</th>\n    </tr>\n  </thead>\n  <tbody>\n    <tr>\n      <th>0</th>\n      <td>Belgium</td>\n      <td>None</td>\n    </tr>\n    <tr>\n      <th>1</th>\n      <td>France</td>\n      <td>None</td>\n    </tr>\n    <tr>\n      <th>2</th>\n      <td>Germany</td>\n      <td>None</td>\n    </tr>\n    <tr>\n      <th>3</th>\n      <td>Netherlands</td>\n      <td>None</td>\n    </tr>\n    <tr>\n      <th>4</th>\n      <td>United</td>\n      <td>Kingdom</td>\n    </tr>\n  </tbody>\n</table>\n</div>"
     },
     "execution_count": 8,
     "metadata": {},
     "output_type": "execute_result"
    }
   ],
   "source": [
    "countries[\"country\"].str.split(\" \", expand=True)"
   ]
  },
  {
   "cell_type": "markdown",
   "id": "799437fe",
   "metadata": {},
   "source": [
    "We can add both at once to the dataframe:"
   ]
  },
  {
   "cell_type": "code",
   "execution_count": 9,
   "id": "030cb537",
   "metadata": {
    "ExecuteTime": {
     "end_time": "2023-08-01T14:55:48.057619Z",
     "start_time": "2023-08-01T14:55:47.273770Z"
    }
   },
   "outputs": [],
   "source": [
    "countries[['first', 'last']] = countries[\"country\"].str.split(\" \", expand=True)"
   ]
  },
  {
   "cell_type": "code",
   "execution_count": 10,
   "id": "8507cdb3",
   "metadata": {
    "ExecuteTime": {
     "end_time": "2023-08-01T14:55:48.058061Z",
     "start_time": "2023-08-01T14:55:47.280045Z"
    }
   },
   "outputs": [
    {
     "data": {
      "text/plain": "          country  population    area    capital  pop_density        first  \\\n0         Belgium        11.3   30510   Brussels   370.370370      Belgium   \n1          France        64.3  671308      Paris    95.783158       France   \n2         Germany        81.3  357050     Berlin   227.699202      Germany   \n3     Netherlands        16.9   41526  Amsterdam   406.973944  Netherlands   \n4  United Kingdom        64.9  244820     London   265.092721       United   \n\n      last  \n0     None  \n1     None  \n2     None  \n3     None  \n4  Kingdom  ",
      "text/html": "<div>\n<style scoped>\n    .dataframe tbody tr th:only-of-type {\n        vertical-align: middle;\n    }\n\n    .dataframe tbody tr th {\n        vertical-align: top;\n    }\n\n    .dataframe thead th {\n        text-align: right;\n    }\n</style>\n<table border=\"1\" class=\"dataframe\">\n  <thead>\n    <tr style=\"text-align: right;\">\n      <th></th>\n      <th>country</th>\n      <th>population</th>\n      <th>area</th>\n      <th>capital</th>\n      <th>pop_density</th>\n      <th>first</th>\n      <th>last</th>\n    </tr>\n  </thead>\n  <tbody>\n    <tr>\n      <th>0</th>\n      <td>Belgium</td>\n      <td>11.3</td>\n      <td>30510</td>\n      <td>Brussels</td>\n      <td>370.370370</td>\n      <td>Belgium</td>\n      <td>None</td>\n    </tr>\n    <tr>\n      <th>1</th>\n      <td>France</td>\n      <td>64.3</td>\n      <td>671308</td>\n      <td>Paris</td>\n      <td>95.783158</td>\n      <td>France</td>\n      <td>None</td>\n    </tr>\n    <tr>\n      <th>2</th>\n      <td>Germany</td>\n      <td>81.3</td>\n      <td>357050</td>\n      <td>Berlin</td>\n      <td>227.699202</td>\n      <td>Germany</td>\n      <td>None</td>\n    </tr>\n    <tr>\n      <th>3</th>\n      <td>Netherlands</td>\n      <td>16.9</td>\n      <td>41526</td>\n      <td>Amsterdam</td>\n      <td>406.973944</td>\n      <td>Netherlands</td>\n      <td>None</td>\n    </tr>\n    <tr>\n      <th>4</th>\n      <td>United Kingdom</td>\n      <td>64.9</td>\n      <td>244820</td>\n      <td>London</td>\n      <td>265.092721</td>\n      <td>United</td>\n      <td>Kingdom</td>\n    </tr>\n  </tbody>\n</table>\n</div>"
     },
     "execution_count": 10,
     "metadata": {},
     "output_type": "execute_result"
    }
   ],
   "source": [
    "countries"
   ]
  },
  {
   "cell_type": "markdown",
   "id": "6463b2d3",
   "metadata": {},
   "source": [
    "# Concatenating data"
   ]
  },
  {
   "cell_type": "markdown",
   "id": "52e4ca07",
   "metadata": {},
   "source": [
    "The ``pd.concat`` function does all of the heavy lifting of combining data in different ways.\n",
    "\n",
    "``pd.concat`` takes a list or dict of Series/DataFrame objects and concatenates them in a certain direction (`axis`) with some configurable handling of “what to do with the other axes”."
   ]
  },
  {
   "cell_type": "markdown",
   "id": "226f0566",
   "metadata": {},
   "source": [
    "## Combining rows - ``pd.concat``"
   ]
  },
  {
   "cell_type": "markdown",
   "id": "22e0d782",
   "metadata": {},
   "source": [
    "![](../img/pandas/schema-concat0.svg)"
   ]
  },
  {
   "cell_type": "markdown",
   "id": "bd4e59ea",
   "metadata": {},
   "source": [
    "Assume we have some similar data as in `countries`, but for a set of different countries:"
   ]
  },
  {
   "cell_type": "code",
   "execution_count": 11,
   "id": "ce79b16e-ea96-4845-9104-9a18be4de526",
   "metadata": {
    "ExecuteTime": {
     "end_time": "2023-08-01T14:55:48.090521Z",
     "start_time": "2023-08-01T14:55:47.401291Z"
    }
   },
   "outputs": [
    {
     "data": {
      "text/plain": "          country  population    area    capital\n0         Belgium        11.3   30510   Brussels\n1          France        64.3  671308      Paris\n2         Germany        81.3  357050     Berlin\n3     Netherlands        16.9   41526  Amsterdam\n4  United Kingdom        64.9  244820     London",
      "text/html": "<div>\n<style scoped>\n    .dataframe tbody tr th:only-of-type {\n        vertical-align: middle;\n    }\n\n    .dataframe tbody tr th {\n        vertical-align: top;\n    }\n\n    .dataframe thead th {\n        text-align: right;\n    }\n</style>\n<table border=\"1\" class=\"dataframe\">\n  <thead>\n    <tr style=\"text-align: right;\">\n      <th></th>\n      <th>country</th>\n      <th>population</th>\n      <th>area</th>\n      <th>capital</th>\n    </tr>\n  </thead>\n  <tbody>\n    <tr>\n      <th>0</th>\n      <td>Belgium</td>\n      <td>11.3</td>\n      <td>30510</td>\n      <td>Brussels</td>\n    </tr>\n    <tr>\n      <th>1</th>\n      <td>France</td>\n      <td>64.3</td>\n      <td>671308</td>\n      <td>Paris</td>\n    </tr>\n    <tr>\n      <th>2</th>\n      <td>Germany</td>\n      <td>81.3</td>\n      <td>357050</td>\n      <td>Berlin</td>\n    </tr>\n    <tr>\n      <th>3</th>\n      <td>Netherlands</td>\n      <td>16.9</td>\n      <td>41526</td>\n      <td>Amsterdam</td>\n    </tr>\n    <tr>\n      <th>4</th>\n      <td>United Kingdom</td>\n      <td>64.9</td>\n      <td>244820</td>\n      <td>London</td>\n    </tr>\n  </tbody>\n</table>\n</div>"
     },
     "execution_count": 11,
     "metadata": {},
     "output_type": "execute_result"
    }
   ],
   "source": [
    "data = {'country': ['Belgium', 'France', 'Germany', 'Netherlands', 'United Kingdom'],\n",
    "        'population': [11.3, 64.3, 81.3, 16.9, 64.9],\n",
    "        'area': [30510, 671308, 357050, 41526, 244820],\n",
    "        'capital': ['Brussels', 'Paris', 'Berlin', 'Amsterdam', 'London']}\n",
    "countries = pd.DataFrame(data)\n",
    "countries"
   ]
  },
  {
   "cell_type": "code",
   "execution_count": 12,
   "id": "160524db",
   "metadata": {
    "ExecuteTime": {
     "end_time": "2023-08-01T14:55:48.090858Z",
     "start_time": "2023-08-01T14:55:47.408160Z"
    }
   },
   "outputs": [
    {
     "data": {
      "text/plain": "   country  population     area capital\n0  Nigeria       182.2   923768   Abuja\n1   Rwanda        11.3    26338  Kigali\n2    Egypt        94.3  1010408   Cairo\n3  Morocco        34.4   710850   Rabat",
      "text/html": "<div>\n<style scoped>\n    .dataframe tbody tr th:only-of-type {\n        vertical-align: middle;\n    }\n\n    .dataframe tbody tr th {\n        vertical-align: top;\n    }\n\n    .dataframe thead th {\n        text-align: right;\n    }\n</style>\n<table border=\"1\" class=\"dataframe\">\n  <thead>\n    <tr style=\"text-align: right;\">\n      <th></th>\n      <th>country</th>\n      <th>population</th>\n      <th>area</th>\n      <th>capital</th>\n    </tr>\n  </thead>\n  <tbody>\n    <tr>\n      <th>0</th>\n      <td>Nigeria</td>\n      <td>182.2</td>\n      <td>923768</td>\n      <td>Abuja</td>\n    </tr>\n    <tr>\n      <th>1</th>\n      <td>Rwanda</td>\n      <td>11.3</td>\n      <td>26338</td>\n      <td>Kigali</td>\n    </tr>\n    <tr>\n      <th>2</th>\n      <td>Egypt</td>\n      <td>94.3</td>\n      <td>1010408</td>\n      <td>Cairo</td>\n    </tr>\n    <tr>\n      <th>3</th>\n      <td>Morocco</td>\n      <td>34.4</td>\n      <td>710850</td>\n      <td>Rabat</td>\n    </tr>\n  </tbody>\n</table>\n</div>"
     },
     "execution_count": 12,
     "metadata": {},
     "output_type": "execute_result"
    }
   ],
   "source": [
    "data = {'country': ['Nigeria', 'Rwanda', 'Egypt', 'Morocco', ],\n",
    "        'population': [182.2, 11.3, 94.3, 34.4],\n",
    "        'area': [923768, 26338 , 1010408, 710850],\n",
    "        'capital': ['Abuja', 'Kigali', 'Cairo', 'Rabat']}\n",
    "countries_africa = pd.DataFrame(data)\n",
    "countries_africa "
   ]
  },
  {
   "cell_type": "markdown",
   "id": "437438cb",
   "metadata": {},
   "source": [
    "We now want to combine the rows of both datasets:"
   ]
  },
  {
   "cell_type": "code",
   "execution_count": 13,
   "id": "e1ed5209",
   "metadata": {
    "ExecuteTime": {
     "end_time": "2023-08-01T14:55:48.106688Z",
     "start_time": "2023-08-01T14:55:47.420339Z"
    }
   },
   "outputs": [
    {
     "data": {
      "text/plain": "          country  population     area    capital\n0         Belgium        11.3    30510   Brussels\n1          France        64.3   671308      Paris\n2         Germany        81.3   357050     Berlin\n3     Netherlands        16.9    41526  Amsterdam\n4  United Kingdom        64.9   244820     London\n0         Nigeria       182.2   923768      Abuja\n1          Rwanda        11.3    26338     Kigali\n2           Egypt        94.3  1010408      Cairo\n3         Morocco        34.4   710850      Rabat",
      "text/html": "<div>\n<style scoped>\n    .dataframe tbody tr th:only-of-type {\n        vertical-align: middle;\n    }\n\n    .dataframe tbody tr th {\n        vertical-align: top;\n    }\n\n    .dataframe thead th {\n        text-align: right;\n    }\n</style>\n<table border=\"1\" class=\"dataframe\">\n  <thead>\n    <tr style=\"text-align: right;\">\n      <th></th>\n      <th>country</th>\n      <th>population</th>\n      <th>area</th>\n      <th>capital</th>\n    </tr>\n  </thead>\n  <tbody>\n    <tr>\n      <th>0</th>\n      <td>Belgium</td>\n      <td>11.3</td>\n      <td>30510</td>\n      <td>Brussels</td>\n    </tr>\n    <tr>\n      <th>1</th>\n      <td>France</td>\n      <td>64.3</td>\n      <td>671308</td>\n      <td>Paris</td>\n    </tr>\n    <tr>\n      <th>2</th>\n      <td>Germany</td>\n      <td>81.3</td>\n      <td>357050</td>\n      <td>Berlin</td>\n    </tr>\n    <tr>\n      <th>3</th>\n      <td>Netherlands</td>\n      <td>16.9</td>\n      <td>41526</td>\n      <td>Amsterdam</td>\n    </tr>\n    <tr>\n      <th>4</th>\n      <td>United Kingdom</td>\n      <td>64.9</td>\n      <td>244820</td>\n      <td>London</td>\n    </tr>\n    <tr>\n      <th>0</th>\n      <td>Nigeria</td>\n      <td>182.2</td>\n      <td>923768</td>\n      <td>Abuja</td>\n    </tr>\n    <tr>\n      <th>1</th>\n      <td>Rwanda</td>\n      <td>11.3</td>\n      <td>26338</td>\n      <td>Kigali</td>\n    </tr>\n    <tr>\n      <th>2</th>\n      <td>Egypt</td>\n      <td>94.3</td>\n      <td>1010408</td>\n      <td>Cairo</td>\n    </tr>\n    <tr>\n      <th>3</th>\n      <td>Morocco</td>\n      <td>34.4</td>\n      <td>710850</td>\n      <td>Rabat</td>\n    </tr>\n  </tbody>\n</table>\n</div>"
     },
     "execution_count": 13,
     "metadata": {},
     "output_type": "execute_result"
    }
   ],
   "source": [
    "pd.concat([countries, countries_africa])"
   ]
  },
  {
   "cell_type": "markdown",
   "id": "ff42f9db",
   "metadata": {},
   "source": [
    "If we don't want the index to be preserved:"
   ]
  },
  {
   "cell_type": "code",
   "execution_count": 14,
   "id": "fbae6a1a",
   "metadata": {
    "ExecuteTime": {
     "end_time": "2023-08-01T14:55:48.122258Z",
     "start_time": "2023-08-01T14:55:47.443613Z"
    }
   },
   "outputs": [
    {
     "data": {
      "text/plain": "          country  population     area    capital\n0         Belgium        11.3    30510   Brussels\n1          France        64.3   671308      Paris\n2         Germany        81.3   357050     Berlin\n3     Netherlands        16.9    41526  Amsterdam\n4  United Kingdom        64.9   244820     London\n5         Nigeria       182.2   923768      Abuja\n6          Rwanda        11.3    26338     Kigali\n7           Egypt        94.3  1010408      Cairo\n8         Morocco        34.4   710850      Rabat",
      "text/html": "<div>\n<style scoped>\n    .dataframe tbody tr th:only-of-type {\n        vertical-align: middle;\n    }\n\n    .dataframe tbody tr th {\n        vertical-align: top;\n    }\n\n    .dataframe thead th {\n        text-align: right;\n    }\n</style>\n<table border=\"1\" class=\"dataframe\">\n  <thead>\n    <tr style=\"text-align: right;\">\n      <th></th>\n      <th>country</th>\n      <th>population</th>\n      <th>area</th>\n      <th>capital</th>\n    </tr>\n  </thead>\n  <tbody>\n    <tr>\n      <th>0</th>\n      <td>Belgium</td>\n      <td>11.3</td>\n      <td>30510</td>\n      <td>Brussels</td>\n    </tr>\n    <tr>\n      <th>1</th>\n      <td>France</td>\n      <td>64.3</td>\n      <td>671308</td>\n      <td>Paris</td>\n    </tr>\n    <tr>\n      <th>2</th>\n      <td>Germany</td>\n      <td>81.3</td>\n      <td>357050</td>\n      <td>Berlin</td>\n    </tr>\n    <tr>\n      <th>3</th>\n      <td>Netherlands</td>\n      <td>16.9</td>\n      <td>41526</td>\n      <td>Amsterdam</td>\n    </tr>\n    <tr>\n      <th>4</th>\n      <td>United Kingdom</td>\n      <td>64.9</td>\n      <td>244820</td>\n      <td>London</td>\n    </tr>\n    <tr>\n      <th>5</th>\n      <td>Nigeria</td>\n      <td>182.2</td>\n      <td>923768</td>\n      <td>Abuja</td>\n    </tr>\n    <tr>\n      <th>6</th>\n      <td>Rwanda</td>\n      <td>11.3</td>\n      <td>26338</td>\n      <td>Kigali</td>\n    </tr>\n    <tr>\n      <th>7</th>\n      <td>Egypt</td>\n      <td>94.3</td>\n      <td>1010408</td>\n      <td>Cairo</td>\n    </tr>\n    <tr>\n      <th>8</th>\n      <td>Morocco</td>\n      <td>34.4</td>\n      <td>710850</td>\n      <td>Rabat</td>\n    </tr>\n  </tbody>\n</table>\n</div>"
     },
     "execution_count": 14,
     "metadata": {},
     "output_type": "execute_result"
    }
   ],
   "source": [
    "pd.concat([countries, countries_africa], ignore_index=True)"
   ]
  },
  {
   "cell_type": "markdown",
   "id": "74aa5586",
   "metadata": {},
   "source": [
    "When the two dataframes don't have the same set of columns, by default missing values get introduced:"
   ]
  },
  {
   "cell_type": "code",
   "execution_count": 15,
   "id": "3115002f",
   "metadata": {
    "ExecuteTime": {
     "end_time": "2023-08-01T14:55:48.137653Z",
     "start_time": "2023-08-01T14:55:47.466226Z"
    }
   },
   "outputs": [
    {
     "data": {
      "text/plain": "          country  population      area    capital\n0         Belgium        11.3   30510.0   Brussels\n1          France        64.3  671308.0      Paris\n2         Germany        81.3  357050.0     Berlin\n3     Netherlands        16.9   41526.0  Amsterdam\n4  United Kingdom        64.9  244820.0     London\n5         Nigeria         NaN       NaN      Abuja\n6          Rwanda         NaN       NaN     Kigali\n7           Egypt         NaN       NaN      Cairo\n8         Morocco         NaN       NaN      Rabat",
      "text/html": "<div>\n<style scoped>\n    .dataframe tbody tr th:only-of-type {\n        vertical-align: middle;\n    }\n\n    .dataframe tbody tr th {\n        vertical-align: top;\n    }\n\n    .dataframe thead th {\n        text-align: right;\n    }\n</style>\n<table border=\"1\" class=\"dataframe\">\n  <thead>\n    <tr style=\"text-align: right;\">\n      <th></th>\n      <th>country</th>\n      <th>population</th>\n      <th>area</th>\n      <th>capital</th>\n    </tr>\n  </thead>\n  <tbody>\n    <tr>\n      <th>0</th>\n      <td>Belgium</td>\n      <td>11.3</td>\n      <td>30510.0</td>\n      <td>Brussels</td>\n    </tr>\n    <tr>\n      <th>1</th>\n      <td>France</td>\n      <td>64.3</td>\n      <td>671308.0</td>\n      <td>Paris</td>\n    </tr>\n    <tr>\n      <th>2</th>\n      <td>Germany</td>\n      <td>81.3</td>\n      <td>357050.0</td>\n      <td>Berlin</td>\n    </tr>\n    <tr>\n      <th>3</th>\n      <td>Netherlands</td>\n      <td>16.9</td>\n      <td>41526.0</td>\n      <td>Amsterdam</td>\n    </tr>\n    <tr>\n      <th>4</th>\n      <td>United Kingdom</td>\n      <td>64.9</td>\n      <td>244820.0</td>\n      <td>London</td>\n    </tr>\n    <tr>\n      <th>5</th>\n      <td>Nigeria</td>\n      <td>NaN</td>\n      <td>NaN</td>\n      <td>Abuja</td>\n    </tr>\n    <tr>\n      <th>6</th>\n      <td>Rwanda</td>\n      <td>NaN</td>\n      <td>NaN</td>\n      <td>Kigali</td>\n    </tr>\n    <tr>\n      <th>7</th>\n      <td>Egypt</td>\n      <td>NaN</td>\n      <td>NaN</td>\n      <td>Cairo</td>\n    </tr>\n    <tr>\n      <th>8</th>\n      <td>Morocco</td>\n      <td>NaN</td>\n      <td>NaN</td>\n      <td>Rabat</td>\n    </tr>\n  </tbody>\n</table>\n</div>"
     },
     "execution_count": 15,
     "metadata": {},
     "output_type": "execute_result"
    }
   ],
   "source": [
    "pd.concat([countries, countries_africa[['country', 'capital']]], ignore_index=True)"
   ]
  },
  {
   "cell_type": "markdown",
   "id": "b5aef5d6",
   "metadata": {},
   "source": [
    "We can also pass a dictionary of objects instead of a list of objects. Now the keys of the dictionary are preserved as an additional index level:"
   ]
  },
  {
   "cell_type": "code",
   "execution_count": 16,
   "id": "0061f065",
   "metadata": {
    "ExecuteTime": {
     "end_time": "2023-08-01T14:55:48.154551Z",
     "start_time": "2023-08-01T14:55:47.486389Z"
    }
   },
   "outputs": [
    {
     "data": {
      "text/plain": "                 country  population     area    capital\neurope 0         Belgium        11.3    30510   Brussels\n       1          France        64.3   671308      Paris\n       2         Germany        81.3   357050     Berlin\n       3     Netherlands        16.9    41526  Amsterdam\n       4  United Kingdom        64.9   244820     London\nafrica 0         Nigeria       182.2   923768      Abuja\n       1          Rwanda        11.3    26338     Kigali\n       2           Egypt        94.3  1010408      Cairo\n       3         Morocco        34.4   710850      Rabat",
      "text/html": "<div>\n<style scoped>\n    .dataframe tbody tr th:only-of-type {\n        vertical-align: middle;\n    }\n\n    .dataframe tbody tr th {\n        vertical-align: top;\n    }\n\n    .dataframe thead th {\n        text-align: right;\n    }\n</style>\n<table border=\"1\" class=\"dataframe\">\n  <thead>\n    <tr style=\"text-align: right;\">\n      <th></th>\n      <th></th>\n      <th>country</th>\n      <th>population</th>\n      <th>area</th>\n      <th>capital</th>\n    </tr>\n  </thead>\n  <tbody>\n    <tr>\n      <th rowspan=\"5\" valign=\"top\">europe</th>\n      <th>0</th>\n      <td>Belgium</td>\n      <td>11.3</td>\n      <td>30510</td>\n      <td>Brussels</td>\n    </tr>\n    <tr>\n      <th>1</th>\n      <td>France</td>\n      <td>64.3</td>\n      <td>671308</td>\n      <td>Paris</td>\n    </tr>\n    <tr>\n      <th>2</th>\n      <td>Germany</td>\n      <td>81.3</td>\n      <td>357050</td>\n      <td>Berlin</td>\n    </tr>\n    <tr>\n      <th>3</th>\n      <td>Netherlands</td>\n      <td>16.9</td>\n      <td>41526</td>\n      <td>Amsterdam</td>\n    </tr>\n    <tr>\n      <th>4</th>\n      <td>United Kingdom</td>\n      <td>64.9</td>\n      <td>244820</td>\n      <td>London</td>\n    </tr>\n    <tr>\n      <th rowspan=\"4\" valign=\"top\">africa</th>\n      <th>0</th>\n      <td>Nigeria</td>\n      <td>182.2</td>\n      <td>923768</td>\n      <td>Abuja</td>\n    </tr>\n    <tr>\n      <th>1</th>\n      <td>Rwanda</td>\n      <td>11.3</td>\n      <td>26338</td>\n      <td>Kigali</td>\n    </tr>\n    <tr>\n      <th>2</th>\n      <td>Egypt</td>\n      <td>94.3</td>\n      <td>1010408</td>\n      <td>Cairo</td>\n    </tr>\n    <tr>\n      <th>3</th>\n      <td>Morocco</td>\n      <td>34.4</td>\n      <td>710850</td>\n      <td>Rabat</td>\n    </tr>\n  </tbody>\n</table>\n</div>"
     },
     "execution_count": 16,
     "metadata": {},
     "output_type": "execute_result"
    }
   ],
   "source": [
    "pd.concat({'europe': countries, 'africa': countries_africa})"
   ]
  },
  {
   "cell_type": "markdown",
   "id": "b361359f-e464-4094-b16f-fc6dbf22ee6b",
   "metadata": {},
   "source": [
    "<div class=\"alert alert-info\">\n",
    "\n",
    "**NOTE**:\n",
    "\n",
    "A typical use case of `concat` is when you create (or read) multiple DataFrame with a similar structure in a loop, and then want to combine this list of DataFrames into a single DataFrame.\n",
    "\n",
    "For example, assume you have a folder of similar CSV files (eg the data per day) you want to read and combine, this would look like:\n",
    "\n",
    "```python\n",
    "import pathlib\n",
    "\n",
    "data_files = pathlib.Path(\"data_directory\").glob(\"*.csv\")\n",
    "\n",
    "dfs = []\n",
    "\n",
    "for path in data_files:\n",
    "    temp = pd.read_csv(path)\n",
    "    dfs.append(temp)\n",
    "\n",
    "df = pd.concat(dfs)\n",
    "```\n",
    "<br>\n",
    "Important: append to a list (not DataFrame), and concat this list at the end after the loop!\n",
    "\n",
    "</div>"
   ]
  },
  {
   "cell_type": "markdown",
   "id": "970012f2",
   "metadata": {},
   "source": [
    "# Joining data with `pd.merge`"
   ]
  },
  {
   "cell_type": "markdown",
   "id": "78e1b973",
   "metadata": {},
   "source": [
    "Using `pd.concat` above, we combined datasets that had the same columns. But, another typical case is where you want to add information of a second dataframe to a first one based on one of the columns they have in common. That can be done with [`pd.merge`](http://pandas.pydata.org/pandas-docs/stable/generated/pandas.DataFrame.merge.html).\n",
    "\n",
    "Let's look again at the titanic passenger data, but taking a small subset of it to make the example easier to grasp:"
   ]
  },
  {
   "cell_type": "code",
   "execution_count": 17,
   "id": "e00931e6",
   "metadata": {
    "ExecuteTime": {
     "end_time": "2023-08-01T14:55:48.189289Z",
     "start_time": "2023-08-01T14:55:47.547506Z"
    }
   },
   "outputs": [],
   "source": [
    "df = pd.read_csv(\"data/titanic.csv\")\n",
    "df = df.loc[:9, ['Survived', 'Pclass', 'Sex', 'Age', 'Fare', 'Embarked']]"
   ]
  },
  {
   "cell_type": "code",
   "execution_count": 18,
   "id": "37dcebb7",
   "metadata": {
    "ExecuteTime": {
     "end_time": "2023-08-01T14:55:48.189967Z",
     "start_time": "2023-08-01T14:55:47.559750Z"
    }
   },
   "outputs": [
    {
     "data": {
      "text/plain": "   Survived  Pclass     Sex   Age     Fare Embarked\n0         0       3    male  22.0   7.2500        S\n1         1       1  female  38.0  71.2833        C\n2         1       3  female  26.0   7.9250        S\n3         1       1  female  35.0  53.1000        S\n4         0       3    male  35.0   8.0500        S\n5         0       3    male   NaN   8.4583        Q\n6         0       1    male  54.0  51.8625        S\n7         0       3    male   2.0  21.0750        S\n8         1       3  female  27.0  11.1333        S\n9         1       2  female  14.0  30.0708        C",
      "text/html": "<div>\n<style scoped>\n    .dataframe tbody tr th:only-of-type {\n        vertical-align: middle;\n    }\n\n    .dataframe tbody tr th {\n        vertical-align: top;\n    }\n\n    .dataframe thead th {\n        text-align: right;\n    }\n</style>\n<table border=\"1\" class=\"dataframe\">\n  <thead>\n    <tr style=\"text-align: right;\">\n      <th></th>\n      <th>Survived</th>\n      <th>Pclass</th>\n      <th>Sex</th>\n      <th>Age</th>\n      <th>Fare</th>\n      <th>Embarked</th>\n    </tr>\n  </thead>\n  <tbody>\n    <tr>\n      <th>0</th>\n      <td>0</td>\n      <td>3</td>\n      <td>male</td>\n      <td>22.0</td>\n      <td>7.2500</td>\n      <td>S</td>\n    </tr>\n    <tr>\n      <th>1</th>\n      <td>1</td>\n      <td>1</td>\n      <td>female</td>\n      <td>38.0</td>\n      <td>71.2833</td>\n      <td>C</td>\n    </tr>\n    <tr>\n      <th>2</th>\n      <td>1</td>\n      <td>3</td>\n      <td>female</td>\n      <td>26.0</td>\n      <td>7.9250</td>\n      <td>S</td>\n    </tr>\n    <tr>\n      <th>3</th>\n      <td>1</td>\n      <td>1</td>\n      <td>female</td>\n      <td>35.0</td>\n      <td>53.1000</td>\n      <td>S</td>\n    </tr>\n    <tr>\n      <th>4</th>\n      <td>0</td>\n      <td>3</td>\n      <td>male</td>\n      <td>35.0</td>\n      <td>8.0500</td>\n      <td>S</td>\n    </tr>\n    <tr>\n      <th>5</th>\n      <td>0</td>\n      <td>3</td>\n      <td>male</td>\n      <td>NaN</td>\n      <td>8.4583</td>\n      <td>Q</td>\n    </tr>\n    <tr>\n      <th>6</th>\n      <td>0</td>\n      <td>1</td>\n      <td>male</td>\n      <td>54.0</td>\n      <td>51.8625</td>\n      <td>S</td>\n    </tr>\n    <tr>\n      <th>7</th>\n      <td>0</td>\n      <td>3</td>\n      <td>male</td>\n      <td>2.0</td>\n      <td>21.0750</td>\n      <td>S</td>\n    </tr>\n    <tr>\n      <th>8</th>\n      <td>1</td>\n      <td>3</td>\n      <td>female</td>\n      <td>27.0</td>\n      <td>11.1333</td>\n      <td>S</td>\n    </tr>\n    <tr>\n      <th>9</th>\n      <td>1</td>\n      <td>2</td>\n      <td>female</td>\n      <td>14.0</td>\n      <td>30.0708</td>\n      <td>C</td>\n    </tr>\n  </tbody>\n</table>\n</div>"
     },
     "execution_count": 18,
     "metadata": {},
     "output_type": "execute_result"
    }
   ],
   "source": [
    "df"
   ]
  },
  {
   "cell_type": "markdown",
   "id": "4ae11628",
   "metadata": {},
   "source": [
    "Assume we have another dataframe with more information about the 'Embarked' locations:"
   ]
  },
  {
   "cell_type": "code",
   "execution_count": 19,
   "id": "35e5b529",
   "metadata": {
    "ExecuteTime": {
     "end_time": "2023-08-01T14:55:48.223872Z",
     "start_time": "2023-08-01T14:55:47.568984Z"
    }
   },
   "outputs": [],
   "source": [
    "locations = pd.DataFrame({'Embarked': ['S', 'C', 'N'],\n",
    "                          'City': ['Southampton', 'Cherbourg', 'New York City'],\n",
    "                          'Country': ['United Kindom', 'France', 'United States']})"
   ]
  },
  {
   "cell_type": "code",
   "execution_count": 20,
   "id": "94906138",
   "metadata": {
    "ExecuteTime": {
     "end_time": "2023-08-01T14:55:48.224425Z",
     "start_time": "2023-08-01T14:55:47.576211Z"
    }
   },
   "outputs": [
    {
     "data": {
      "text/plain": "  Embarked           City        Country\n0        S    Southampton  United Kindom\n1        C      Cherbourg         France\n2        N  New York City  United States",
      "text/html": "<div>\n<style scoped>\n    .dataframe tbody tr th:only-of-type {\n        vertical-align: middle;\n    }\n\n    .dataframe tbody tr th {\n        vertical-align: top;\n    }\n\n    .dataframe thead th {\n        text-align: right;\n    }\n</style>\n<table border=\"1\" class=\"dataframe\">\n  <thead>\n    <tr style=\"text-align: right;\">\n      <th></th>\n      <th>Embarked</th>\n      <th>City</th>\n      <th>Country</th>\n    </tr>\n  </thead>\n  <tbody>\n    <tr>\n      <th>0</th>\n      <td>S</td>\n      <td>Southampton</td>\n      <td>United Kindom</td>\n    </tr>\n    <tr>\n      <th>1</th>\n      <td>C</td>\n      <td>Cherbourg</td>\n      <td>France</td>\n    </tr>\n    <tr>\n      <th>2</th>\n      <td>N</td>\n      <td>New York City</td>\n      <td>United States</td>\n    </tr>\n  </tbody>\n</table>\n</div>"
     },
     "execution_count": 20,
     "metadata": {},
     "output_type": "execute_result"
    }
   ],
   "source": [
    "locations"
   ]
  },
  {
   "cell_type": "markdown",
   "id": "1ebb09a0",
   "metadata": {},
   "source": [
    "We now want to add those columns to the titanic dataframe, for which we can use `pd.merge`, specifying the column on which we want to merge the two datasets:"
   ]
  },
  {
   "cell_type": "code",
   "execution_count": 21,
   "id": "571b126f",
   "metadata": {
    "ExecuteTime": {
     "end_time": "2023-08-01T14:55:48.242073Z",
     "start_time": "2023-08-01T14:55:47.597269Z"
    }
   },
   "outputs": [
    {
     "data": {
      "text/plain": "   Survived  Pclass     Sex   Age     Fare Embarked         City  \\\n0         0       3    male  22.0   7.2500        S  Southampton   \n1         1       1  female  38.0  71.2833        C    Cherbourg   \n2         1       3  female  26.0   7.9250        S  Southampton   \n3         1       1  female  35.0  53.1000        S  Southampton   \n4         0       3    male  35.0   8.0500        S  Southampton   \n5         0       3    male   NaN   8.4583        Q          NaN   \n6         0       1    male  54.0  51.8625        S  Southampton   \n7         0       3    male   2.0  21.0750        S  Southampton   \n8         1       3  female  27.0  11.1333        S  Southampton   \n9         1       2  female  14.0  30.0708        C    Cherbourg   \n\n         Country  \n0  United Kindom  \n1         France  \n2  United Kindom  \n3  United Kindom  \n4  United Kindom  \n5            NaN  \n6  United Kindom  \n7  United Kindom  \n8  United Kindom  \n9         France  ",
      "text/html": "<div>\n<style scoped>\n    .dataframe tbody tr th:only-of-type {\n        vertical-align: middle;\n    }\n\n    .dataframe tbody tr th {\n        vertical-align: top;\n    }\n\n    .dataframe thead th {\n        text-align: right;\n    }\n</style>\n<table border=\"1\" class=\"dataframe\">\n  <thead>\n    <tr style=\"text-align: right;\">\n      <th></th>\n      <th>Survived</th>\n      <th>Pclass</th>\n      <th>Sex</th>\n      <th>Age</th>\n      <th>Fare</th>\n      <th>Embarked</th>\n      <th>City</th>\n      <th>Country</th>\n    </tr>\n  </thead>\n  <tbody>\n    <tr>\n      <th>0</th>\n      <td>0</td>\n      <td>3</td>\n      <td>male</td>\n      <td>22.0</td>\n      <td>7.2500</td>\n      <td>S</td>\n      <td>Southampton</td>\n      <td>United Kindom</td>\n    </tr>\n    <tr>\n      <th>1</th>\n      <td>1</td>\n      <td>1</td>\n      <td>female</td>\n      <td>38.0</td>\n      <td>71.2833</td>\n      <td>C</td>\n      <td>Cherbourg</td>\n      <td>France</td>\n    </tr>\n    <tr>\n      <th>2</th>\n      <td>1</td>\n      <td>3</td>\n      <td>female</td>\n      <td>26.0</td>\n      <td>7.9250</td>\n      <td>S</td>\n      <td>Southampton</td>\n      <td>United Kindom</td>\n    </tr>\n    <tr>\n      <th>3</th>\n      <td>1</td>\n      <td>1</td>\n      <td>female</td>\n      <td>35.0</td>\n      <td>53.1000</td>\n      <td>S</td>\n      <td>Southampton</td>\n      <td>United Kindom</td>\n    </tr>\n    <tr>\n      <th>4</th>\n      <td>0</td>\n      <td>3</td>\n      <td>male</td>\n      <td>35.0</td>\n      <td>8.0500</td>\n      <td>S</td>\n      <td>Southampton</td>\n      <td>United Kindom</td>\n    </tr>\n    <tr>\n      <th>5</th>\n      <td>0</td>\n      <td>3</td>\n      <td>male</td>\n      <td>NaN</td>\n      <td>8.4583</td>\n      <td>Q</td>\n      <td>NaN</td>\n      <td>NaN</td>\n    </tr>\n    <tr>\n      <th>6</th>\n      <td>0</td>\n      <td>1</td>\n      <td>male</td>\n      <td>54.0</td>\n      <td>51.8625</td>\n      <td>S</td>\n      <td>Southampton</td>\n      <td>United Kindom</td>\n    </tr>\n    <tr>\n      <th>7</th>\n      <td>0</td>\n      <td>3</td>\n      <td>male</td>\n      <td>2.0</td>\n      <td>21.0750</td>\n      <td>S</td>\n      <td>Southampton</td>\n      <td>United Kindom</td>\n    </tr>\n    <tr>\n      <th>8</th>\n      <td>1</td>\n      <td>3</td>\n      <td>female</td>\n      <td>27.0</td>\n      <td>11.1333</td>\n      <td>S</td>\n      <td>Southampton</td>\n      <td>United Kindom</td>\n    </tr>\n    <tr>\n      <th>9</th>\n      <td>1</td>\n      <td>2</td>\n      <td>female</td>\n      <td>14.0</td>\n      <td>30.0708</td>\n      <td>C</td>\n      <td>Cherbourg</td>\n      <td>France</td>\n    </tr>\n  </tbody>\n</table>\n</div>"
     },
     "execution_count": 21,
     "metadata": {},
     "output_type": "execute_result"
    }
   ],
   "source": [
    "pd.merge(df, locations, on='Embarked', how='left')"
   ]
  },
  {
   "cell_type": "markdown",
   "id": "4b1df56c",
   "metadata": {},
   "source": [
    "In this case we use `how='left` (a \"left join\") because we wanted to keep the original rows of `df` and only add matching values from `locations` to it. Other options are 'inner', 'outer' and 'right' (see the [docs](http://pandas.pydata.org/pandas-docs/stable/merging.html#brief-primer-on-merge-methods-relational-algebra) for more on this, or this visualization: https://joins.spathon.com/)."
   ]
  },
  {
   "cell_type": "markdown",
   "source": [
    "## Combining columns  - ``pd.concat`` with ``axis=1``"
   ],
   "metadata": {
    "collapsed": false
   }
  },
  {
   "cell_type": "markdown",
   "source": [
    "We can use `pd.merge` to combine the columns of two DataFrame based on a common column. If our two DataFrames already have equivalent rows, we can also achieve this basic case using `pd.concat` with specifying `axis=1` (or `axis=\"columns\"`)."
   ],
   "metadata": {
    "collapsed": false
   }
  },
  {
   "cell_type": "markdown",
   "source": [
    "![](../img/pandas/schema-concat1.svg)"
   ],
   "metadata": {
    "collapsed": false
   }
  },
  {
   "cell_type": "markdown",
   "source": [
    "Assume we have another DataFrame for the same countries, but with some additional statistics:"
   ],
   "metadata": {
    "collapsed": false
   }
  },
  {
   "cell_type": "code",
   "execution_count": 22,
   "outputs": [
    {
     "data": {
      "text/plain": "          country  population    area    capital\n0         Belgium        11.3   30510   Brussels\n1          France        64.3  671308      Paris\n2         Germany        81.3  357050     Berlin\n3     Netherlands        16.9   41526  Amsterdam\n4  United Kingdom        64.9  244820     London",
      "text/html": "<div>\n<style scoped>\n    .dataframe tbody tr th:only-of-type {\n        vertical-align: middle;\n    }\n\n    .dataframe tbody tr th {\n        vertical-align: top;\n    }\n\n    .dataframe thead th {\n        text-align: right;\n    }\n</style>\n<table border=\"1\" class=\"dataframe\">\n  <thead>\n    <tr style=\"text-align: right;\">\n      <th></th>\n      <th>country</th>\n      <th>population</th>\n      <th>area</th>\n      <th>capital</th>\n    </tr>\n  </thead>\n  <tbody>\n    <tr>\n      <th>0</th>\n      <td>Belgium</td>\n      <td>11.3</td>\n      <td>30510</td>\n      <td>Brussels</td>\n    </tr>\n    <tr>\n      <th>1</th>\n      <td>France</td>\n      <td>64.3</td>\n      <td>671308</td>\n      <td>Paris</td>\n    </tr>\n    <tr>\n      <th>2</th>\n      <td>Germany</td>\n      <td>81.3</td>\n      <td>357050</td>\n      <td>Berlin</td>\n    </tr>\n    <tr>\n      <th>3</th>\n      <td>Netherlands</td>\n      <td>16.9</td>\n      <td>41526</td>\n      <td>Amsterdam</td>\n    </tr>\n    <tr>\n      <th>4</th>\n      <td>United Kingdom</td>\n      <td>64.9</td>\n      <td>244820</td>\n      <td>London</td>\n    </tr>\n  </tbody>\n</table>\n</div>"
     },
     "execution_count": 22,
     "metadata": {},
     "output_type": "execute_result"
    }
   ],
   "source": [
    "data = {'country': ['Belgium', 'France', 'Germany', 'Netherlands', 'United Kingdom'],\n",
    "        'population': [11.3, 64.3, 81.3, 16.9, 64.9],\n",
    "        'area': [30510, 671308, 357050, 41526, 244820],\n",
    "        'capital': ['Brussels', 'Paris', 'Berlin', 'Amsterdam', 'London']}\n",
    "countries = pd.DataFrame(data)\n",
    "countries"
   ],
   "metadata": {
    "collapsed": false,
    "ExecuteTime": {
     "end_time": "2023-08-01T14:55:48.298296Z",
     "start_time": "2023-08-01T14:55:47.703591Z"
    }
   }
  },
  {
   "cell_type": "code",
   "execution_count": 23,
   "outputs": [
    {
     "data": {
      "text/plain": "                 GDP  area\ncountry                   \nBelgium       496477   8.0\nFrance       2650823   9.9\nNetherlands   820726   5.7",
      "text/html": "<div>\n<style scoped>\n    .dataframe tbody tr th:only-of-type {\n        vertical-align: middle;\n    }\n\n    .dataframe tbody tr th {\n        vertical-align: top;\n    }\n\n    .dataframe thead th {\n        text-align: right;\n    }\n</style>\n<table border=\"1\" class=\"dataframe\">\n  <thead>\n    <tr style=\"text-align: right;\">\n      <th></th>\n      <th>GDP</th>\n      <th>area</th>\n    </tr>\n    <tr>\n      <th>country</th>\n      <th></th>\n      <th></th>\n    </tr>\n  </thead>\n  <tbody>\n    <tr>\n      <th>Belgium</th>\n      <td>496477</td>\n      <td>8.0</td>\n    </tr>\n    <tr>\n      <th>France</th>\n      <td>2650823</td>\n      <td>9.9</td>\n    </tr>\n    <tr>\n      <th>Netherlands</th>\n      <td>820726</td>\n      <td>5.7</td>\n    </tr>\n  </tbody>\n</table>\n</div>"
     },
     "execution_count": 23,
     "metadata": {},
     "output_type": "execute_result"
    }
   ],
   "source": [
    "data = {'country': ['Belgium', 'France', 'Netherlands'],\n",
    "        'GDP': [496477, 2650823, 820726],\n",
    "        'area': [8.0, 9.9, 5.7]}\n",
    "country_economics = pd.DataFrame(data).set_index('country')\n",
    "country_economics"
   ],
   "metadata": {
    "collapsed": false,
    "ExecuteTime": {
     "end_time": "2023-08-01T14:55:48.298601Z",
     "start_time": "2023-08-01T14:55:47.710289Z"
    }
   }
  },
  {
   "cell_type": "code",
   "execution_count": 24,
   "id": "3105e789",
   "metadata": {
    "ExecuteTime": {
     "end_time": "2023-08-01T14:55:48.298864Z",
     "start_time": "2023-08-01T14:55:47.713028Z"
    }
   },
   "outputs": [
    {
     "data": {
      "text/plain": "                    country  population      area    capital        GDP  area\n0                   Belgium        11.3   30510.0   Brussels        NaN   NaN\n1                    France        64.3  671308.0      Paris        NaN   NaN\n2                   Germany        81.3  357050.0     Berlin        NaN   NaN\n3               Netherlands        16.9   41526.0  Amsterdam        NaN   NaN\n4            United Kingdom        64.9  244820.0     London        NaN   NaN\nBelgium                 NaN         NaN       NaN        NaN   496477.0   8.0\nFrance                  NaN         NaN       NaN        NaN  2650823.0   9.9\nNetherlands             NaN         NaN       NaN        NaN   820726.0   5.7",
      "text/html": "<div>\n<style scoped>\n    .dataframe tbody tr th:only-of-type {\n        vertical-align: middle;\n    }\n\n    .dataframe tbody tr th {\n        vertical-align: top;\n    }\n\n    .dataframe thead th {\n        text-align: right;\n    }\n</style>\n<table border=\"1\" class=\"dataframe\">\n  <thead>\n    <tr style=\"text-align: right;\">\n      <th></th>\n      <th>country</th>\n      <th>population</th>\n      <th>area</th>\n      <th>capital</th>\n      <th>GDP</th>\n      <th>area</th>\n    </tr>\n  </thead>\n  <tbody>\n    <tr>\n      <th>0</th>\n      <td>Belgium</td>\n      <td>11.3</td>\n      <td>30510.0</td>\n      <td>Brussels</td>\n      <td>NaN</td>\n      <td>NaN</td>\n    </tr>\n    <tr>\n      <th>1</th>\n      <td>France</td>\n      <td>64.3</td>\n      <td>671308.0</td>\n      <td>Paris</td>\n      <td>NaN</td>\n      <td>NaN</td>\n    </tr>\n    <tr>\n      <th>2</th>\n      <td>Germany</td>\n      <td>81.3</td>\n      <td>357050.0</td>\n      <td>Berlin</td>\n      <td>NaN</td>\n      <td>NaN</td>\n    </tr>\n    <tr>\n      <th>3</th>\n      <td>Netherlands</td>\n      <td>16.9</td>\n      <td>41526.0</td>\n      <td>Amsterdam</td>\n      <td>NaN</td>\n      <td>NaN</td>\n    </tr>\n    <tr>\n      <th>4</th>\n      <td>United Kingdom</td>\n      <td>64.9</td>\n      <td>244820.0</td>\n      <td>London</td>\n      <td>NaN</td>\n      <td>NaN</td>\n    </tr>\n    <tr>\n      <th>Belgium</th>\n      <td>NaN</td>\n      <td>NaN</td>\n      <td>NaN</td>\n      <td>NaN</td>\n      <td>496477.0</td>\n      <td>8.0</td>\n    </tr>\n    <tr>\n      <th>France</th>\n      <td>NaN</td>\n      <td>NaN</td>\n      <td>NaN</td>\n      <td>NaN</td>\n      <td>2650823.0</td>\n      <td>9.9</td>\n    </tr>\n    <tr>\n      <th>Netherlands</th>\n      <td>NaN</td>\n      <td>NaN</td>\n      <td>NaN</td>\n      <td>NaN</td>\n      <td>820726.0</td>\n      <td>5.7</td>\n    </tr>\n  </tbody>\n</table>\n</div>"
     },
     "execution_count": 24,
     "metadata": {},
     "output_type": "execute_result"
    }
   ],
   "source": [
    "pd.concat([countries, country_economics], axis=1)"
   ]
  },
  {
   "cell_type": "markdown",
   "id": "17e2c658-8343-4142-a995-3fb8de9ede08",
   "metadata": {},
   "source": [
    "`pd.concat` matches the different objects based on the index:"
   ]
  },
  {
   "cell_type": "code",
   "execution_count": 25,
   "id": "763667a5",
   "metadata": {
    "ExecuteTime": {
     "end_time": "2023-08-01T14:55:48.358274Z",
     "start_time": "2023-08-01T14:55:47.732380Z"
    }
   },
   "outputs": [],
   "source": [
    "countries2 = countries.set_index('country')"
   ]
  },
  {
   "cell_type": "code",
   "execution_count": 26,
   "id": "6c3a72d7",
   "metadata": {
    "ExecuteTime": {
     "end_time": "2023-08-01T14:55:48.358728Z",
     "start_time": "2023-08-01T14:55:47.737728Z"
    }
   },
   "outputs": [
    {
     "data": {
      "text/plain": "                population    area    capital\ncountry                                      \nBelgium               11.3   30510   Brussels\nFrance                64.3  671308      Paris\nGermany               81.3  357050     Berlin\nNetherlands           16.9   41526  Amsterdam\nUnited Kingdom        64.9  244820     London",
      "text/html": "<div>\n<style scoped>\n    .dataframe tbody tr th:only-of-type {\n        vertical-align: middle;\n    }\n\n    .dataframe tbody tr th {\n        vertical-align: top;\n    }\n\n    .dataframe thead th {\n        text-align: right;\n    }\n</style>\n<table border=\"1\" class=\"dataframe\">\n  <thead>\n    <tr style=\"text-align: right;\">\n      <th></th>\n      <th>population</th>\n      <th>area</th>\n      <th>capital</th>\n    </tr>\n    <tr>\n      <th>country</th>\n      <th></th>\n      <th></th>\n      <th></th>\n    </tr>\n  </thead>\n  <tbody>\n    <tr>\n      <th>Belgium</th>\n      <td>11.3</td>\n      <td>30510</td>\n      <td>Brussels</td>\n    </tr>\n    <tr>\n      <th>France</th>\n      <td>64.3</td>\n      <td>671308</td>\n      <td>Paris</td>\n    </tr>\n    <tr>\n      <th>Germany</th>\n      <td>81.3</td>\n      <td>357050</td>\n      <td>Berlin</td>\n    </tr>\n    <tr>\n      <th>Netherlands</th>\n      <td>16.9</td>\n      <td>41526</td>\n      <td>Amsterdam</td>\n    </tr>\n    <tr>\n      <th>United Kingdom</th>\n      <td>64.9</td>\n      <td>244820</td>\n      <td>London</td>\n    </tr>\n  </tbody>\n</table>\n</div>"
     },
     "execution_count": 26,
     "metadata": {},
     "output_type": "execute_result"
    }
   ],
   "source": [
    "countries2"
   ]
  },
  {
   "cell_type": "code",
   "execution_count": 27,
   "id": "07814fa5",
   "metadata": {
    "ExecuteTime": {
     "end_time": "2023-08-01T14:55:48.358967Z",
     "start_time": "2023-08-01T14:55:47.744704Z"
    }
   },
   "outputs": [
    {
     "data": {
      "text/plain": "                population    area    capital        GDP  area\ncountry                                                       \nBelgium               11.3   30510   Brussels   496477.0   8.0\nFrance                64.3  671308      Paris  2650823.0   9.9\nGermany               81.3  357050     Berlin        NaN   NaN\nNetherlands           16.9   41526  Amsterdam   820726.0   5.7\nUnited Kingdom        64.9  244820     London        NaN   NaN",
      "text/html": "<div>\n<style scoped>\n    .dataframe tbody tr th:only-of-type {\n        vertical-align: middle;\n    }\n\n    .dataframe tbody tr th {\n        vertical-align: top;\n    }\n\n    .dataframe thead th {\n        text-align: right;\n    }\n</style>\n<table border=\"1\" class=\"dataframe\">\n  <thead>\n    <tr style=\"text-align: right;\">\n      <th></th>\n      <th>population</th>\n      <th>area</th>\n      <th>capital</th>\n      <th>GDP</th>\n      <th>area</th>\n    </tr>\n    <tr>\n      <th>country</th>\n      <th></th>\n      <th></th>\n      <th></th>\n      <th></th>\n      <th></th>\n    </tr>\n  </thead>\n  <tbody>\n    <tr>\n      <th>Belgium</th>\n      <td>11.3</td>\n      <td>30510</td>\n      <td>Brussels</td>\n      <td>496477.0</td>\n      <td>8.0</td>\n    </tr>\n    <tr>\n      <th>France</th>\n      <td>64.3</td>\n      <td>671308</td>\n      <td>Paris</td>\n      <td>2650823.0</td>\n      <td>9.9</td>\n    </tr>\n    <tr>\n      <th>Germany</th>\n      <td>81.3</td>\n      <td>357050</td>\n      <td>Berlin</td>\n      <td>NaN</td>\n      <td>NaN</td>\n    </tr>\n    <tr>\n      <th>Netherlands</th>\n      <td>16.9</td>\n      <td>41526</td>\n      <td>Amsterdam</td>\n      <td>820726.0</td>\n      <td>5.7</td>\n    </tr>\n    <tr>\n      <th>United Kingdom</th>\n      <td>64.9</td>\n      <td>244820</td>\n      <td>London</td>\n      <td>NaN</td>\n      <td>NaN</td>\n    </tr>\n  </tbody>\n</table>\n</div>"
     },
     "execution_count": 27,
     "metadata": {},
     "output_type": "execute_result"
    }
   ],
   "source": [
    "pd.concat([countries2, country_economics], axis=\"columns\")"
   ]
  },
  {
   "cell_type": "code",
   "execution_count": 27,
   "id": "c420d1a6-5cf6-4efa-868d-0c591459e4e1",
   "metadata": {
    "ExecuteTime": {
     "end_time": "2023-08-01T14:55:48.359075Z",
     "start_time": "2023-08-01T14:55:47.747667Z"
    }
   },
   "outputs": [],
   "source": []
  }
 ],
 "metadata": {
  "jupytext": {
   "formats": "ipynb,md:myst"
  },
  "kernelspec": {
   "display_name": "Python 3 (ipykernel)",
   "language": "python",
   "name": "python3"
  },
  "language_info": {
   "codemirror_mode": {
    "name": "ipython",
    "version": 3
   },
   "file_extension": ".py",
   "mimetype": "text/x-python",
   "name": "python",
   "nbconvert_exporter": "python",
   "pygments_lexer": "ipython3",
   "version": "3.10.2"
  },
  "widgets": {
   "application/vnd.jupyter.widget-state+json": {
    "state": {},
    "version_major": 2,
    "version_minor": 0
   }
  }
 },
 "nbformat": 4,
 "nbformat_minor": 5
}
