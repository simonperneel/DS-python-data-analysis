{
 "cells": [
  {
   "cell_type": "markdown",
   "metadata": {},
   "source": [
    "<p><font size=\"6\"><b>Visualization - Python's Visualization Landscape</b></font></p>\n",
    "\n",
    "> *© 2021, Joris Van den Bossche and Stijn Van Hoey  (<mailto:jorisvandenbossche@gmail.com>, <mailto:stijnvanhoey@gmail.com>). Licensed under [CC BY 4.0 Creative Commons](http://creativecommons.org/licenses/by/4.0/)*\n",
    "\n",
    "---"
   ]
  },
  {
   "cell_type": "markdown",
   "metadata": {},
   "source": [
    "---\n",
    "**Remark:**\n",
    "\n",
    "Some Python visualization packages used in this notebook are not provided by default in the conda environment of the course. In case you want to try these features yourself, make sure to install these packages with conda.\n",
    "\n",
    "To make some of the more general plotting packages available:\n",
    "\n",
    "```\n",
    "conda install -c conda-forge bokeh plotly altair hvplot holoviews\n",
    "``` \n",
    "\n",
    "To have support of Bokeh inside the Jupyter Lab environment\n",
    "```\n",
    "conda install jupyter_bokeh\n",
    "```\n",
    "\n",
    "To have support of plotly inside the Jupyter Lab environment everything should be included as suc. However, when seeing only blank/empty space as output in the Jupyter lab environment. Close the Jupyter lab, run the command `jupyter lab build` from the command line and restart the Jupyter lab environment.\n",
    "\n",
    "To run the large data set section, additional package installations are required:\n",
    "\n",
    "```\n",
    "conda install -c conda-forge datashader holoviews geoviews\n",
    "```\n",
    "---"
   ]
  },
  {
   "cell_type": "markdown",
   "metadata": {},
   "source": [
    "## What have we done so far?"
   ]
  },
  {
   "cell_type": "markdown",
   "metadata": {},
   "source": [
    "What we have encountered until now:\n",
    "\n",
    "* [matplotlib](https://matplotlib.org/)\n",
    "* [pandas .plot](https://pandas.pydata.org/pandas-docs/stable/visualization.html)\n",
    "* [seaborn](https://seaborn.pydata.org/)"
   ]
  },
  {
   "cell_type": "code",
   "execution_count": 1,
   "metadata": {},
   "outputs": [],
   "source": [
    "import numpy as np\n",
    "import pandas as pd\n",
    "\n",
    "import matplotlib.pyplot as plt\n",
    "import plotnine as p9\n",
    "import seaborn as sns"
   ]
  },
  {
   "cell_type": "markdown",
   "metadata": {},
   "source": [
    "### When should I use Seaborn versus Matplotlib?"
   ]
  },
  {
   "cell_type": "markdown",
   "metadata": {},
   "source": [
    "There is `titanic` data again..."
   ]
  },
  {
   "cell_type": "code",
   "execution_count": 2,
   "metadata": {},
   "outputs": [],
   "source": [
    "titanic = pd.read_csv(\"data/titanic.csv\")"
   ]
  },
  {
   "cell_type": "markdown",
   "metadata": {},
   "source": [
    "Pandas/Matplotlib plot..."
   ]
  },
  {
   "cell_type": "code",
   "execution_count": 3,
   "metadata": {},
   "outputs": [
    {
     "data": {
      "text/plain": "<Figure size 432x288 with 1 Axes>",
      "image/png": "[encoded data removed]"
     },
     "metadata": {},
     "output_type": "display_data"
    }
   ],
   "source": [
    "with plt.style.context('seaborn-whitegrid'):  # context manager for styling the figure\n",
    "    \n",
    "    fig, ax = plt.subplots()\n",
    "    \n",
    "    survival_rate = titanic.groupby(\"Pclass\")['Survived'].mean()\n",
    "    survival_rate.plot(kind='bar', color='grey', \n",
    "                       rot=0, figsize=(6, 4), ax=ax)\n",
    "    \n",
    "    ylab = ax.set_ylabel(\"Survival rate\")\n",
    "    xlab = ax.set_xlabel(\"Cabin class\")"
   ]
  },
  {
   "cell_type": "markdown",
   "metadata": {},
   "source": [
    "Using Seaborn:"
   ]
  },
  {
   "cell_type": "code",
   "execution_count": 4,
   "metadata": {},
   "outputs": [
    {
     "data": {
      "text/plain": "<Figure size 360x360 with 1 Axes>",
      "image/png": "[encoded data removed]"
     },
     "metadata": {},
     "output_type": "display_data"
    }
   ],
   "source": [
    "with sns.axes_style(\"whitegrid\"):    # context manager for styling the figure\n",
    "    \n",
    "    g = sns.catplot(data=titanic, \n",
    "                    x=\"Pclass\", y=\"Survived\", \n",
    "                    kind=\"bar\", estimator=np.mean,\n",
    "                    ci=None, color=\"grey\")\n",
    "    \n",
    "    g.set_axis_labels(\"Cabin class\", \"Survival rate\")"
   ]
  },
  {
   "cell_type": "markdown",
   "metadata": {},
   "source": [
    "An important difference is the *imperative* approach from `matplotlib` versus the *declarative* approach from `seaborn`:"
   ]
  },
  {
   "cell_type": "markdown",
   "metadata": {},
   "source": [
    "| imperative | declarative |\n",
    "|------------|-------------|\n",
    "| Specify **how** something should be done |  Specify **what** should be done            |\n",
    "| **Manually specify** the individual plotting steps | Individual plotting steps based on **declaration** |\n",
    "| e.g. `for ax in axes: ax.plot(...` | e.g. `, col=my_variable` |"
   ]
  },
  {
   "cell_type": "markdown",
   "metadata": {},
   "source": [
    "Which approach to use, is sometimes just a matter of personal preference... Although, take following elements into account:"
   ]
  },
  {
   "cell_type": "markdown",
   "metadata": {},
   "source": [
    "* When your data consists of only **1 categorical variable**, such as\n",
    "\n",
    "  | ID | variable 1 | variable 2 | variabel ... | \n",
    "  |------------|-------------| ---- | ----- |\n",
    "  | 1 | 0.2 | 0.8 | ... |\n",
    "  | 2 | 0.3 | 0.1 | ... |\n",
    "  | 3 | 0.9 | 0.6 | ... |\n",
    "  | 4 | 0.1 | 0.7 | ... |\n",
    "  | ...  | ... | ... | ...|\n",
    "\n",
    "  the added value of using Seaborn approach is LOW. Pandas `.plot()` will probably suffice.\n",
    "\n",
    "* When working with **timeseries data** from sensors or continuous logging, such as\n",
    "\n",
    "  | datetime | station 1 | station 2 | station ... | \n",
    "  |------------|-------------| ---- | ----- |\n",
    "  | 2017-12-20T17:50:46Z | 0.2 | 0.8 | ... |\n",
    "  | 2017-12-20T17:50:52Z | 0.3 | 0.1 | ... |\n",
    "  | 2017-12-20T17:51:03Z | 0.9 | 0.6 | ... |\n",
    "  | 2017-12-20T17:51:40Z | 0.1 | 0.7 | ... |\n",
    "  | ...  | ... | ... | ...|\n",
    "\n",
    "  the added value of using a grammar of graphics approach is LOW. Pandas `.plot()` will probably suffice.\n",
    "\n",
    "* When working with different experiments, different conditions, (factorial) **experimental designs**, such as\n",
    "\n",
    "  | ID | origin | addition (ml)  | measured_value | \n",
    "  |----|-----------| ----- | ------ |\n",
    "  | 1  | Eindhoven | 0.3 | 7.2 |\n",
    "  | 2  | Eindhoven | 0.6 | 6.7 |\n",
    "  | 3  | Eindhoven | 0.9 | 5.2 |\n",
    "  | 4  | Destelbergen | 0.3 | 7.2 |\n",
    "  | 5  | Destelbergen | 0.6 | 6.8 |\n",
    "  | ...  | ... | ... | ...|\n",
    "\n",
    "  the added value of using Seaborn approach is HIGH. Represent your data [`tidy`](http://www.jeannicholashould.com/tidy-data-in-python.html) to achieve maximal benefit!\n",
    "\n",
    "* When you want to visualize __distributions__ of data or __regressions__ between variables, the added value of using Seaborn approach is HIGH."
   ]
  },
  {
   "cell_type": "markdown",
   "metadata": {},
   "source": [
    "<div class=\"alert alert-info\">\n",
    "\n",
    "**Remember**\n",
    "\n",
    "- These packages will support you towards __static, publication quality__ figures in a variety of __hardcopy__ formats\n",
    "- In general, start with a _high-level_ function and adjust the details with Matplotlib\n",
    "\n",
    "</div>"
   ]
  },
  {
   "cell_type": "markdown",
   "metadata": {},
   "source": [
    "Still...\n",
    "\n",
    "> *I've been wasting too much time on this one stupid detail for this publication graph*\n",
    "\n",
    "![](https://imgs.xkcd.com/comics/is_it_worth_the_time.png)"
   ]
  },
  {
   "cell_type": "code",
   "execution_count": 5,
   "metadata": {},
   "outputs": [],
   "source": [
    "fig.savefig(\"my_plot_with_one_issue.pdf\")"
   ]
  },
  {
   "cell_type": "markdown",
   "metadata": {},
   "source": [
    "<div class=\"alert alert-warning\"  style=\"font-size:120%\">\n",
    "\n",
    "**Notice**\n",
    "\n",
    "- In the end... there is still <a href=\"https://inkscape.org/en/\">Inkscape</a> to the rescue!\n",
    "\n",
    "</div>"
   ]
  },
  {
   "cell_type": "markdown",
   "metadata": {},
   "source": [
    "## The 'Grammar of graphics'"
   ]
  },
  {
   "cell_type": "markdown",
   "metadata": {},
   "source": [
    "Seaborn provides a high level abstraction to create charts and is highly related to the concept of the so-called (layered) `Grammar of Graphics`, a visualization framework originally described [by Leland Wilkinson](https://www.springer.com/gp/book/9780387245447), which became famous due to the [ggplot2](https://ggplot2.tidyverse.org/) R package. \n",
    "\n",
    "The `Grammar of Graphics` is especially targeted for so-called __tidy__ `DataFrame` representations and has currently implementations in different programming languages, e.g.\n",
    "\n",
    "- [ggplot2](https://ggplot2.tidyverse.org/) for R\n",
    "- [vega-lite API](https://vega.github.io/vega-lite-api/) for Javascript\n",
    "\n",
    "Each chart requires the definition of:\n",
    "\n",
    "1. data\n",
    "1. a geometry (e.g. points, lines, bars,...) \n",
    "1. a translation of the variables in the data to the elements of the geometry (aka `aesthetics` or `encoding`)\n",
    "\n",
    "And additional elements can be added or adjusted to create more complex charts.\n",
    "\n",
    "In the Python visualization ecosystem, both `Plotnine` as well as `Altair` provide an implementation of the `Grammar of Graphics`\n",
    "\n",
    "| Plotnine | Altair |\n",
    "|------------|-------------|\n",
    "| Works well with Pandas | Works well with Pandas |\n",
    "| Built on top of [Matplotlib](https://matplotlib.org/) |  Built on top of [Vega-lite](https://vega.github.io/vega-lite/)         |\n",
    "| Python-clone of the R package `ggplot` | Plot specification to define a vega-lite 'JSON string' |\n",
    "| Static plots | Web/interactive plots |"
   ]
  },
  {
   "cell_type": "markdown",
   "metadata": {},
   "source": [
    "### Plotnine"
   ]
  },
  {
   "cell_type": "markdown",
   "metadata": {},
   "source": [
    "> _[Plotnine](https://plotnine.readthedocs.io/en/stable/) is an implementation of a grammar of graphics in Python, it is based on `ggplot2`. The grammar allows users to compose plots by explicitly mapping data to the visual objects that make up the plot._\n",
    "\n",
    "The syntax of the package will feel _very familiar_ to users familiar with the R package ggplot, but might feel _odd_ for Python developers. \n",
    "\n",
    "The main ingredients (data, geometry, aesthetics) of the `Grammar of Graphics` framework need to be defined to create a chart:"
   ]
  },
  {
   "cell_type": "code",
   "execution_count": 6,
   "metadata": {},
   "outputs": [
    {
     "data": {
      "text/plain": "<Figure size 640x480 with 1 Axes>",
      "image/png": "[encoded data removed]"
     },
     "metadata": {},
     "output_type": "display_data"
    },
    {
     "data": {
      "text/plain": "<ggplot: (378310075)>"
     },
     "execution_count": 6,
     "metadata": {},
     "output_type": "execute_result"
    }
   ],
   "source": [
    "import plotnine as p9\n",
    "\n",
    "myplot = (p9.ggplot(titanic)              # 1. DATA         \n",
    "    + p9.geom_bar(                        # 2. GEOMETRY, geom_*\n",
    "        stat='stat_summary',\n",
    "        mapping=p9.aes(x='Pclass', \n",
    "                       y='Survived')      # 3. AESTHETICS - relate variables to geometry\n",
    "    )    \n",
    ")\n",
    "\n",
    "myplot"
   ]
  },
  {
   "cell_type": "markdown",
   "metadata": {},
   "source": [
    "And further customization (_layers_) can be added to the specification, e.g."
   ]
  },
  {
   "cell_type": "code",
   "execution_count": 7,
   "metadata": {},
   "outputs": [
    {
     "data": {
      "text/plain": "<Figure size 640x480 with 1 Axes>",
      "image/png": "[encoded data removed]"
     },
     "metadata": {
      "needs_background": "light"
     },
     "output_type": "display_data"
    },
    {
     "data": {
      "text/plain": "<ggplot: (378495175)>"
     },
     "execution_count": 7,
     "metadata": {},
     "output_type": "execute_result"
    }
   ],
   "source": [
    "import plotnine as p9\n",
    "\n",
    "myplot = (p9.ggplot(titanic)              # 1. DATA         \n",
    "    + p9.geom_bar(                        # 2. GEOMETRY, geom_*\n",
    "        stat='stat_summary',\n",
    "        mapping=p9.aes(x='Pclass', \n",
    "                       y='Survived')      # 3. AESTHETICS - relate variables to geometry\n",
    "    )\n",
    "    + p9.xlab(\"Cabin class\")     # labels\n",
    "    + p9.theme_minimal()              # theme\n",
    "    # ...\n",
    ")\n",
    "\n",
    "myplot"
   ]
  },
  {
   "cell_type": "markdown",
   "metadata": {},
   "source": [
    "As Plotnine is built on top of Matplotlib, one can still retrieve the Matplotlib `Figure` object from Plotnine for eventual customization.\n",
    "\n",
    "The trick is to use the `.draw()` function in Plotnine:"
   ]
  },
  {
   "cell_type": "code",
   "execution_count": 8,
   "metadata": {},
   "outputs": [
    {
     "data": {
      "text/plain": "<Figure size 640x480 with 2 Axes>",
      "image/png": "[encoded data removed]"
     },
     "metadata": {
      "needs_background": "light"
     },
     "output_type": "display_data"
    }
   ],
   "source": [
    "my_plt_version = myplot.draw();  # extract as Matplotlib Figure\n",
    "\n",
    "# Do some Matplotlib magick...\n",
    "my_plt_version.axes[0].set_title(\"Titanic fare price per cabin class\")\n",
    "ax2 = my_plt_version.add_axes([0.7, 0.5, 0.3, 0.3], label=\"ax2\")"
   ]
  },
  {
   "cell_type": "markdown",
   "metadata": {},
   "source": [
    "<div class=\"alert alert-info\">\n",
    "\n",
    "**REMEMBER**\n",
    "\n",
    "- If you are already familiar to ggplot in R, the conversion of Plotnine will be easy.\n",
    "- Plotnine is based on Matplotlib, making further customization possible as we have seen before.\n",
    "\n",
    "</div>"
   ]
  },
  {
   "cell_type": "markdown",
   "metadata": {},
   "source": [
    "### Altair\n",
    "\n",
    "> *[Altair](https://altair-viz.github.io/) is a declarative statistical visualization library for Python, based on Vega-Lite.*"
   ]
  },
  {
   "cell_type": "code",
   "execution_count": null,
   "metadata": {},
   "outputs": [],
   "source": [
    "import altair as alt"
   ]
  },
  {
   "cell_type": "markdown",
   "metadata": {},
   "source": [
    "Altair implements the `Grammar of Graphics` with the same main ingredients, but a different syntax:"
   ]
  },
  {
   "cell_type": "code",
   "execution_count": null,
   "metadata": {},
   "outputs": [],
   "source": [
    "(alt.Chart(titanic)                       # 1. DATA         \n",
    "    .mark_bar()                           # 2. GEOMETRY, geom_*\n",
    "    .encode(                              # 3. AESTHETICS - relate variables to geometry\n",
    "        x=alt.X('Pclass:O', \n",
    "                axis=alt.Axis(title='Cabin class')),\n",
    "        y=alt.Y('mean(Survived):Q', \n",
    "                axis=alt.Axis(format='%', \n",
    "                              title='Survival rate'))\n",
    "    )\n",
    ")"
   ]
  },
  {
   "cell_type": "markdown",
   "metadata": {},
   "source": [
    "When encoding the variables for the chosen geometry, Altair provides a specific syntax on the data type of each variable. For information on this `...:Q`, `...:N`,`...:O`, see the [data type section](https://altair-viz.github.io/user_guide/encoding.html#encoding-data-types) of the documentation:\n",
    "\n",
    "Data Type |\tShorthand Code |\tDescription\n",
    "----------|-----------------|---------------\n",
    "quantitative |\t\tQ |\t\ta continuous real-valued quantity\n",
    "ordinal |\t\tO |\t\ta discrete ordered quantity\n",
    "nominal |\t\tN |\t\ta discrete unordered category\n",
    "temporal |\t\tT |\t\ta time or date value"
   ]
  },
  {
   "cell_type": "markdown",
   "metadata": {},
   "source": [
    "Altair is made for the web, providing interactive features for the plots. See more examples [here](https://altair-viz.github.io/gallery/index.html#interactive-charts)."
   ]
  },
  {
   "cell_type": "code",
   "execution_count": null,
   "metadata": {},
   "outputs": [],
   "source": [
    "brush = alt.selection(type='interval')\n",
    "\n",
    "(alt.Chart(titanic)\n",
    "     .mark_circle().encode( \n",
    "        x=\"Fare:Q\",   \n",
    "        y=\"Age:Q\",\n",
    "        column=\"Sex:O\",\n",
    "        color=alt.condition(brush, \"Pclass:N\", alt.value('grey')),\n",
    ").add_selection(brush))"
   ]
  },
  {
   "cell_type": "markdown",
   "metadata": {},
   "source": [
    "<div class=\"alert alert-info\">\n",
    "\n",
    "**Remember**\n",
    "\n",
    "- Altair provides a pure-Python <b>Grammar of Graphics</b> implementation\n",
    "- Altair is built on top of the <a href=\"https://vega.github.io/vega-lite/\">Vega-Lite</a> visualization grammar, which can be interpreted as a language to specify a graph (from data to figure).\n",
    "- Altair easily integrates with web-technology (HTML/Javascript).\n",
    "\n",
    "</div>"
   ]
  },
  {
   "cell_type": "markdown",
   "metadata": {},
   "source": [
    "## Interactivity and the web"
   ]
  },
  {
   "cell_type": "markdown",
   "metadata": {},
   "source": [
    "Whereas Matplotlib/Seaborn/Plotnine are packages to create static charts, the charts created by Altair are mainly targeted to __integrate in websites and web applications__. \n",
    "\n",
    "With the increasing interest for interactive data visualization and dashboards, other packages were designed to fulfill this requirement. Both the [Bokeh](https://bokeh.org/) package and the [Plotly](https://plotly.com/python/) package can be used as a stand-alone data visualization tool or as part of web applications and dashboards."
   ]
  },
  {
   "cell_type": "markdown",
   "metadata": {},
   "source": [
    "__Note:__ Bokeh and Plotly are also the components for some packages to build interactive web applications, respectively [Panel](https://panel.holoviz.org/) and [Dash](https://dash.plotly.com/)."
   ]
  },
  {
   "cell_type": "markdown",
   "metadata": {},
   "source": [
    "### Bokeh"
   ]
  },
  {
   "cell_type": "markdown",
   "metadata": {},
   "source": [
    "> *[Bokeh](https://bokeh.pydata.org/en/latest/) is a Python interactive visualization library that targets modern web browsers for presentation*."
   ]
  },
  {
   "cell_type": "code",
   "execution_count": null,
   "metadata": {},
   "outputs": [],
   "source": [
    "from bokeh.plotting import figure, output_file, show"
   ]
  },
  {
   "cell_type": "markdown",
   "metadata": {},
   "source": [
    "By default, Bokeh will open a new webpage to plot the figure. Still, an **integration with Jupyter notebooks** is provided:"
   ]
  },
  {
   "cell_type": "code",
   "execution_count": null,
   "metadata": {},
   "outputs": [],
   "source": [
    "from bokeh.io import output_notebook"
   ]
  },
  {
   "cell_type": "code",
   "execution_count": null,
   "metadata": {},
   "outputs": [],
   "source": [
    "output_notebook()"
   ]
  },
  {
   "cell_type": "code",
   "execution_count": null,
   "metadata": {},
   "outputs": [],
   "source": [
    "p = figure()\n",
    "p.line(x=[1, 2, 3], \n",
    "       y=[4,6,2])\n",
    "show(p)"
   ]
  },
  {
   "cell_type": "markdown",
   "metadata": {},
   "source": [
    "<div class=\"alert alert-danger\">\n",
    "\n",
    "__Warning__ \n",
    "\n",
    "- Bokeh does <b>not</b> support <code>eps</code>, <code>pdf</code> export of plots directly. Exporting to svg is available but still limited, see <a href=\"https://docs.bokeh.org/en/latest/docs/user_guide/export.html\">documentation</a>.\n",
    "\n",
    "</div>"
   ]
  },
  {
   "cell_type": "markdown",
   "metadata": {},
   "source": [
    "To accomodate the users of **Pandas**, a `pd.DataFrame` can also be used as the input for a Bokeh plot:"
   ]
  },
  {
   "cell_type": "code",
   "execution_count": null,
   "metadata": {},
   "outputs": [],
   "source": [
    "from bokeh.models import ColumnDataSource\n",
    "\n",
    "flow_data = pd.read_csv(\"data/vmm_flowdata.csv\", parse_dates=True, index_col=0)\n",
    "\n",
    "source_data = ColumnDataSource(data=flow_data)"
   ]
  },
  {
   "cell_type": "markdown",
   "metadata": {},
   "source": [
    "Useful to know when you want to use the index as well:\n",
    "> *If the DataFrame has a named index column, then CDS will also have a column with this name. However, if the index name (or any subname of a MultiIndex) is None, then the CDS will have a column generically named index for the index.*"
   ]
  },
  {
   "cell_type": "code",
   "execution_count": null,
   "metadata": {},
   "outputs": [],
   "source": [
    "p = figure(x_axis_type=\"datetime\", plot_height=200, plot_width=600)\n",
    "p.line(x='Time', y='LS06_347', source=source_data)\n",
    "show(p)"
   ]
  },
  {
   "cell_type": "markdown",
   "metadata": {},
   "source": [
    "Bokeh has lots of functionalities to adjust and customize charts, e.g. by adding new annotations to the figure object:"
   ]
  },
  {
   "cell_type": "code",
   "execution_count": null,
   "metadata": {},
   "outputs": [],
   "source": [
    "from bokeh.models import ColumnDataSource, BoxAnnotation, Label"
   ]
  },
  {
   "cell_type": "code",
   "execution_count": null,
   "metadata": {},
   "outputs": [],
   "source": [
    "p = figure(x_axis_type=\"datetime\", plot_height=200, plot_width=600)\n",
    "p.line(x='Time', y='L06_347', source=source_data)\n",
    "p.circle(x='Time', y='L06_347', source=source_data, \n",
    "         fill_alpha= 0.3, line_alpha=0.3)\n",
    "\n",
    "alarm_box = BoxAnnotation(bottom=10, fill_alpha=0.3, \n",
    "                          fill_color='#ff6666')  # arbitrary value; this is NOT the real-case value\n",
    "p.add_layout(alarm_box)\n",
    "\n",
    "alarm_label = Label(text=\"Flood risk\", x_units='screen', \n",
    "                    x= 10, y=10, text_color=\"#330000\")\n",
    "p.add_layout(alarm_label)\n",
    "\n",
    "show(p)"
   ]
  },
  {
   "cell_type": "markdown",
   "metadata": {},
   "source": [
    "### hvplot/holoviews"
   ]
  },
  {
   "cell_type": "markdown",
   "metadata": {},
   "source": [
    "> hvPlot provides an alternative for the static plotting API provided by Pandas and other libraries, with an interactive Bokeh-based plotting API that supports panning, zooming, hovering, and clickable/selectable legends"
   ]
  },
  {
   "cell_type": "markdown",
   "metadata": {},
   "source": [
    "Similar to Matplotlib, Bokeh is a low-level package. Whereas Matplotlib provides the building blocks to define static plots, Bokeh provides the building blocks to create interactive visualizations. \n",
    "\n",
    "Just as Seaborn provides an abstraction on top of the Matplotlib package, the [hvplot](https://hvplot.holoviz.org/index.html) and [Holoviews](http://holoviews.org/index.html) packages provide an abstraction on top of Bokeh, i.e. plots with less code.\n",
    "\n",
    "_Actually, hvplot is built on top of Holoviews, which is built on top of Bokeh_"
   ]
  },
  {
   "cell_type": "code",
   "execution_count": null,
   "metadata": {},
   "outputs": [],
   "source": [
    "import hvplot.pandas\n",
    "\n",
    "flow_data.hvplot()"
   ]
  },
  {
   "cell_type": "markdown",
   "metadata": {},
   "source": [
    "The link in between hvplot/holoviews and Bokeh (for further adjustments) can be made using the `render` function:"
   ]
  },
  {
   "cell_type": "code",
   "execution_count": null,
   "metadata": {},
   "outputs": [],
   "source": [
    "import holoviews as hv\n",
    "\n",
    "fig = hv.render(flow_data.hvplot())\n",
    "type(fig)"
   ]
  },
  {
   "cell_type": "markdown",
   "metadata": {},
   "source": [
    "<div class=\"alert alert-info\">\n",
    "\n",
    "A similar advice as with Matplotlib: \"do as much as you easily can in your convenience layer of choice [e.g. hvplot, GeoViews, Holoviews], use Bokeh for customization.\n",
    "    \n",
    "**More Bokeh?**\n",
    "\n",
    "- Try the <a href=\"http://nbviewer.jupyter.org/github/bokeh/bokeh-notebooks/blob/master/quickstart/quickstart.ipynb\">quickstart notebook</a> yourself and check the <a href=\"http://nbviewer.jupyter.org/github/bokeh/bokeh-notebooks/blob/master/tutorial/00%20-%20Introduction%20and%20Setup.ipynb\">tutorials</a>\n",
    "- Check the <a href=\"https://bokeh.pydata.org/en/latest/docs/gallery.html\">Bokeh package gallery</a>\n",
    "- <a href=\"https://bokeh.pydata.org/en/latest/docs/user_guide.html\">Documentation</a> is very extensive...\n",
    "    \n",
    "</div>"
   ]
  },
  {
   "cell_type": "markdown",
   "metadata": {},
   "source": [
    "### Plotly"
   ]
  },
  {
   "cell_type": "markdown",
   "metadata": {},
   "source": [
    "> _[plotly.py](https://plot.ly/python/) is an interactive, browser-based graphing library for Python_"
   ]
  },
  {
   "cell_type": "code",
   "execution_count": null,
   "metadata": {},
   "outputs": [],
   "source": [
    "import plotly"
   ]
  },
  {
   "cell_type": "markdown",
   "metadata": {},
   "source": [
    "Similar to Bokeh, Plotly provides a lot of building blocks for interactive plotting, see https://plot.ly/python/#fundamentals. It consists of two main components: __plotly__ provides all the basic components (so called `plotly.graph_objects`) to create plots and __plotly express__ provides a high-level wrapper/abstraction around `plotly.graph_objects` for rapid data exploration and figure generation. The latter focuses more on _tidy_ data representation.\n",
    "\n",
    "As an example: create a our example plot using the plotly `graph_objects`:"
   ]
  },
  {
   "cell_type": "code",
   "execution_count": null,
   "metadata": {},
   "outputs": [],
   "source": [
    "import plotly.graph_objects as go\n",
    "\n",
    "survival_rate = titanic.groupby(\"Pclass\")['Survived'].mean().reset_index()\n",
    "\n",
    "fig = go.Figure()\n",
    "\n",
    "fig.add_trace(go.Bar(\n",
    "    x=survival_rate[\"Pclass\"],\n",
    "    y=survival_rate[\"Survived\"])\n",
    ")\n",
    "fig.update_xaxes(type='category')\n",
    "fig.update_layout(\n",
    "    xaxis_title=\"Cabin class\",\n",
    "    yaxis_title=\"Survival rate\")\n",
    "fig.show()"
   ]
  },
  {
   "cell_type": "markdown",
   "metadata": {},
   "source": [
    "Similar to other high-level interfaces, this can be done by `Plotly Express` as well, supporting direct interaction with a Pandas `DataFrame`:"
   ]
  },
  {
   "cell_type": "code",
   "execution_count": null,
   "metadata": {},
   "outputs": [],
   "source": [
    "import plotly.express as px\n",
    "\n",
    "# plotly express does not provide the count statistics out of the box, so calculating these\n",
    "survival_rate = titanic.groupby(\"Pclass\")['Survived'].mean().reset_index() \n",
    "\n",
    "fig = px.bar(survival_rate, x=\"Pclass\", y=\"Survived\")\n",
    "fig.show()"
   ]
  },
  {
   "cell_type": "markdown",
   "metadata": {},
   "source": [
    "<div class=\"alert alert-danger\">\n",
    "\n",
    "**Notice!** \n",
    "\n",
    "Prior versions of plotly.py contained functionality for creating figures in both \"online\" and \"offline\" modes. Since version 4 plotly is \"offline\"-only. Make sure you check the latest documentation and watch out with outdated Stackoverflow suggestions. The previous commercial/online version is rebranded into <a href='https://plot.ly/online-chart-maker/'>chart studio</a>.\n",
    "\n",
    "</div>"
   ]
  },
  {
   "cell_type": "markdown",
   "metadata": {},
   "source": [
    "The main interface to use plotly with Pandas is using Plotly Express:"
   ]
  },
  {
   "cell_type": "code",
   "execution_count": null,
   "metadata": {},
   "outputs": [],
   "source": [
    "df = flow_data.reset_index()\n",
    "\n",
    "fig = px.line(flow_data.reset_index(), x=\"Time\", y=df.columns,\n",
    "              hover_data={\"Time\": \"|%B %d, %Y\"}\n",
    "             )\n",
    "fig.show()"
   ]
  },
  {
   "cell_type": "markdown",
   "metadata": {},
   "source": [
    "<div class=\"alert alert-info\">\n",
    "\n",
    "A similar advice as with Matplotlib/Bokeh: \"do as much as you easily can in your convenience layer of choice [e.g. plotly express].\n",
    "    \n",
    "**More plotly?**   \n",
    "\n",
    "- Check the <a href=\"https://plot.ly/python/\">package gallery</a> for plot examples.\n",
    "- Plotly express provides high level plotting functionalities and plotly graph objects the low level components.\n",
    "\n",
    "</div>"
   ]
  },
  {
   "cell_type": "markdown",
   "metadata": {},
   "source": [
    "<div class=\"alert alert-warning\">\n",
    "\n",
    " <b>For R users...</b>: \n",
    "<br><br>\n",
    "Both plotly and Bokeh provide interactivity (sliders,..), but are not the full equivalent of [`Rshiny`](https://shiny.rstudio.com/).<br>A similar functionality of Rshiny is provided by [`dash`](https://plot.ly/products/dash/), created by the same company as plotly.\n",
    "<br>\n",
    "\n",
    "</div>"
   ]
  },
  {
   "cell_type": "markdown",
   "metadata": {},
   "source": [
    "## Change the default Pandas plotting backend"
   ]
  },
  {
   "cell_type": "markdown",
   "metadata": {},
   "source": [
    "> _All slightly different syntax to create plots?!_"
   ]
  },
  {
   "cell_type": "markdown",
   "metadata": {},
   "source": [
    "Different people have different preferences in terms of style/syntax/... So having alternatives is nice. However, Pandas also provides the option to work with different plotting packages without changing the syntax...\n",
    "\n",
    "During the course, we used the `.plot()` method of Pandas to create charts, which relied on Matplotlib. Matplotlib is the default back-end for Pandas to create plots:"
   ]
  },
  {
   "cell_type": "code",
   "execution_count": null,
   "metadata": {},
   "outputs": [],
   "source": [
    "pd.options.plotting.backend = 'matplotlib'\n",
    "flow_data.plot()"
   ]
  },
  {
   "cell_type": "markdown",
   "metadata": {},
   "source": [
    "However, Holoviews/hvplot, Bokeh and Plotly can be used as Pandas back-end for plotting, by defining the `pd.options.plotting.backend` variable:"
   ]
  },
  {
   "cell_type": "code",
   "execution_count": null,
   "metadata": {},
   "outputs": [],
   "source": [
    "pd.options.plotting.backend = 'holoviews'\n",
    "flow_data.plot()"
   ]
  },
  {
   "cell_type": "code",
   "execution_count": null,
   "metadata": {},
   "outputs": [],
   "source": [
    "pd.options.plotting.backend = 'plotly'\n",
    "flow_data.plot()"
   ]
  },
  {
   "cell_type": "markdown",
   "metadata": {},
   "source": [
    "<div class=\"alert alert-info\">\n",
    "\n",
    "**Remember**\n",
    "\n",
    "To get an interactive version of a plot created with Pandas, switch the `pd.options.plotting.backend` to `'holoviews'` or `'plotly'` and keep using the `.plot` function as before.\n",
    "\n",
    "</div>"
   ]
  },
  {
   "cell_type": "markdown",
   "metadata": {},
   "source": [
    "<div class=\"alert alert-warning\">\n",
    "\n",
    "**Warning**\n",
    "\n",
    "When saving Jupyter notebooks with interactive visualizations in the output of multiple cells, the file size will increase a lot, making these files less suitable for version control. \n",
    "    \n",
    "Consider saving your notebook with the outputs cleared (Menu > `Kernel` > `Restart kernel and clear all outputs...`) or automate this with a tool like [nbstripout](https://pypi.org/project/nbstripout/).\n",
    "\n",
    "</div>"
   ]
  },
  {
   "cell_type": "markdown",
   "metadata": {},
   "source": [
    "## Your data sets are HUGE?"
   ]
  },
  {
   "cell_type": "markdown",
   "metadata": {},
   "source": [
    "When you are working with a lot of records, the visualization of the individual points does not always make sense as there are simply to many dots overlapping each other (check [this](https://datashader.org/user_guide/Plotting_Pitfalls.html) notebook for a more detailed explanation)."
   ]
  },
  {
   "cell_type": "markdown",
   "metadata": {},
   "source": [
    "Consider the open data set:\n",
    "> Bird tracking - GPS tracking of Lesser Black-backed Gulls and Herring Gulls breeding at the southern North Sea coast https://www.gbif.org/dataset/83e20573-f7dd-4852-9159-21566e1e691e with > 8e6 records"
   ]
  },
  {
   "cell_type": "markdown",
   "metadata": {},
   "source": [
    "Working with such a data set on a local machine is not straightforward anymore, as this data set will consume a lot of memory to be handled by the default plotting libraries. Moreover, visualizing every single dot is not useful anymore at coarser zoom levels."
   ]
  },
  {
   "cell_type": "markdown",
   "metadata": {},
   "source": [
    "The package [datashader](https://datashader.org/) provides a solution for this size of data sets and works together with other packages such as `Bokeh` and `Holoviews`."
   ]
  },
  {
   "cell_type": "markdown",
   "metadata": {},
   "source": [
    "The data from [the gull data set](https://zenodo.org/record/3541812#.XfZYcNko-V6) is downloaded and stored it in the `data` folder and is not part of the Github repository. For example, after downloading the [2018 data set](https://zenodo.org/record/3541812/files/HG_OOSTENDE-gps-2018.csv?download=1) from Zenodo:"
   ]
  },
  {
   "cell_type": "code",
   "execution_count": null,
   "metadata": {},
   "outputs": [],
   "source": [
    "import pandas as pd\n",
    "import holoviews as hv\n",
    "import hvplot.pandas \n",
    "from colorcet import fire\n",
    "\n",
    "hv.extension('bokeh')"
   ]
  },
  {
   "cell_type": "code",
   "execution_count": null,
   "metadata": {},
   "outputs": [],
   "source": [
    "df = pd.read_csv('data/HG_OOSTENDE-gps-2018.csv', nrows=1_000_000, # for the live demo on my laptop, I just use 1_000_000 points\n",
    "                 usecols=['location-long', 'location-lat', \n",
    "                          'individual-local-identifier'])\n",
    "df.head()"
   ]
  },
  {
   "cell_type": "code",
   "execution_count": null,
   "metadata": {},
   "outputs": [],
   "source": [
    "import warnings\n",
    "warnings.filterwarnings('ignore')"
   ]
  },
  {
   "cell_type": "code",
   "execution_count": null,
   "metadata": {},
   "outputs": [],
   "source": [
    "df.hvplot.points('location-long', 'location-lat', geo=True, tiles='ESRI', \n",
    "                 datashade=True, aggregator='count', cmap=fire, project=True,\n",
    "                 xlim=(-5, 5), ylim=(48, 53), frame_width=600)"
   ]
  },
  {
   "cell_type": "markdown",
   "metadata": {},
   "source": [
    "<div class=\"alert alert-info\">\n",
    "\n",
    " <b>When not to use datashader</b>\n",
    "\n",
    " <ul>\n",
    "    <li>Plotting less than 1e5 or 1e6 data points</li>\n",
    "    <li>When every datapoint matters; standard Bokeh will render all of them</li>\n",
    "    <li>For full interactivity (hover tools) with every datapoint</li>\n",
    " </ul>\n",
    "<br>\n",
    "\n",
    " <b>When to use datashader</b>\n",
    "\n",
    " <ul>\n",
    "    <li>Actual big data; when Bokeh/Matplotlib have trouble</li>\n",
    "    <li>When the distribution matters more than individual points</li>\n",
    "    <li>When you find yourself sampling or binning to better understand the distribution</li>\n",
    " </ul>\n",
    "<br>\n",
    "\n",
    "([source](http://nbviewer.jupyter.org/github/bokeh/bokeh-notebooks/blob/master/tutorial/A2%20-%20Visualizing%20Big%20Data%20with%20Datashader.ipynb))\n",
    "\n",
    "</div>"
   ]
  },
  {
   "cell_type": "markdown",
   "metadata": {},
   "source": [
    "<div class=\"alert alert-info\">\n",
    "\n",
    " <b>More alternatives for large data set visualisation that are worthwhile exploring:</b>: \n",
    "\n",
    " <ul>\n",
    "    <li><a href=\"http://vaex.astro.rug.nl/\">vaex</a> has a Pandas-like syntax and also provides on the fly binning or aggregating the data on a grid to be represented.</li>\n",
    "    <li><a href=\"https://glumpy.github.io/\">Glumpy</a> and <a href=\"http://vispy.org/\">Vispy</a>, which both rely on <a href=\"https://www.opengl.org/\">OpenGL</a> to achieve high performance</li>\n",
    "</ul>\n",
    "<br>\n",
    "\n",
    "</div>"
   ]
  },
  {
   "cell_type": "markdown",
   "metadata": {},
   "source": [
    "## You want to dive deeper into Python viz?"
   ]
  },
  {
   "cell_type": "markdown",
   "metadata": {},
   "source": [
    "For a overview of the status of Python visualisation packages and tools, have a look at the [pyviz](https://pyviz.org) website."
   ]
  },
  {
   "cell_type": "code",
   "execution_count": null,
   "metadata": {},
   "outputs": [],
   "source": [
    "from IPython.display import Image\n",
    "Image('https://raw.githubusercontent.com/rougier/python-visualization-landscape/master/landscape.png')"
   ]
  },
  {
   "cell_type": "markdown",
   "metadata": {},
   "source": [
    "or check the interactive version [here](https://rougier.github.io/python-visualization-landscape/landscape-colors.html)."
   ]
  },
  {
   "cell_type": "markdown",
   "metadata": {},
   "source": [
    "Further reading: http://journals.plos.org/ploscompbiol/article?id=10.1371/journal.pcbi.1003833"
   ]
  },
  {
   "cell_type": "markdown",
   "metadata": {},
   "source": [
    "<div class=\"alert alert-info\">\n",
    "\n",
    " <b>Remember - Check the package galleries</b>: \n",
    "\n",
    "- <a href=\"https://matplotlib.org/gallery.html\">Matplotlib gallery</a>.\n",
    "- <a href=\"http://seaborn.pydata.org/examples/\">Seaborn gallery</a>.\n",
    "- <a href=\"http://plotnine.readthedocs.io/en/stable/gallery.html\">Plotnine gallery</a> and <a href=\"https://www.r-graph-gallery.com/portfolio/ggplot2-package/\">R ggplot2 gallery</a>.\n",
    "- An overview based on the type of graph using Python is given <a href=\"https://python-graph-gallery.com/\">here</a>.\n",
    "\n",
    "</div>"
   ]
  },
  {
   "cell_type": "markdown",
   "metadata": {},
   "source": [
    "## Acknowledgements\n",
    "\n",
    "\n",
    "- https://speakerdeck.com/jakevdp/pythons-visualization-landscape-pycon-2017"
   ]
  }
 ],
 "metadata": {
  "jupytext": {
   "formats": "ipynb,md:myst"
  },
  "kernelspec": {
   "display_name": "Python 3 (ipykernel)",
   "language": "python",
   "name": "python3"
  },
  "language_info": {
   "codemirror_mode": {
    "name": "ipython",
    "version": 3
   },
   "file_extension": ".py",
   "mimetype": "text/x-python",
   "name": "python",
   "nbconvert_exporter": "python",
   "pygments_lexer": "ipython3",
   "version": "3.9.12"
  },
  "widgets": {
   "application/vnd.jupyter.widget-state+json": {
    "state": {},
    "version_major": 2,
    "version_minor": 0
   }
  }
 },
 "nbformat": 4,
 "nbformat_minor": 4
}